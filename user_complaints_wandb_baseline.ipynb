{
 "cells": [
  {
   "cell_type": "code",
   "execution_count": null,
   "metadata": {
    "id": "-_RQOcevs8PZ"
   },
   "outputs": [],
   "source": []
  },
  {
   "cell_type": "markdown",
   "metadata": {
    "id": "F-LXjtbQtHWI"
   },
   "source": [
    "# Text Classification on user complaints using W&B Tables and Artifacts\n",
    "\n",
    "# Create a baseline model\n",
    "\n",
    "We are going to build a baseline model, our first approach to the problema. Later we can compare more advanced model, trying to get a better performance.\n",
    "This initial model is a Convolutional 1D model in keras applied to a text classificatio task. It is a simple and small model that we can easily use in a low performance compute instance.\n",
    "\n",
    "### Importing the libraries"
   ]
  },
  {
   "cell_type": "markdown",
   "metadata": {
    "id": "GVQnBqQ6wqvE"
   },
   "source": [
    "First, we need to download the wandb library"
   ]
  },
  {
   "cell_type": "code",
   "execution_count": 1,
   "metadata": {
    "id": "TNXqPeCVwp72",
    "tags": []
   },
   "outputs": [
    {
     "name": "stdout",
     "output_type": "stream",
     "text": [
      "Collecting scikit-plot\n",
      "  Downloading scikit_plot-0.3.7-py3-none-any.whl (33 kB)\n",
      "Requirement already satisfied: joblib>=0.10 in /home/studio-lab-user/.conda/envs/default/lib/python3.9/site-packages (from scikit-plot) (1.3.2)\n",
      "Requirement already satisfied: matplotlib>=1.4.0 in /home/studio-lab-user/.conda/envs/default/lib/python3.9/site-packages (from scikit-plot) (3.7.2)\n",
      "Requirement already satisfied: scipy>=0.9 in /home/studio-lab-user/.conda/envs/default/lib/python3.9/site-packages (from scikit-plot) (1.11.2)\n",
      "Requirement already satisfied: scikit-learn>=0.18 in /home/studio-lab-user/.conda/envs/default/lib/python3.9/site-packages (from scikit-plot) (1.3.0)\n",
      "Requirement already satisfied: kiwisolver>=1.0.1 in /home/studio-lab-user/.conda/envs/default/lib/python3.9/site-packages (from matplotlib>=1.4.0->scikit-plot) (1.4.4)\n",
      "Requirement already satisfied: numpy>=1.20 in /home/studio-lab-user/.conda/envs/default/lib/python3.9/site-packages (from matplotlib>=1.4.0->scikit-plot) (1.25.2)\n",
      "Requirement already satisfied: importlib-resources>=3.2.0 in /home/studio-lab-user/.conda/envs/default/lib/python3.9/site-packages (from matplotlib>=1.4.0->scikit-plot) (5.12.0)\n",
      "Requirement already satisfied: cycler>=0.10 in /home/studio-lab-user/.conda/envs/default/lib/python3.9/site-packages (from matplotlib>=1.4.0->scikit-plot) (0.11.0)\n",
      "Requirement already satisfied: contourpy>=1.0.1 in /home/studio-lab-user/.conda/envs/default/lib/python3.9/site-packages (from matplotlib>=1.4.0->scikit-plot) (1.1.0)\n",
      "Requirement already satisfied: fonttools>=4.22.0 in /home/studio-lab-user/.conda/envs/default/lib/python3.9/site-packages (from matplotlib>=1.4.0->scikit-plot) (4.42.0)\n",
      "Requirement already satisfied: packaging>=20.0 in /home/studio-lab-user/.conda/envs/default/lib/python3.9/site-packages (from matplotlib>=1.4.0->scikit-plot) (23.0)\n",
      "Requirement already satisfied: python-dateutil>=2.7 in /home/studio-lab-user/.conda/envs/default/lib/python3.9/site-packages (from matplotlib>=1.4.0->scikit-plot) (2.8.2)\n",
      "Requirement already satisfied: pillow>=6.2.0 in /home/studio-lab-user/.conda/envs/default/lib/python3.9/site-packages (from matplotlib>=1.4.0->scikit-plot) (10.0.0)\n",
      "Requirement already satisfied: pyparsing<3.1,>=2.3.1 in /home/studio-lab-user/.conda/envs/default/lib/python3.9/site-packages (from matplotlib>=1.4.0->scikit-plot) (3.0.9)\n",
      "Requirement already satisfied: zipp>=3.1.0 in /home/studio-lab-user/.conda/envs/default/lib/python3.9/site-packages (from importlib-resources>=3.2.0->matplotlib>=1.4.0->scikit-plot) (3.15.0)\n",
      "Requirement already satisfied: six>=1.5 in /home/studio-lab-user/.conda/envs/default/lib/python3.9/site-packages (from python-dateutil>=2.7->matplotlib>=1.4.0->scikit-plot) (1.16.0)\n",
      "Requirement already satisfied: threadpoolctl>=2.0.0 in /home/studio-lab-user/.conda/envs/default/lib/python3.9/site-packages (from scikit-learn>=0.18->scikit-plot) (3.2.0)\n",
      "Installing collected packages: scikit-plot\n",
      "Successfully installed scikit-plot-0.3.7\n"
     ]
    }
   ],
   "source": [
    "!pip install wandb -qqq\n",
    "!pip install scikit-plot"
   ]
  },
  {
   "cell_type": "code",
   "execution_count": 5,
   "metadata": {
    "tags": []
   },
   "outputs": [
    {
     "name": "stdout",
     "output_type": "stream",
     "text": [
      "Requirement already satisfied: keras in /home/studio-lab-user/.conda/envs/default/lib/python3.9/site-packages (2.13.1)\n",
      "Collecting tensorflow\n",
      "  Downloading tensorflow-2.13.0-cp39-cp39-manylinux_2_17_x86_64.manylinux2014_x86_64.whl (524.1 MB)\n",
      "\u001b[K     |████████████████████████████████| 524.1 MB 19 kB/s /s eta 0:00:01                   | 31.2 MB 3.5 MB/s eta 0:02:23 |█████                           | 82.2 MB 22.2 MB/s eta 0:00:20��███▍                        | 120.6 MB 22.2 MB/s eta 0:00:19MB 22.2 MB/s eta 0:00:18��███▍                      | 154.5 MB 22.2 MB/s eta 0:00:17��▋               | 271.7 MB 17.9 MB/s eta 0:00:15:00:04:00:04     |██████████████████████▌         | 368.2 MB 46.3 MB/s eta 0:00:04     |██████████████████████▊         | 371.3 MB 46.3 MB/s eta 0:00:04�██████████▌        | 385.1 MB 71.4 MB/s eta 0:00:02�██████████▊        | 387.7 MB 71.4 MB/s eta 0:00:02��████████████        | 392.7 MB 71.4 MB/s eta 0:00:02��██▋     | 436.1 MB 71.4 MB/s eta 0:00:02MB 125.4 MB/s eta 0:00:01████▊  | 487.0 MB 125.4 MB/s eta 0:00:01�████████████████████████▉ | 505.6 MB 125.4 MB/s eta 0:00:01\n",
      "\u001b[?25hCollecting wrapt>=1.11.0\n",
      "  Downloading wrapt-1.15.0-cp39-cp39-manylinux_2_5_x86_64.manylinux1_x86_64.manylinux_2_17_x86_64.manylinux2014_x86_64.whl (78 kB)\n",
      "\u001b[K     |████████████████████████████████| 78 kB 6.5 MB/s  eta 0:00:01\n",
      "\u001b[?25hCollecting opt-einsum>=2.3.2\n",
      "  Downloading opt_einsum-3.3.0-py3-none-any.whl (65 kB)\n",
      "\u001b[K     |████████████████████████████████| 65 kB 6.9 MB/s  eta 0:00:01\n",
      "\u001b[?25hCollecting absl-py>=1.0.0\n",
      "  Downloading absl_py-1.4.0-py3-none-any.whl (126 kB)\n",
      "\u001b[K     |████████████████████████████████| 126 kB 27.2 MB/s eta 0:00:01\n",
      "\u001b[?25hRequirement already satisfied: setuptools in /home/studio-lab-user/.conda/envs/default/lib/python3.9/site-packages (from tensorflow) (67.6.1)\n",
      "Collecting tensorboard<2.14,>=2.13\n",
      "  Downloading tensorboard-2.13.0-py3-none-any.whl (5.6 MB)\n",
      "\u001b[K     |████████████████████████████████| 5.6 MB 48.1 MB/s eta 0:00:01\n",
      "\u001b[?25hCollecting termcolor>=1.1.0\n",
      "  Downloading termcolor-2.3.0-py3-none-any.whl (6.9 kB)\n",
      "Collecting google-pasta>=0.1.1\n",
      "  Downloading google_pasta-0.2.0-py3-none-any.whl (57 kB)\n",
      "\u001b[K     |████████████████████████████████| 57 kB 9.4 MB/s  eta 0:00:01\n",
      "\u001b[?25hRequirement already satisfied: protobuf!=4.21.0,!=4.21.1,!=4.21.2,!=4.21.3,!=4.21.4,!=4.21.5,<5.0.0dev,>=3.20.3 in /home/studio-lab-user/.conda/envs/default/lib/python3.9/site-packages (from tensorflow) (4.24.0)\n",
      "Collecting astunparse>=1.6.0\n",
      "  Downloading astunparse-1.6.3-py2.py3-none-any.whl (12 kB)\n",
      "Collecting grpcio<2.0,>=1.24.3\n",
      "  Downloading grpcio-1.57.0-cp39-cp39-manylinux_2_17_x86_64.manylinux2014_x86_64.whl (5.3 MB)\n",
      "\u001b[K     |████████████████████████████████| 5.3 MB 45.8 MB/s eta 0:00:01     |█████                           | 819 kB 45.8 MB/s eta 0:00:01\n",
      "\u001b[?25hCollecting tensorflow-estimator<2.14,>=2.13.0\n",
      "  Downloading tensorflow_estimator-2.13.0-py2.py3-none-any.whl (440 kB)\n",
      "\u001b[K     |████████████████████████████████| 440 kB 64.5 MB/s eta 0:00:01\n",
      "\u001b[?25hCollecting numpy<=1.24.3,>=1.22\n",
      "  Downloading numpy-1.24.3-cp39-cp39-manylinux_2_17_x86_64.manylinux2014_x86_64.whl (17.3 MB)\n",
      "\u001b[K     |████████████████████████████████| 17.3 MB 86.8 MB/s eta 0:00:01\n",
      "\u001b[?25hCollecting libclang>=13.0.0\n",
      "  Downloading libclang-16.0.6-py2.py3-none-manylinux2010_x86_64.whl (22.9 MB)\n",
      "\u001b[K     |████████████████████████████████| 22.9 MB 63.2 MB/s eta 0:00:01███████████████████▉     | 19.2 MB 63.2 MB/s eta 0:00:01\n",
      "\u001b[?25hCollecting typing-extensions<4.6.0,>=3.6.6\n",
      "  Downloading typing_extensions-4.5.0-py3-none-any.whl (27 kB)\n",
      "Collecting tensorflow-io-gcs-filesystem>=0.23.1\n",
      "  Downloading tensorflow_io_gcs_filesystem-0.33.0-cp39-cp39-manylinux_2_12_x86_64.manylinux2010_x86_64.whl (2.4 MB)\n",
      "\u001b[K     |████████████████████████████████| 2.4 MB 19.2 MB/s eta 0:00:01\n",
      "\u001b[?25hRequirement already satisfied: packaging in /home/studio-lab-user/.conda/envs/default/lib/python3.9/site-packages (from tensorflow) (23.0)\n",
      "Requirement already satisfied: six>=1.12.0 in /home/studio-lab-user/.conda/envs/default/lib/python3.9/site-packages (from tensorflow) (1.16.0)\n",
      "Collecting gast<=0.4.0,>=0.2.1\n",
      "  Downloading gast-0.4.0-py3-none-any.whl (9.8 kB)\n",
      "Collecting flatbuffers>=23.1.21\n",
      "  Downloading flatbuffers-23.5.26-py2.py3-none-any.whl (26 kB)\n",
      "Collecting h5py>=2.9.0\n",
      "  Downloading h5py-3.9.0-cp39-cp39-manylinux_2_17_x86_64.manylinux2014_x86_64.whl (4.8 MB)\n",
      "\u001b[K     |████████████████████████████████| 4.8 MB 26.9 MB/s eta 0:00:01\n",
      "\u001b[?25hRequirement already satisfied: wheel<1.0,>=0.23.0 in /home/studio-lab-user/.conda/envs/default/lib/python3.9/site-packages (from astunparse>=1.6.0->tensorflow) (0.40.0)\n",
      "Collecting google-auth-oauthlib<1.1,>=0.5\n",
      "  Downloading google_auth_oauthlib-1.0.0-py2.py3-none-any.whl (18 kB)\n",
      "Collecting tensorboard-data-server<0.8.0,>=0.7.0\n",
      "  Downloading tensorboard_data_server-0.7.1-py3-none-manylinux2014_x86_64.whl (6.6 MB)\n",
      "\u001b[K     |████████████████████████████████| 6.6 MB 75.4 MB/s eta 0:00:01\n",
      "\u001b[?25hCollecting werkzeug>=1.0.1\n",
      "  Downloading werkzeug-2.3.7-py3-none-any.whl (242 kB)\n",
      "\u001b[K     |████████████████████████████████| 242 kB 64.5 MB/s eta 0:00:01\n",
      "\u001b[?25hCollecting google-auth<3,>=1.6.3\n",
      "  Downloading google_auth-2.22.0-py2.py3-none-any.whl (181 kB)\n",
      "\u001b[K     |████████████████████████████████| 181 kB 74.1 MB/s eta 0:00:01\n",
      "\u001b[?25hRequirement already satisfied: requests<3,>=2.21.0 in /home/studio-lab-user/.conda/envs/default/lib/python3.9/site-packages (from tensorboard<2.14,>=2.13->tensorflow) (2.31.0)\n",
      "Collecting markdown>=2.6.8\n",
      "  Downloading Markdown-3.4.4-py3-none-any.whl (94 kB)\n",
      "\u001b[K     |████████████████████████████████| 94 kB 4.6 MB/s  eta 0:00:01\n",
      "\u001b[?25hCollecting pyasn1-modules>=0.2.1\n",
      "  Downloading pyasn1_modules-0.3.0-py2.py3-none-any.whl (181 kB)\n",
      "\u001b[K     |████████████████████████████████| 181 kB 67.2 MB/s eta 0:00:01\n",
      "\u001b[?25hCollecting cachetools<6.0,>=2.0.0\n",
      "  Downloading cachetools-5.3.1-py3-none-any.whl (9.3 kB)\n",
      "Collecting rsa<5,>=3.1.4\n",
      "  Downloading rsa-4.9-py3-none-any.whl (34 kB)\n",
      "Collecting urllib3<2.0\n",
      "  Downloading urllib3-1.26.16-py2.py3-none-any.whl (143 kB)\n",
      "\u001b[K     |████████████████████████████████| 143 kB 8.9 MB/s eta 0:00:01\n",
      "\u001b[?25hCollecting requests-oauthlib>=0.7.0\n",
      "  Downloading requests_oauthlib-1.3.1-py2.py3-none-any.whl (23 kB)\n",
      "Requirement already satisfied: importlib-metadata>=4.4 in /home/studio-lab-user/.conda/envs/default/lib/python3.9/site-packages (from markdown>=2.6.8->tensorboard<2.14,>=2.13->tensorflow) (6.1.0)\n",
      "Requirement already satisfied: zipp>=0.5 in /home/studio-lab-user/.conda/envs/default/lib/python3.9/site-packages (from importlib-metadata>=4.4->markdown>=2.6.8->tensorboard<2.14,>=2.13->tensorflow) (3.15.0)\n",
      "Collecting pyasn1<0.6.0,>=0.4.6\n",
      "  Downloading pyasn1-0.5.0-py2.py3-none-any.whl (83 kB)\n",
      "\u001b[K     |████████████████████████████████| 83 kB 2.7 MB/s  eta 0:00:01\n",
      "\u001b[?25hRequirement already satisfied: charset-normalizer<4,>=2 in /home/studio-lab-user/.conda/envs/default/lib/python3.9/site-packages (from requests<3,>=2.21.0->tensorboard<2.14,>=2.13->tensorflow) (3.2.0)\n",
      "Requirement already satisfied: certifi>=2017.4.17 in /home/studio-lab-user/.conda/envs/default/lib/python3.9/site-packages (from requests<3,>=2.21.0->tensorboard<2.14,>=2.13->tensorflow) (2023.7.22)\n",
      "Requirement already satisfied: idna<4,>=2.5 in /home/studio-lab-user/.conda/envs/default/lib/python3.9/site-packages (from requests<3,>=2.21.0->tensorboard<2.14,>=2.13->tensorflow) (3.4)\n",
      "Collecting oauthlib>=3.0.0\n",
      "  Downloading oauthlib-3.2.2-py3-none-any.whl (151 kB)\n",
      "\u001b[K     |████████████████████████████████| 151 kB 32.1 MB/s eta 0:00:01\n",
      "\u001b[?25hRequirement already satisfied: MarkupSafe>=2.1.1 in /home/studio-lab-user/.conda/envs/default/lib/python3.9/site-packages (from werkzeug>=1.0.1->tensorboard<2.14,>=2.13->tensorflow) (2.1.2)\n",
      "Installing collected packages: urllib3, pyasn1, rsa, pyasn1-modules, oauthlib, cachetools, requests-oauthlib, google-auth, werkzeug, tensorboard-data-server, numpy, markdown, grpcio, google-auth-oauthlib, absl-py, wrapt, typing-extensions, termcolor, tensorflow-io-gcs-filesystem, tensorflow-estimator, tensorboard, opt-einsum, libclang, h5py, google-pasta, gast, flatbuffers, astunparse, tensorflow\n",
      "  Attempting uninstall: urllib3\n",
      "    Found existing installation: urllib3 2.0.4\n",
      "    Uninstalling urllib3-2.0.4:\n",
      "      Successfully uninstalled urllib3-2.0.4\n",
      "  Attempting uninstall: numpy\n",
      "    Found existing installation: numpy 1.25.2\n",
      "    Uninstalling numpy-1.25.2:\n",
      "      Successfully uninstalled numpy-1.25.2\n",
      "  Attempting uninstall: typing-extensions\n",
      "    Found existing installation: typing-extensions 4.7.1\n",
      "    Uninstalling typing-extensions-4.7.1:\n",
      "      Successfully uninstalled typing-extensions-4.7.1\n",
      "\u001b[31mERROR: pip's dependency resolver does not currently take into account all the packages that are installed. This behaviour is the source of the following dependency conflicts.\n",
      "pydantic 2.1.1 requires typing-extensions>=4.6.1, but you have typing-extensions 4.5.0 which is incompatible.\n",
      "pydantic-core 2.4.0 requires typing-extensions!=4.7.0,>=4.6.0, but you have typing-extensions 4.5.0 which is incompatible.\u001b[0m\n",
      "Successfully installed absl-py-1.4.0 astunparse-1.6.3 cachetools-5.3.1 flatbuffers-23.5.26 gast-0.4.0 google-auth-2.22.0 google-auth-oauthlib-1.0.0 google-pasta-0.2.0 grpcio-1.57.0 h5py-3.9.0 libclang-16.0.6 markdown-3.4.4 numpy-1.24.3 oauthlib-3.2.2 opt-einsum-3.3.0 pyasn1-0.5.0 pyasn1-modules-0.3.0 requests-oauthlib-1.3.1 rsa-4.9 tensorboard-2.13.0 tensorboard-data-server-0.7.1 tensorflow-2.13.0 tensorflow-estimator-2.13.0 tensorflow-io-gcs-filesystem-0.33.0 termcolor-2.3.0 typing-extensions-4.5.0 urllib3-1.26.16 werkzeug-2.3.7 wrapt-1.15.0\n"
     ]
    }
   ],
   "source": [
    "!pip install keras tensorflow"
   ]
  },
  {
   "cell_type": "code",
   "execution_count": 6,
   "metadata": {
    "id": "AhHrDKfXt62l",
    "tags": []
   },
   "outputs": [
    {
     "name": "stderr",
     "output_type": "stream",
     "text": [
      "2023-08-27 17:05:37.380253: I tensorflow/tsl/cuda/cudart_stub.cc:28] Could not find cuda drivers on your machine, GPU will not be used.\n",
      "2023-08-27 17:05:37.442295: I tensorflow/tsl/cuda/cudart_stub.cc:28] Could not find cuda drivers on your machine, GPU will not be used.\n",
      "2023-08-27 17:05:37.443291: I tensorflow/core/platform/cpu_feature_guard.cc:182] This TensorFlow binary is optimized to use available CPU instructions in performance-critical operations.\n",
      "To enable the following instructions: AVX2 AVX512F FMA, in other operations, rebuild TensorFlow with the appropriate compiler flags.\n",
      "2023-08-27 17:05:38.421535: W tensorflow/compiler/tf2tensorrt/utils/py_utils.cc:38] TF-TRT Warning: Could not find TensorRT\n"
     ]
    }
   ],
   "source": [
    "import wandb\n",
    "import pandas as pd\n",
    "import matplotlib.pyplot as plt\n",
    "\n",
    "import numpy as np\n",
    "from numpy.random import seed\n",
    "\n",
    "from pathlib import Path\n",
    "\n",
    "from keras.preprocessing.text import Tokenizer\n",
    "from keras.utils import pad_sequences\n",
    "from keras.utils import set_random_seed\n",
    "\n",
    "import tensorflow as tf\n",
    "\n",
    "from tensorflow.keras.models import Model\n",
    "from tensorflow.keras.layers import Input, Embedding, Conv1D, Dense\n",
    "\n",
    "from wandb.keras import WandbMetricsLogger, WandbModelCheckpoint\n",
    "\n",
    "from sklearn.metrics import accuracy_score, classification_report\n",
    "from sklearn.metrics import confusion_matrix\n",
    "import scikitplot as skplt"
   ]
  },
  {
   "cell_type": "markdown",
   "metadata": {
    "id": "mLnPf6ATOqUu"
   },
   "source": [
    "We are setting seed for reproducibility"
   ]
  },
  {
   "cell_type": "code",
   "execution_count": 7,
   "metadata": {
    "id": "B6TsCkzgwOOi",
    "tags": []
   },
   "outputs": [],
   "source": [
    "# To reproduce the experiment\n",
    "s=42\n",
    "# Set the seed for reproducibility\n",
    "set_random_seed(s)"
   ]
  },
  {
   "cell_type": "markdown",
   "metadata": {
    "id": "8fuCDSsEuFSj"
   },
   "source": [
    "## Download the data from W&B Artifacts"
   ]
  },
  {
   "cell_type": "markdown",
   "metadata": {
    "id": "HkDajVYPuTox"
   },
   "source": [
    "Download the data from the Artifact we save previously, we will use W&B Artifacts to track the lineage of our models."
   ]
  },
  {
   "cell_type": "code",
   "execution_count": 15,
   "metadata": {
    "id": "EELVHXqAu8SG",
    "tags": []
   },
   "outputs": [],
   "source": [
    "WANDB_PROJECT = \"consumer_complaints_classification\"\n",
    "ENTITY = None # set this to team name if working in a team\n",
    "RAW_DATA_AT = 'consumer_complaints_eda'\n",
    "PROCESSED_DATA_AT = 'consumer_complaints_split'\n",
    "SPLIT_FILENAME = 'consumer_complaints_split.csv'\n",
    "BASELINE_DATA_AT = 'consumer_complaints_baseline'"
   ]
  },
  {
   "cell_type": "code",
   "execution_count": 16,
   "metadata": {
    "id": "BD9yGlLPuJ81",
    "tags": []
   },
   "outputs": [
    {
     "data": {
      "text/html": [
       "Tracking run with wandb version 0.15.8"
      ],
      "text/plain": [
       "<IPython.core.display.HTML object>"
      ]
     },
     "metadata": {},
     "output_type": "display_data"
    },
    {
     "data": {
      "text/html": [
       "Run data is saved locally in <code>/home/studio-lab-user/sagemaker-studiolab-notebooks/wandb/run-20230827_173521-o92pyt0v</code>"
      ],
      "text/plain": [
       "<IPython.core.display.HTML object>"
      ]
     },
     "metadata": {},
     "output_type": "display_data"
    },
    {
     "data": {
      "text/html": [
       "Syncing run <strong><a href='https://wandb.ai/edumunozsala/consumer_complaints_classification/runs/o92pyt0v' target=\"_blank\">warm-blaze-5</a></strong> to <a href='https://wandb.ai/edumunozsala/consumer_complaints_classification' target=\"_blank\">Weights & Biases</a> (<a href='https://wandb.me/run' target=\"_blank\">docs</a>)<br/>"
      ],
      "text/plain": [
       "<IPython.core.display.HTML object>"
      ]
     },
     "metadata": {},
     "output_type": "display_data"
    },
    {
     "data": {
      "text/html": [
       " View project at <a href='https://wandb.ai/edumunozsala/consumer_complaints_classification' target=\"_blank\">https://wandb.ai/edumunozsala/consumer_complaints_classification</a>"
      ],
      "text/plain": [
       "<IPython.core.display.HTML object>"
      ]
     },
     "metadata": {},
     "output_type": "display_data"
    },
    {
     "data": {
      "text/html": [
       " View run at <a href='https://wandb.ai/edumunozsala/consumer_complaints_classification/runs/o92pyt0v' target=\"_blank\">https://wandb.ai/edumunozsala/consumer_complaints_classification/runs/o92pyt0v</a>"
      ],
      "text/plain": [
       "<IPython.core.display.HTML object>"
      ]
     },
     "metadata": {},
     "output_type": "display_data"
    },
    {
     "name": "stderr",
     "output_type": "stream",
     "text": [
      "\u001b[34m\u001b[1mwandb\u001b[0m: Downloading large artifact consumer_complaints_split:latest, 98.06MB. 2 files... \n",
      "\u001b[34m\u001b[1mwandb\u001b[0m:   2 of 2 files downloaded.  \n",
      "Done. 0:0:0.8\n"
     ]
    }
   ],
   "source": [
    "# Init the wandb session in our project\n",
    "run = wandb.init(project=WANDB_PROJECT, entity=None, job_type=\"training\")\n",
    "# Define the artifact to use\n",
    "processed_data_at = run.use_artifact(f'{PROCESSED_DATA_AT}:latest', type='split_data')\n",
    "# Download the data in the artifact\n",
    "processed_dataset_dir = Path(processed_data_at.download())\n"
   ]
  },
  {
   "cell_type": "code",
   "execution_count": 17,
   "metadata": {
    "id": "CFMvQTUExcze",
    "tags": []
   },
   "outputs": [
    {
     "data": {
      "text/plain": [
       "PosixPath('artifacts/consumer_complaints_split:v0')"
      ]
     },
     "execution_count": 17,
     "metadata": {},
     "output_type": "execute_result"
    }
   ],
   "source": [
    "processed_dataset_dir"
   ]
  },
  {
   "cell_type": "code",
   "execution_count": 18,
   "metadata": {
    "id": "mr4o_KufvTgK",
    "tags": []
   },
   "outputs": [
    {
     "data": {
      "text/html": [
       "<div>\n",
       "<style scoped>\n",
       "    .dataframe tbody tr th:only-of-type {\n",
       "        vertical-align: middle;\n",
       "    }\n",
       "\n",
       "    .dataframe tbody tr th {\n",
       "        vertical-align: top;\n",
       "    }\n",
       "\n",
       "    .dataframe thead th {\n",
       "        text-align: right;\n",
       "    }\n",
       "</style>\n",
       "<table border=\"1\" class=\"dataframe\">\n",
       "  <thead>\n",
       "    <tr style=\"text-align: right;\">\n",
       "      <th></th>\n",
       "      <th>product</th>\n",
       "      <th>narrative</th>\n",
       "      <th>stage</th>\n",
       "    </tr>\n",
       "  </thead>\n",
       "  <tbody>\n",
       "    <tr>\n",
       "      <th>0</th>\n",
       "      <td>credit_card</td>\n",
       "      <td>card hacked called able cancel card order repl...</td>\n",
       "      <td>train</td>\n",
       "    </tr>\n",
       "    <tr>\n",
       "      <th>1</th>\n",
       "      <td>debt_collection</td>\n",
       "      <td>received letter convergent outsourcing inc was...</td>\n",
       "      <td>train</td>\n",
       "    </tr>\n",
       "    <tr>\n",
       "      <th>2</th>\n",
       "      <td>credit_reporting</td>\n",
       "      <td>much time many error law broken funny year try...</td>\n",
       "      <td>train</td>\n",
       "    </tr>\n",
       "    <tr>\n",
       "      <th>3</th>\n",
       "      <td>credit_reporting</td>\n",
       "      <td>past two month trying get total hard inquiry r...</td>\n",
       "      <td>train</td>\n",
       "    </tr>\n",
       "    <tr>\n",
       "      <th>4</th>\n",
       "      <td>credit_reporting</td>\n",
       "      <td>reporting outrageous erroneous debt credit fil...</td>\n",
       "      <td>train</td>\n",
       "    </tr>\n",
       "  </tbody>\n",
       "</table>\n",
       "</div>"
      ],
      "text/plain": [
       "            product                                          narrative  stage\n",
       "0       credit_card  card hacked called able cancel card order repl...  train\n",
       "1   debt_collection  received letter convergent outsourcing inc was...  train\n",
       "2  credit_reporting  much time many error law broken funny year try...  train\n",
       "3  credit_reporting  past two month trying get total hard inquiry r...  train\n",
       "4  credit_reporting  reporting outrageous erroneous debt credit fil...  train"
      ]
     },
     "execution_count": 18,
     "metadata": {},
     "output_type": "execute_result"
    }
   ],
   "source": [
    "# Read the data from the artifact as a csv file\n",
    "df = pd.read_csv(processed_dataset_dir / SPLIT_FILENAME)\n",
    "# Show some data\n",
    "df.head(5)"
   ]
  },
  {
   "cell_type": "markdown",
   "metadata": {
    "id": "c385-THHyITv"
   },
   "source": [
    "## Create the train, validation and test dataset for training"
   ]
  },
  {
   "cell_type": "markdown",
   "metadata": {
    "id": "lAyffcoo1aXV"
   },
   "source": [
    "We need to convert the product column to numerical values"
   ]
  },
  {
   "cell_type": "code",
   "execution_count": 19,
   "metadata": {
    "id": "mn_r-6cI1i5C",
    "tags": []
   },
   "outputs": [
    {
     "data": {
      "text/html": [
       "<div>\n",
       "<style scoped>\n",
       "    .dataframe tbody tr th:only-of-type {\n",
       "        vertical-align: middle;\n",
       "    }\n",
       "\n",
       "    .dataframe tbody tr th {\n",
       "        vertical-align: top;\n",
       "    }\n",
       "\n",
       "    .dataframe thead th {\n",
       "        text-align: right;\n",
       "    }\n",
       "</style>\n",
       "<table border=\"1\" class=\"dataframe\">\n",
       "  <thead>\n",
       "    <tr style=\"text-align: right;\">\n",
       "      <th></th>\n",
       "      <th>product</th>\n",
       "      <th>narrative</th>\n",
       "      <th>stage</th>\n",
       "    </tr>\n",
       "  </thead>\n",
       "  <tbody>\n",
       "    <tr>\n",
       "      <th>0</th>\n",
       "      <td>0</td>\n",
       "      <td>card hacked called able cancel card order repl...</td>\n",
       "      <td>train</td>\n",
       "    </tr>\n",
       "    <tr>\n",
       "      <th>1</th>\n",
       "      <td>1</td>\n",
       "      <td>received letter convergent outsourcing inc was...</td>\n",
       "      <td>train</td>\n",
       "    </tr>\n",
       "    <tr>\n",
       "      <th>2</th>\n",
       "      <td>2</td>\n",
       "      <td>much time many error law broken funny year try...</td>\n",
       "      <td>train</td>\n",
       "    </tr>\n",
       "    <tr>\n",
       "      <th>3</th>\n",
       "      <td>2</td>\n",
       "      <td>past two month trying get total hard inquiry r...</td>\n",
       "      <td>train</td>\n",
       "    </tr>\n",
       "    <tr>\n",
       "      <th>4</th>\n",
       "      <td>2</td>\n",
       "      <td>reporting outrageous erroneous debt credit fil...</td>\n",
       "      <td>train</td>\n",
       "    </tr>\n",
       "  </tbody>\n",
       "</table>\n",
       "</div>"
      ],
      "text/plain": [
       "   product                                          narrative  stage\n",
       "0        0  card hacked called able cancel card order repl...  train\n",
       "1        1  received letter convergent outsourcing inc was...  train\n",
       "2        2  much time many error law broken funny year try...  train\n",
       "3        2  past two month trying get total hard inquiry r...  train\n",
       "4        2  reporting outrageous erroneous debt credit fil...  train"
      ]
     },
     "execution_count": 19,
     "metadata": {},
     "output_type": "execute_result"
    }
   ],
   "source": [
    "# Extract the unique category values\n",
    "target_classes = df['product'].unique()\n",
    "# Create a dictionary\n",
    "target_values = dict(zip(target_classes, range(5)))\n",
    "# Replace values in column product with integer values using the dict\n",
    "df.replace({'product': target_values}, inplace=True)\n",
    "# Show the conversion\n",
    "df.head(5)"
   ]
  },
  {
   "cell_type": "code",
   "execution_count": 20,
   "metadata": {
    "tags": []
   },
   "outputs": [
    {
     "data": {
      "text/plain": [
       "product\n",
       "1    15000\n",
       "4    15000\n",
       "2    15000\n",
       "0    14983\n",
       "3    13469\n",
       "Name: count, dtype: int64"
      ]
     },
     "execution_count": 20,
     "metadata": {},
     "output_type": "execute_result"
    }
   ],
   "source": [
    "df['product'].value_counts()"
   ]
  },
  {
   "cell_type": "markdown",
   "metadata": {
    "id": "ib-zA2Ai4-s9"
   },
   "source": [
    "We create our train and validation dataset, defining the array of features and the array of label for every dataset"
   ]
  },
  {
   "cell_type": "code",
   "execution_count": 21,
   "metadata": {
    "id": "avTh_WCUyMkT",
    "tags": []
   },
   "outputs": [],
   "source": [
    "# Create the train dataset\n",
    "X_train= df[df['stage']=='train']['narrative'].values\n",
    "Y_train= df[df['stage']=='train']['product'].values\n",
    "# Create the validation dataset\n",
    "X_val= df[df['stage']=='validation']['narrative'].values\n",
    "Y_val= df[df['stage']=='validation']['product'].values\n",
    "\n",
    "# Create the validation dataset\n",
    "X_test= df[df['stage']=='test']['narrative'].values\n",
    "Y_test= df[df['stage']=='test']['product'].values"
   ]
  },
  {
   "cell_type": "code",
   "execution_count": 22,
   "metadata": {
    "id": "mnc17V46yv4Z",
    "tags": []
   },
   "outputs": [
    {
     "name": "stdout",
     "output_type": "stream",
     "text": [
      "Train dataset size:  (51416,)  Validation dataset size:  (11018,)\n",
      "Target classes:  ['credit_card' 'debt_collection' 'credit_reporting' 'retail_banking'\n",
      " 'mortgages_and_loans']\n"
     ]
    }
   ],
   "source": [
    "print('Train dataset size: ',X_train.shape, ' Validation dataset size: ',X_val.shape)\n",
    "print('Target classes: ', target_classes)"
   ]
  },
  {
   "cell_type": "markdown",
   "metadata": {
    "id": "WPR4NYq7zWm2"
   },
   "source": [
    "## Tokenize and create the vocabulary"
   ]
  },
  {
   "cell_type": "markdown",
   "metadata": {
    "id": "-1Y5ul3VzbSj"
   },
   "source": [
    "In this, we have implemented the first two steps we mentioned earlier to prepare data for the neural network.\n",
    "\n",
    "We have first created an instance of Tokenizer class available from 'keras.preprocessing.text' module. This tokenizer instance will be used for populating vocabulary and generating indexes of tokens. After creating an instance, we have called fit_on_texts() method on it with train and test text examples. This step will internally loop through all text examples, tokenize them and populate vocabulary.\n",
    "\n",
    "Next, we have called texts_to_sequences() method on Tokenizer object. We have provided a list of train and text examples for this method. This method tokenizes text examples and retrieves their token indexes from the vocabulary. We know that each text example has a different size text and we want input to a neural network with the same size. For this, we have wrapped call to texts_to_sequences() inside of call to function pad_sequences() function. We have decided to keep maximum of 128 tokens per text example. The pad_sequences() function ensures this. It truncates all text examples that have more than 128 tokens to 128 tokens and pads all text examples that have less than 128 tokens with 0s to bring them to the length of 128."
   ]
  },
  {
   "cell_type": "code",
   "execution_count": 23,
   "metadata": {
    "id": "8EqwwSopzvC9",
    "tags": []
   },
   "outputs": [
    {
     "name": "stdout",
     "output_type": "stream",
     "text": [
      "[[    5  1422    17   103   472     5   179  1401   118   103   282   391\n",
      "    332    15  3392   470   447    22   321  1688    33  2445   261   704\n",
      "      1     1   888   421  2950  6687     5  5755    61   282   138    24\n",
      "     23   559     0     0     0     0     0     0     0     0     0     0\n",
      "      0     0     0     0     0     0     0     0     0     0     0     0\n",
      "      0     0     0     0     0     0     0     0     0     0     0     0\n",
      "      0     0     0     0     0     0     0     0     0     0     0     0\n",
      "      0     0     0     0     0     0     0     0     0     0     0     0\n",
      "      0     0     0     0     0     0     0     0     0     0     0     0\n",
      "      0     0     0     0     0     0     0     0     0     0     0     0\n",
      "      0     0     0     0     0     0     0     0]\n",
      " [   11    18  1912  2224   947  2489   617   315    16   630    18   547\n",
      "    274    18    16   153   234    65   152    39  1488   321     1    17\n",
      "    114   404   259   646     1    22     7   536    79   531  2181    16\n",
      "   7867   537  1886    30    44   109   366 10258    77    44    25   393\n",
      "    569   192     1    22     7   101    63    79     7    63    48   393\n",
      "     30   646   755  1912    12  1912    29    21    79    69    12   662\n",
      "     17  1912    20   741    10   765   557  7671  2277    43    12  1912\n",
      "    333   872  6210  1053   759     2    77   901   498     2    79   742\n",
      "    469  2652   461    79    57   227   203     6  4697    12    93  4770\n",
      "  12218   720    77    16  7672   793  1375    18   463   101     8   186\n",
      "     99   208   351   268   208    21   328    39]\n",
      " [  365     7   227   199   141  1886  3620    48   131  2083  2413   115\n",
      "     34   369   937   308     2    42    76  1507    42   536   135   408\n",
      "   1856   596     2     5  1429   731    76    42   812    30  1862  1302\n",
      "     43  1555  4142     8    76     8  1302    43    17    27  9453   131\n",
      "     24   239   536   181   177  1164  1370  1395   121   393    37    63\n",
      "      1   536   541   524   135   705   156  1862    43    73    30    40\n",
      "     27   316  3456   219  4581   937   127     2   536  1429   192   241\n",
      "     85     2     5     4     1   435     1    43   190  1302    73     1\n",
      "     44    31    28   941     2   536    42    12   375     2     5  1429\n",
      "      3   297  1153   155     8    59    64   115    48 20880   237  1370\n",
      "     36     2    78     0     0     0     0     0]]\n",
      " Train size:  (51416, 128)  Validation:  (11018, 128)  Test:  (11018, 128)\n"
     ]
    }
   ],
   "source": [
    "max_tokens = 128 ## Hyperparameter\n",
    "\n",
    "tokenizer = Tokenizer()\n",
    "tokenizer.fit_on_texts(np.concatenate([X_train,X_val]))\n",
    "\n",
    "## Vectorizing data to keep max_tokens words per sample.\n",
    "X_train_vect = pad_sequences(tokenizer.texts_to_sequences(X_train), maxlen=max_tokens, padding=\"post\", truncating=\"post\", value=0.)\n",
    "X_val_vect  = pad_sequences(tokenizer.texts_to_sequences(X_val), maxlen=max_tokens, padding=\"post\", truncating=\"post\", value=0.)\n",
    "X_test_vect  = pad_sequences(tokenizer.texts_to_sequences(X_test), maxlen=max_tokens, padding=\"post\", truncating=\"post\", value=0.)\n",
    "# Show an example\n",
    "print(X_train_vect[:3])\n",
    "\n",
    "print(' Train size: ',X_train_vect.shape, ' Validation: ',X_val_vect.shape, ' Test: ',X_test_vect.shape)"
   ]
  },
  {
   "cell_type": "markdown",
   "metadata": {
    "id": "XEy6gr023ied"
   },
   "source": [
    "## Create our baseline model: CNN with Single Conv1D Layer"
   ]
  },
  {
   "cell_type": "markdown",
   "metadata": {
    "id": "qKcfzc023sea"
   },
   "source": [
    "Our first approach creates a Convolutional neural network with a single 1D convolution layer for the text classification task. The network has 3 layers namely the embedding layer, convolution layer, and dense layer. The embedding layer maps token index to embeddings which are given to Conv1D for performing convolution operation. The output of the convolution layer is given to the dense layer to generate probabilities for target classes. After training the network, we have also evaluated the performance by calculating various ML metrics.\n",
    "\n",
    "**Our goal is to show you how to integrate this training job with W&B Artifacts to store the artifacts and register the baseline model metrics. That's why we use such a simple model, we are not into getting the best model.**\n",
    "\n",
    "After defining the network, we initialized it and printed a summary of the network parameters count."
   ]
  },
  {
   "cell_type": "code",
   "execution_count": 24,
   "metadata": {
    "id": "roPoqhx14DGY",
    "tags": []
   },
   "outputs": [
    {
     "name": "stdout",
     "output_type": "stream",
     "text": [
      "Model: \"model\"\n",
      "_________________________________________________________________\n",
      " Layer (type)                Output Shape              Param #   \n",
      "=================================================================\n",
      " input_1 (InputLayer)        [(None, 128)]             0         \n",
      "                                                                 \n",
      " embedding (Embedding)       (None, 128, 128)          4689664   \n",
      "                                                                 \n",
      " conv1d (Conv1D)             (None, 128, 32)           28704     \n",
      "                                                                 \n",
      " tf.math.reduce_max (TFOpLa  (None, 32)                0         \n",
      " mbda)                                                           \n",
      "                                                                 \n",
      " dense (Dense)               (None, 5)                 165       \n",
      "                                                                 \n",
      "=================================================================\n",
      "Total params: 4718533 (18.00 MB)\n",
      "Trainable params: 4718533 (18.00 MB)\n",
      "Non-trainable params: 0 (0.00 Byte)\n",
      "_________________________________________________________________\n"
     ]
    }
   ],
   "source": [
    "embed_len = 128\n",
    "\n",
    "inputs = Input(shape=(max_tokens, ))\n",
    "embeddings_layer = Embedding(input_dim=len(tokenizer.word_index)+1, output_dim=embed_len,  input_length=max_tokens)\n",
    "conv = Conv1D(32, 7, padding=\"same\") ## Channels last\n",
    "dense = Dense(len(target_classes), activation=\"softmax\")\n",
    "\n",
    "x = embeddings_layer(inputs)\n",
    "x = conv(x)\n",
    "x = tf.reduce_max(x, axis=1)\n",
    "output = dense(x)\n",
    "\n",
    "model = Model(inputs=inputs, outputs=output)\n",
    "\n",
    "model.summary()"
   ]
  },
  {
   "cell_type": "markdown",
   "metadata": {
    "id": "In55EToAN3GM"
   },
   "source": [
    "## Train the model "
   ]
  },
  {
   "cell_type": "markdown",
   "metadata": {
    "id": "7LW4LPWbOJvE"
   },
   "source": [
    "In order to keep track of our experiment hyperparameters, we registry these values in W&B, in the config section of our experiment"
   ]
  },
  {
   "cell_type": "code",
   "execution_count": 25,
   "metadata": {
    "id": "uRzsyxlhOXHb",
    "tags": []
   },
   "outputs": [],
   "source": [
    "# Define a config dictionary object\n",
    "train_config = {\n",
    "  \"embedding_size\": embed_len,\n",
    "  \"max_tokens\": max_tokens,\n",
    "  \"batch_size\": 256,\n",
    "  \"cnn_layers\": 1,\n",
    "  \"epochs\": 5,\n",
    "  \"dropout\": 0,\n",
    "  \"num_classes\": 5,\n",
    "  \"pretrained\": False,\n",
    "  \"seed\": 42\n",
    "}\n",
    "\n",
    "wandb.config=  train_config"
   ]
  },
  {
   "cell_type": "markdown",
   "metadata": {
    "id": "-Lrzrqj_Nu_f"
   },
   "source": [
    "Next, we compile our network to use Adam optimizer, cross entropy loss, and accuracy metric."
   ]
  },
  {
   "cell_type": "code",
   "execution_count": 26,
   "metadata": {
    "id": "s6ihuzVcNzcq",
    "tags": []
   },
   "outputs": [],
   "source": [
    "model.compile(\"adam\", \"sparse_categorical_crossentropy\", metrics=[\"accuracy\"])"
   ]
  },
  {
   "cell_type": "markdown",
   "metadata": {
    "id": "LM3CX63sOFD9"
   },
   "source": [
    "**REESCRIBIR**\n",
    "In this section, we have trained our network by calling fit() method. We have provided the method with train and validation data. We have set batch size at 1024 and trained the network for 8 epochs. We can notice from the loss and accuracy values getting printed after each epoch that our network is doing a good job at the text classification task.\n",
    "\n",
    "After training the network, we have also plotted loss and accuracy values from history object."
   ]
  },
  {
   "cell_type": "code",
   "execution_count": 27,
   "metadata": {
    "id": "Bs7KI2xxvxXg",
    "tags": []
   },
   "outputs": [
    {
     "name": "stderr",
     "output_type": "stream",
     "text": [
      "\u001b[34m\u001b[1mwandb\u001b[0m: \u001b[33mWARNING\u001b[0m When using `save_best_only`, ensure that the `filepath` argument contains formatting placeholders like `{epoch:02d}` or `{batch:02d}`. This ensures correct interpretation of the logged artifacts.\n"
     ]
    },
    {
     "name": "stdout",
     "output_type": "stream",
     "text": [
      "Epoch 1/5\n",
      "101/101 [==============================] - ETA: 0s - loss: 1.0573 - accuracy: 0.6790INFO:tensorflow:Assets written to: model/assets\n"
     ]
    },
    {
     "name": "stderr",
     "output_type": "stream",
     "text": [
      "INFO:tensorflow:Assets written to: model/assets\n",
      "\u001b[34m\u001b[1mwandb\u001b[0m: Adding directory to artifact (./model)... Done. 0.2s\n"
     ]
    },
    {
     "name": "stdout",
     "output_type": "stream",
     "text": [
      "101/101 [==============================] - 29s 280ms/step - loss: 1.0573 - accuracy: 0.6790 - val_loss: 0.5838 - val_accuracy: 0.7957\n",
      "Epoch 2/5\n",
      "101/101 [==============================] - ETA: 0s - loss: 0.4896 - accuracy: 0.8342INFO:tensorflow:Assets written to: model/assets\n"
     ]
    },
    {
     "name": "stderr",
     "output_type": "stream",
     "text": [
      "INFO:tensorflow:Assets written to: model/assets\n",
      "\u001b[34m\u001b[1mwandb\u001b[0m: Adding directory to artifact (./model)... Done. 0.2s\n"
     ]
    },
    {
     "name": "stdout",
     "output_type": "stream",
     "text": [
      "101/101 [==============================] - 28s 278ms/step - loss: 0.4896 - accuracy: 0.8342 - val_loss: 0.4757 - val_accuracy: 0.8394\n",
      "Epoch 3/5\n",
      "101/101 [==============================] - ETA: 0s - loss: 0.3953 - accuracy: 0.8673INFO:tensorflow:Assets written to: model/assets\n"
     ]
    },
    {
     "name": "stderr",
     "output_type": "stream",
     "text": [
      "INFO:tensorflow:Assets written to: model/assets\n",
      "\u001b[34m\u001b[1mwandb\u001b[0m: Adding directory to artifact (./model)... Done. 0.1s\n"
     ]
    },
    {
     "name": "stdout",
     "output_type": "stream",
     "text": [
      "101/101 [==============================] - 29s 292ms/step - loss: 0.3953 - accuracy: 0.8673 - val_loss: 0.4531 - val_accuracy: 0.8457\n",
      "Epoch 4/5\n",
      "101/101 [==============================] - ETA: 0s - loss: 0.3331 - accuracy: 0.8897INFO:tensorflow:Assets written to: model/assets\n"
     ]
    },
    {
     "name": "stderr",
     "output_type": "stream",
     "text": [
      "INFO:tensorflow:Assets written to: model/assets\n",
      "\u001b[34m\u001b[1mwandb\u001b[0m: Adding directory to artifact (./model)... Done. 0.1s\n"
     ]
    },
    {
     "name": "stdout",
     "output_type": "stream",
     "text": [
      "101/101 [==============================] - 28s 279ms/step - loss: 0.3331 - accuracy: 0.8897 - val_loss: 0.4454 - val_accuracy: 0.8488\n",
      "Epoch 5/5\n",
      "101/101 [==============================] - ETA: 0s - loss: 0.2781 - accuracy: 0.9103INFO:tensorflow:Assets written to: model/assets\n"
     ]
    },
    {
     "name": "stderr",
     "output_type": "stream",
     "text": [
      "INFO:tensorflow:Assets written to: model/assets\n",
      "\u001b[34m\u001b[1mwandb\u001b[0m: Adding directory to artifact (./model)... Done. 0.2s\n"
     ]
    },
    {
     "name": "stdout",
     "output_type": "stream",
     "text": [
      "101/101 [==============================] - 28s 279ms/step - loss: 0.2781 - accuracy: 0.9103 - val_loss: 0.4462 - val_accuracy: 0.8516\n"
     ]
    }
   ],
   "source": [
    "history = model.fit(X_train_vect, Y_train, batch_size=512, epochs=5, validation_data=(X_val_vect, Y_val),\n",
    "                    callbacks=[WandbMetricsLogger(),\n",
    "                               WandbModelCheckpoint(filepath=\"model\", monitor=\"val_accuracy\", save_best_only=True, mode=\"max\"),                               \n",
    "                              ])"
   ]
  },
  {
   "cell_type": "markdown",
   "metadata": {
    "id": "eigTFsHw7gie"
   },
   "source": [
    "We plot the loss and accuracy during training in both train and validation datasets. Loss and accuracy in the training dataset are much better than in validation dataset, maybe some overfitting is observed. But this is just an initial baseline model we can compare to later."
   ]
  },
  {
   "cell_type": "code",
   "execution_count": 28,
   "metadata": {
    "id": "AYF9QBWs70bR",
    "tags": []
   },
   "outputs": [],
   "source": [
    "# CReate a function to print\n",
    "def plot_loss_and_acc(history):\n",
    "    train_loss = history.history[\"loss\"]\n",
    "    train_acc = history.history[\"accuracy\"]\n",
    "    val_loss = history.history[\"val_loss\"]\n",
    "    val_acc = history.history[\"val_accuracy\"]\n",
    "\n",
    "    fig = plt.figure(figsize=(12,5))\n",
    "\n",
    "    ax = fig.add_subplot(121)\n",
    "    ax.plot(range(len(train_loss)), train_loss, label=\"Train Loss\")\n",
    "    ax.plot(range(len(val_loss)), val_loss, label=\"Validation Loss\")\n",
    "    plt.xlabel(\"Epochs\"); plt.ylabel(\"Loss\")\n",
    "    plt.title(\"Train Loss vs Validation Loss\")\n",
    "    plt.legend(loc=\"best\")\n",
    "    plt.savefig('loss.png')\n",
    "\n",
    "    ax = fig.add_subplot(122)\n",
    "    ax.plot(range(len(train_acc)), train_acc, label=\"Train Accuracy\")\n",
    "    ax.plot(range(len(val_acc)), val_acc, label=\"Validation Accuracy\")\n",
    "    plt.xlabel(\"Epochs\"); plt.ylabel(\"Accuracy\")\n",
    "    plt.title(\"Train Accuracy vs Validation Accuracy\")\n",
    "    plt.legend(loc=\"best\");\n",
    "    plt.savefig('accuracy.png')\n"
   ]
  },
  {
   "cell_type": "code",
   "execution_count": 29,
   "metadata": {
    "id": "gl2H2whP81f0",
    "tags": []
   },
   "outputs": [
    {
     "data": {
      "image/png": "[encoded data removed]",
      "text/plain": [
       "<Figure size 1200x500 with 2 Axes>"
      ]
     },
     "metadata": {},
     "output_type": "display_data"
    }
   ],
   "source": [
    "plot_loss_and_acc(history)"
   ]
  },
  {
   "cell_type": "markdown",
   "metadata": {
    "id": "AbLA0ek07YRp"
   },
   "source": [
    "## Evaluate the model"
   ]
  },
  {
   "cell_type": "markdown",
   "metadata": {
    "id": "aqDCBv-x-BiX"
   },
   "source": [
    "In this section, we evaluate the performance of our trained network on the test dataset. We calculate the classification report (precision, recall, and f1-score per target class) and confusion matrix metrics on test predictions. We can notice from the accuracy score that our network is doing a good job at the given classification task. Using scikit-learn we can calculate these metrics very easy."
   ]
  },
  {
   "cell_type": "code",
   "execution_count": 30,
   "metadata": {
    "id": "JQXtfvGU9pHp",
    "tags": []
   },
   "outputs": [
    {
     "name": "stdout",
     "output_type": "stream",
     "text": [
      "1607/1607 [==============================] - 12s 8ms/step\n",
      "345/345 [==============================] - 2s 6ms/step\n"
     ]
    }
   ],
   "source": [
    "train_preds = model.predict(X_train_vect)\n",
    "# Later we use test values\n",
    "#test_preds = model.predict(X_test_vect)\n",
    "val_preds = model.predict(X_val_vect)"
   ]
  },
  {
   "cell_type": "markdown",
   "metadata": {
    "id": "WeixKraD_R1d"
   },
   "source": [
    "Calculate the classification report"
   ]
  },
  {
   "cell_type": "code",
   "execution_count": 31,
   "metadata": {
    "id": "hYCk00LG_VjO",
    "tags": []
   },
   "outputs": [
    {
     "name": "stdout",
     "output_type": "stream",
     "text": [
      "\n",
      "Classification Report : \n",
      "{'credit_card': {'precision': 0.8260303687635575, 'recall': 0.8473520249221184, 'f1-score': 0.8365553602811951, 'support': 2247.0}, 'debt_collection': {'precision': 0.8480613165013525, 'recall': 0.836, 'f1-score': 0.841987466427932, 'support': 2250.0}, 'credit_reporting': {'precision': 0.8287920072661217, 'recall': 0.8111111111111111, 'f1-score': 0.8198562443845463, 'support': 2250.0}, 'retail_banking': {'precision': 0.8748773307163886, 'recall': 0.8822365165759525, 'f1-score': 0.8785415126878541, 'support': 2021.0}, 'mortgages_and_loans': {'precision': 0.8824833702882483, 'recall': 0.8844444444444445, 'f1-score': 0.8834628190899002, 'support': 2250.0}, 'accuracy': 0.8516064621528409, 'macro avg': {'precision': 0.8520488787071336, 'recall': 0.8522288194107253, 'f1-score': 0.8520806805742855, 'support': 11018.0}, 'weighted avg': {'precision': 0.8515814926134426, 'recall': 0.8516064621528409, 'f1-score': 0.8515349413663414, 'support': 11018.0}}\n"
     ]
    }
   ],
   "source": [
    "print(\"\\nClassification Report : \")\n",
    "report = classification_report(Y_val, np.argmax(val_preds, axis=1), target_names=target_classes, output_dict=True)\n",
    "print(report)"
   ]
  },
  {
   "cell_type": "markdown",
   "metadata": {
    "id": "t_O7JLJf_kmp"
   },
   "source": [
    "to save this report we can convert it into a pandas Dataframe to save it in a W&b Artifact"
   ]
  },
  {
   "cell_type": "code",
   "execution_count": 32,
   "metadata": {
    "id": "f5UWUcxv_rxV",
    "tags": []
   },
   "outputs": [
    {
     "data": {
      "text/html": [
       "<div>\n",
       "<style scoped>\n",
       "    .dataframe tbody tr th:only-of-type {\n",
       "        vertical-align: middle;\n",
       "    }\n",
       "\n",
       "    .dataframe tbody tr th {\n",
       "        vertical-align: top;\n",
       "    }\n",
       "\n",
       "    .dataframe thead th {\n",
       "        text-align: right;\n",
       "    }\n",
       "</style>\n",
       "<table border=\"1\" class=\"dataframe\">\n",
       "  <thead>\n",
       "    <tr style=\"text-align: right;\">\n",
       "      <th></th>\n",
       "      <th>category</th>\n",
       "      <th>precision</th>\n",
       "      <th>recall</th>\n",
       "      <th>f1-score</th>\n",
       "      <th>support</th>\n",
       "    </tr>\n",
       "  </thead>\n",
       "  <tbody>\n",
       "    <tr>\n",
       "      <th>0</th>\n",
       "      <td>credit_card</td>\n",
       "      <td>0.826030</td>\n",
       "      <td>0.847352</td>\n",
       "      <td>0.836555</td>\n",
       "      <td>2247.0</td>\n",
       "    </tr>\n",
       "    <tr>\n",
       "      <th>1</th>\n",
       "      <td>debt_collection</td>\n",
       "      <td>0.848061</td>\n",
       "      <td>0.836000</td>\n",
       "      <td>0.841987</td>\n",
       "      <td>2250.0</td>\n",
       "    </tr>\n",
       "    <tr>\n",
       "      <th>2</th>\n",
       "      <td>credit_reporting</td>\n",
       "      <td>0.828792</td>\n",
       "      <td>0.811111</td>\n",
       "      <td>0.819856</td>\n",
       "      <td>2250.0</td>\n",
       "    </tr>\n",
       "    <tr>\n",
       "      <th>3</th>\n",
       "      <td>retail_banking</td>\n",
       "      <td>0.874877</td>\n",
       "      <td>0.882237</td>\n",
       "      <td>0.878542</td>\n",
       "      <td>2021.0</td>\n",
       "    </tr>\n",
       "    <tr>\n",
       "      <th>4</th>\n",
       "      <td>mortgages_and_loans</td>\n",
       "      <td>0.882483</td>\n",
       "      <td>0.884444</td>\n",
       "      <td>0.883463</td>\n",
       "      <td>2250.0</td>\n",
       "    </tr>\n",
       "  </tbody>\n",
       "</table>\n",
       "</div>"
      ],
      "text/plain": [
       "              category  precision    recall  f1-score  support\n",
       "0          credit_card   0.826030  0.847352  0.836555   2247.0\n",
       "1      debt_collection   0.848061  0.836000  0.841987   2250.0\n",
       "2     credit_reporting   0.828792  0.811111  0.819856   2250.0\n",
       "3       retail_banking   0.874877  0.882237  0.878542   2021.0\n",
       "4  mortgages_and_loans   0.882483  0.884444  0.883463   2250.0"
      ]
     },
     "execution_count": 32,
     "metadata": {},
     "output_type": "execute_result"
    }
   ],
   "source": [
    "df_report = pd.DataFrame(report).transpose()\n",
    "df_report.reset_index(inplace=True)\n",
    "df_report = df_report.rename(columns = {'index':'category'})\n",
    "df_report.head(5)"
   ]
  },
  {
   "cell_type": "markdown",
   "metadata": {
    "id": "eTcKD3UyBBSv"
   },
   "source": [
    "Finally, we plot the confussion matrix and save it as image."
   ]
  },
  {
   "cell_type": "code",
   "execution_count": 33,
   "metadata": {
    "id": "jwohUxHaBGuW",
    "tags": []
   },
   "outputs": [
    {
     "data": {
      "image/png": "[encoded data removed]",
      "text/plain": [
       "<Figure size 500x500 with 2 Axes>"
      ]
     },
     "metadata": {},
     "output_type": "display_data"
    }
   ],
   "source": [
    "# Draw the confussion matrix for the test dataset\n",
    "skplt.metrics.plot_confusion_matrix([target_classes[i] for i in Y_val], [target_classes[i] for i in np.argmax(val_preds, axis=1)],\n",
    "                                    normalize=True,\n",
    "                                    title=\"Confusion Matrix\",\n",
    "                                    cmap=\"Blues\",\n",
    "                                    hide_zeros=True,\n",
    "                                    figsize=(5,5)\n",
    "                                    );\n",
    "plt.xticks(rotation=90);\n",
    "plt.savefig('confussion_matrix.png')"
   ]
  },
  {
   "cell_type": "code",
   "execution_count": 36,
   "metadata": {
    "tags": []
   },
   "outputs": [],
   "source": [
    "X_test_vect  = pad_sequences(tokenizer.texts_to_sequences(X_test), maxlen=max_tokens, padding=\"post\", truncating=\"post\", value=0.)\n"
   ]
  },
  {
   "cell_type": "code",
   "execution_count": 42,
   "metadata": {
    "tags": []
   },
   "outputs": [
    {
     "data": {
      "text/plain": [
       "array([[1.21511956e-04, 3.88987273e-01, 6.10497892e-01, 1.36621065e-05,\n",
       "        3.79741716e-04],\n",
       "       [8.99548709e-01, 1.36654079e-02, 3.78717622e-03, 8.24173763e-02,\n",
       "        5.81338361e-04],\n",
       "       [9.95614529e-01, 2.57753837e-03, 5.64767746e-04, 4.67083213e-04,\n",
       "        7.76138855e-04],\n",
       "       ...,\n",
       "       [3.48492056e-01, 9.33064446e-02, 4.99031335e-01, 3.52002028e-03,\n",
       "        5.56501970e-02],\n",
       "       [9.97119665e-01, 9.80884419e-04, 1.83944602e-03, 3.89707529e-05,\n",
       "        2.10671387e-05],\n",
       "       [6.88821316e-01, 1.69828255e-03, 7.66389712e-04, 3.08030844e-01,\n",
       "        6.83169870e-04]], dtype=float32)"
      ]
     },
     "execution_count": 42,
     "metadata": {},
     "output_type": "execute_result"
    }
   ],
   "source": [
    "val_preds"
   ]
  },
  {
   "cell_type": "markdown",
   "metadata": {},
   "source": [
    "Make predictions for test set"
   ]
  },
  {
   "cell_type": "code",
   "execution_count": 54,
   "metadata": {
    "tags": []
   },
   "outputs": [
    {
     "data": {
      "text/html": [
       "<div>\n",
       "<style scoped>\n",
       "    .dataframe tbody tr th:only-of-type {\n",
       "        vertical-align: middle;\n",
       "    }\n",
       "\n",
       "    .dataframe tbody tr th {\n",
       "        vertical-align: top;\n",
       "    }\n",
       "\n",
       "    .dataframe thead th {\n",
       "        text-align: right;\n",
       "    }\n",
       "</style>\n",
       "<table border=\"1\" class=\"dataframe\">\n",
       "  <thead>\n",
       "    <tr style=\"text-align: right;\">\n",
       "      <th></th>\n",
       "      <th>complaint</th>\n",
       "      <th>product</th>\n",
       "      <th>prob0</th>\n",
       "      <th>prob1</th>\n",
       "      <th>prob2</th>\n",
       "      <th>prob3</th>\n",
       "      <th>prob4</th>\n",
       "    </tr>\n",
       "  </thead>\n",
       "  <tbody>\n",
       "    <tr>\n",
       "      <th>0</th>\n",
       "      <td>already notified university improperly collect...</td>\n",
       "      <td>2</td>\n",
       "      <td>0.000122</td>\n",
       "      <td>0.388987</td>\n",
       "      <td>0.610498</td>\n",
       "      <td>0.000014</td>\n",
       "      <td>0.000380</td>\n",
       "    </tr>\n",
       "    <tr>\n",
       "      <th>1</th>\n",
       "      <td>first progress card give provisional credit di...</td>\n",
       "      <td>0</td>\n",
       "      <td>0.899549</td>\n",
       "      <td>0.013665</td>\n",
       "      <td>0.003787</td>\n",
       "      <td>0.082417</td>\n",
       "      <td>0.000581</td>\n",
       "    </tr>\n",
       "    <tr>\n",
       "      <th>2</th>\n",
       "      <td>opened credit card account capital one capital...</td>\n",
       "      <td>0</td>\n",
       "      <td>0.995615</td>\n",
       "      <td>0.002578</td>\n",
       "      <td>0.000565</td>\n",
       "      <td>0.000467</td>\n",
       "      <td>0.000776</td>\n",
       "    </tr>\n",
       "    <tr>\n",
       "      <th>3</th>\n",
       "      <td>writing today regard account kia motor finance...</td>\n",
       "      <td>4</td>\n",
       "      <td>0.015114</td>\n",
       "      <td>0.003105</td>\n",
       "      <td>0.030341</td>\n",
       "      <td>0.000722</td>\n",
       "      <td>0.950718</td>\n",
       "    </tr>\n",
       "    <tr>\n",
       "      <th>4</th>\n",
       "      <td>duplicate complaint synchrony need step forwar...</td>\n",
       "      <td>0</td>\n",
       "      <td>0.997044</td>\n",
       "      <td>0.000756</td>\n",
       "      <td>0.001113</td>\n",
       "      <td>0.000256</td>\n",
       "      <td>0.000831</td>\n",
       "    </tr>\n",
       "  </tbody>\n",
       "</table>\n",
       "</div>"
      ],
      "text/plain": [
       "                                           complaint  product     prob0  \\\n",
       "0  already notified university improperly collect...        2  0.000122   \n",
       "1  first progress card give provisional credit di...        0  0.899549   \n",
       "2  opened credit card account capital one capital...        0  0.995615   \n",
       "3  writing today regard account kia motor finance...        4  0.015114   \n",
       "4  duplicate complaint synchrony need step forwar...        0  0.997044   \n",
       "\n",
       "      prob1     prob2     prob3     prob4  \n",
       "0  0.388987  0.610498  0.000014  0.000380  \n",
       "1  0.013665  0.003787  0.082417  0.000581  \n",
       "2  0.002578  0.000565  0.000467  0.000776  \n",
       "3  0.003105  0.030341  0.000722  0.950718  \n",
       "4  0.000756  0.001113  0.000256  0.000831  "
      ]
     },
     "execution_count": 54,
     "metadata": {},
     "output_type": "execute_result"
    }
   ],
   "source": [
    "df_val= pd.concat([pd.Series(X_val), pd.Series(Y_val), pd.DataFrame(val_preds)], axis=1)\n",
    "df_val.columns = ['complaint','product','prob0','prob1','prob2','prob3','prob4']\n",
    "df_val.head(5)"
   ]
  },
  {
   "cell_type": "code",
   "execution_count": 39,
   "metadata": {
    "tags": []
   },
   "outputs": [
    {
     "ename": "ValueError",
     "evalue": "3 columns passed, passed data had 11018 columns",
     "output_type": "error",
     "traceback": [
      "\u001b[0;31m---------------------------------------------------------------------------\u001b[0m",
      "\u001b[0;31mAssertionError\u001b[0m                            Traceback (most recent call last)",
      "\u001b[0;32m~/.conda/envs/default/lib/python3.9/site-packages/pandas/core/internals/construction.py\u001b[0m in \u001b[0;36m_finalize_columns_and_data\u001b[0;34m(content, columns, dtype)\u001b[0m\n\u001b[1;32m    933\u001b[0m     \u001b[0;32mtry\u001b[0m\u001b[0;34m:\u001b[0m\u001b[0;34m\u001b[0m\u001b[0;34m\u001b[0m\u001b[0m\n\u001b[0;32m--> 934\u001b[0;31m         \u001b[0mcolumns\u001b[0m \u001b[0;34m=\u001b[0m \u001b[0m_validate_or_indexify_columns\u001b[0m\u001b[0;34m(\u001b[0m\u001b[0mcontents\u001b[0m\u001b[0;34m,\u001b[0m \u001b[0mcolumns\u001b[0m\u001b[0;34m)\u001b[0m\u001b[0;34m\u001b[0m\u001b[0;34m\u001b[0m\u001b[0m\n\u001b[0m\u001b[1;32m    935\u001b[0m     \u001b[0;32mexcept\u001b[0m \u001b[0mAssertionError\u001b[0m \u001b[0;32mas\u001b[0m \u001b[0merr\u001b[0m\u001b[0;34m:\u001b[0m\u001b[0;34m\u001b[0m\u001b[0;34m\u001b[0m\u001b[0m\n",
      "\u001b[0;32m~/.conda/envs/default/lib/python3.9/site-packages/pandas/core/internals/construction.py\u001b[0m in \u001b[0;36m_validate_or_indexify_columns\u001b[0;34m(content, columns)\u001b[0m\n\u001b[1;32m    980\u001b[0m             \u001b[0;31m# caller's responsibility to check for this...\u001b[0m\u001b[0;34m\u001b[0m\u001b[0;34m\u001b[0m\u001b[0m\n\u001b[0;32m--> 981\u001b[0;31m             raise AssertionError(\n\u001b[0m\u001b[1;32m    982\u001b[0m                 \u001b[0;34mf\"{len(columns)} columns passed, passed data had \"\u001b[0m\u001b[0;34m\u001b[0m\u001b[0;34m\u001b[0m\u001b[0m\n",
      "\u001b[0;31mAssertionError\u001b[0m: 3 columns passed, passed data had 11018 columns",
      "\nThe above exception was the direct cause of the following exception:\n",
      "\u001b[0;31mValueError\u001b[0m                                Traceback (most recent call last)",
      "\u001b[0;32m/tmp/ipykernel_722/1537044633.py\u001b[0m in \u001b[0;36m<cell line: 1>\u001b[0;34m()\u001b[0m\n\u001b[0;32m----> 1\u001b[0;31m \u001b[0mdf_val\u001b[0m\u001b[0;34m=\u001b[0m \u001b[0mpd\u001b[0m\u001b[0;34m.\u001b[0m\u001b[0mDataFrame\u001b[0m\u001b[0;34m(\u001b[0m\u001b[0;34m[\u001b[0m\u001b[0mX_val\u001b[0m\u001b[0;34m,\u001b[0m \u001b[0mY_val\u001b[0m\u001b[0;34m,\u001b[0m \u001b[0mval_preds\u001b[0m\u001b[0;34m]\u001b[0m\u001b[0;34m,\u001b[0m \u001b[0mcolumns\u001b[0m\u001b[0;34m=\u001b[0m\u001b[0;34m[\u001b[0m\u001b[0;34m'complaint'\u001b[0m\u001b[0;34m,\u001b[0m\u001b[0;34m'product'\u001b[0m\u001b[0;34m,\u001b[0m\u001b[0;34m'predicted_product'\u001b[0m\u001b[0;34m]\u001b[0m\u001b[0;34m)\u001b[0m\u001b[0;34m\u001b[0m\u001b[0;34m\u001b[0m\u001b[0m\n\u001b[0m\u001b[1;32m      2\u001b[0m \u001b[0mdf_val\u001b[0m\u001b[0;34m.\u001b[0m\u001b[0mhead\u001b[0m\u001b[0;34m(\u001b[0m\u001b[0;36m5\u001b[0m\u001b[0;34m)\u001b[0m\u001b[0;34m\u001b[0m\u001b[0;34m\u001b[0m\u001b[0m\n",
      "\u001b[0;32m~/.conda/envs/default/lib/python3.9/site-packages/pandas/core/frame.py\u001b[0m in \u001b[0;36m__init__\u001b[0;34m(self, data, index, columns, dtype, copy)\u001b[0m\n\u001b[1;32m    780\u001b[0m                     \u001b[0;32mif\u001b[0m \u001b[0mcolumns\u001b[0m \u001b[0;32mis\u001b[0m \u001b[0;32mnot\u001b[0m \u001b[0;32mNone\u001b[0m\u001b[0;34m:\u001b[0m\u001b[0;34m\u001b[0m\u001b[0;34m\u001b[0m\u001b[0m\n\u001b[1;32m    781\u001b[0m                         \u001b[0mcolumns\u001b[0m \u001b[0;34m=\u001b[0m \u001b[0mensure_index\u001b[0m\u001b[0;34m(\u001b[0m\u001b[0mcolumns\u001b[0m\u001b[0;34m)\u001b[0m\u001b[0;34m\u001b[0m\u001b[0;34m\u001b[0m\u001b[0m\n\u001b[0;32m--> 782\u001b[0;31m                     arrays, columns, index = nested_data_to_arrays(\n\u001b[0m\u001b[1;32m    783\u001b[0m                         \u001b[0;31m# error: Argument 3 to \"nested_data_to_arrays\" has incompatible\u001b[0m\u001b[0;34m\u001b[0m\u001b[0;34m\u001b[0m\u001b[0m\n\u001b[1;32m    784\u001b[0m                         \u001b[0;31m# type \"Optional[Collection[Any]]\"; expected \"Optional[Index]\"\u001b[0m\u001b[0;34m\u001b[0m\u001b[0;34m\u001b[0m\u001b[0m\n",
      "\u001b[0;32m~/.conda/envs/default/lib/python3.9/site-packages/pandas/core/internals/construction.py\u001b[0m in \u001b[0;36mnested_data_to_arrays\u001b[0;34m(data, columns, index, dtype)\u001b[0m\n\u001b[1;32m    496\u001b[0m         \u001b[0mcolumns\u001b[0m \u001b[0;34m=\u001b[0m \u001b[0mensure_index\u001b[0m\u001b[0;34m(\u001b[0m\u001b[0mdata\u001b[0m\u001b[0;34m[\u001b[0m\u001b[0;36m0\u001b[0m\u001b[0;34m]\u001b[0m\u001b[0;34m.\u001b[0m\u001b[0m_fields\u001b[0m\u001b[0;34m)\u001b[0m\u001b[0;34m\u001b[0m\u001b[0;34m\u001b[0m\u001b[0m\n\u001b[1;32m    497\u001b[0m \u001b[0;34m\u001b[0m\u001b[0m\n\u001b[0;32m--> 498\u001b[0;31m     \u001b[0marrays\u001b[0m\u001b[0;34m,\u001b[0m \u001b[0mcolumns\u001b[0m \u001b[0;34m=\u001b[0m \u001b[0mto_arrays\u001b[0m\u001b[0;34m(\u001b[0m\u001b[0mdata\u001b[0m\u001b[0;34m,\u001b[0m \u001b[0mcolumns\u001b[0m\u001b[0;34m,\u001b[0m \u001b[0mdtype\u001b[0m\u001b[0;34m=\u001b[0m\u001b[0mdtype\u001b[0m\u001b[0;34m)\u001b[0m\u001b[0;34m\u001b[0m\u001b[0;34m\u001b[0m\u001b[0m\n\u001b[0m\u001b[1;32m    499\u001b[0m     \u001b[0mcolumns\u001b[0m \u001b[0;34m=\u001b[0m \u001b[0mensure_index\u001b[0m\u001b[0;34m(\u001b[0m\u001b[0mcolumns\u001b[0m\u001b[0;34m)\u001b[0m\u001b[0;34m\u001b[0m\u001b[0;34m\u001b[0m\u001b[0m\n\u001b[1;32m    500\u001b[0m \u001b[0;34m\u001b[0m\u001b[0m\n",
      "\u001b[0;32m~/.conda/envs/default/lib/python3.9/site-packages/pandas/core/internals/construction.py\u001b[0m in \u001b[0;36mto_arrays\u001b[0;34m(data, columns, dtype)\u001b[0m\n\u001b[1;32m    838\u001b[0m         \u001b[0marr\u001b[0m \u001b[0;34m=\u001b[0m \u001b[0m_list_to_arrays\u001b[0m\u001b[0;34m(\u001b[0m\u001b[0mdata\u001b[0m\u001b[0;34m)\u001b[0m\u001b[0;34m\u001b[0m\u001b[0;34m\u001b[0m\u001b[0m\n\u001b[1;32m    839\u001b[0m \u001b[0;34m\u001b[0m\u001b[0m\n\u001b[0;32m--> 840\u001b[0;31m     \u001b[0mcontent\u001b[0m\u001b[0;34m,\u001b[0m \u001b[0mcolumns\u001b[0m \u001b[0;34m=\u001b[0m \u001b[0m_finalize_columns_and_data\u001b[0m\u001b[0;34m(\u001b[0m\u001b[0marr\u001b[0m\u001b[0;34m,\u001b[0m \u001b[0mcolumns\u001b[0m\u001b[0;34m,\u001b[0m \u001b[0mdtype\u001b[0m\u001b[0;34m)\u001b[0m\u001b[0;34m\u001b[0m\u001b[0;34m\u001b[0m\u001b[0m\n\u001b[0m\u001b[1;32m    841\u001b[0m     \u001b[0;32mreturn\u001b[0m \u001b[0mcontent\u001b[0m\u001b[0;34m,\u001b[0m \u001b[0mcolumns\u001b[0m\u001b[0;34m\u001b[0m\u001b[0;34m\u001b[0m\u001b[0m\n\u001b[1;32m    842\u001b[0m \u001b[0;34m\u001b[0m\u001b[0m\n",
      "\u001b[0;32m~/.conda/envs/default/lib/python3.9/site-packages/pandas/core/internals/construction.py\u001b[0m in \u001b[0;36m_finalize_columns_and_data\u001b[0;34m(content, columns, dtype)\u001b[0m\n\u001b[1;32m    935\u001b[0m     \u001b[0;32mexcept\u001b[0m \u001b[0mAssertionError\u001b[0m \u001b[0;32mas\u001b[0m \u001b[0merr\u001b[0m\u001b[0;34m:\u001b[0m\u001b[0;34m\u001b[0m\u001b[0;34m\u001b[0m\u001b[0m\n\u001b[1;32m    936\u001b[0m         \u001b[0;31m# GH#26429 do not raise user-facing AssertionError\u001b[0m\u001b[0;34m\u001b[0m\u001b[0;34m\u001b[0m\u001b[0m\n\u001b[0;32m--> 937\u001b[0;31m         \u001b[0;32mraise\u001b[0m \u001b[0mValueError\u001b[0m\u001b[0;34m(\u001b[0m\u001b[0merr\u001b[0m\u001b[0;34m)\u001b[0m \u001b[0;32mfrom\u001b[0m \u001b[0merr\u001b[0m\u001b[0;34m\u001b[0m\u001b[0;34m\u001b[0m\u001b[0m\n\u001b[0m\u001b[1;32m    938\u001b[0m \u001b[0;34m\u001b[0m\u001b[0m\n\u001b[1;32m    939\u001b[0m     \u001b[0;32mif\u001b[0m \u001b[0mlen\u001b[0m\u001b[0;34m(\u001b[0m\u001b[0mcontents\u001b[0m\u001b[0;34m)\u001b[0m \u001b[0;32mand\u001b[0m \u001b[0mcontents\u001b[0m\u001b[0;34m[\u001b[0m\u001b[0;36m0\u001b[0m\u001b[0;34m]\u001b[0m\u001b[0;34m.\u001b[0m\u001b[0mdtype\u001b[0m \u001b[0;34m==\u001b[0m \u001b[0mnp\u001b[0m\u001b[0;34m.\u001b[0m\u001b[0mobject_\u001b[0m\u001b[0;34m:\u001b[0m\u001b[0;34m\u001b[0m\u001b[0;34m\u001b[0m\u001b[0m\n",
      "\u001b[0;31mValueError\u001b[0m: 3 columns passed, passed data had 11018 columns"
     ]
    }
   ],
   "source": [
    "df_val= pd.DataFrame([X_val, Y_val, val_preds], columns=['complaint','product','predicted_product'])\n",
    "df_val.head(5)"
   ]
  },
  {
   "cell_type": "markdown",
   "metadata": {
    "id": "5hgESlAYBfd2"
   },
   "source": [
    "## Save the W&B Artifacts"
   ]
  },
  {
   "cell_type": "markdown",
   "metadata": {
    "id": "Un0rzNZEADKa"
   },
   "source": [
    "As we did in the EDA notebook, we store our baseline model, the evluation and the predictions on the test dataset. If we want to dive deeper in this results or if we want to compare them to some other model's results we can retrive this information."
   ]
  },
  {
   "cell_type": "code",
   "execution_count": 34,
   "metadata": {
    "id": "_RKGUSBpBlGp",
    "tags": []
   },
   "outputs": [
    {
     "data": {
      "text/plain": [
       "<wandb.sdk.artifacts.artifact_manifest_entry.ArtifactManifestEntry at 0x7f2cb41d1130>"
      ]
     },
     "execution_count": 34,
     "metadata": {},
     "output_type": "execute_result"
    }
   ],
   "source": [
    "#Create the artifact\n",
    "baseline_data_at = wandb.Artifact(BASELINE_DATA_AT, type=\"baseline\")\n",
    "# Add the classifation report\n",
    "baseline_data_at.add_file('accuracy.png')\n",
    "baseline_data_at.add_file('loss.png')\n",
    "baseline_data_at.add_file('confussion_matrix.png')\n",
    "# Save the classification report\n",
    "report_table = wandb.Table(dataframe=df_report)\n",
    "baseline_data_at.add(report_table, \"evaluation_table\")\n"
   ]
  },
  {
   "cell_type": "code",
   "execution_count": 55,
   "metadata": {
    "tags": []
   },
   "outputs": [
    {
     "data": {
      "text/plain": [
       "<wandb.sdk.artifacts.artifact_manifest_entry.ArtifactManifestEntry at 0x7f2ce058c6a0>"
      ]
     },
     "execution_count": 55,
     "metadata": {},
     "output_type": "execute_result"
    }
   ],
   "source": [
    "prediction_table = wandb.Table(dataframe=df_val)\n",
    "baseline_data_at.add(prediction_table, \"prediction_table\")"
   ]
  },
  {
   "cell_type": "code",
   "execution_count": 56,
   "metadata": {
    "id": "w9CsxJUpVaSq",
    "tags": []
   },
   "outputs": [
    {
     "data": {
      "text/html": [
       "Waiting for W&B process to finish... <strong style=\"color:green\">(success).</strong>"
      ],
      "text/plain": [
       "<IPython.core.display.HTML object>"
      ]
     },
     "metadata": {},
     "output_type": "display_data"
    },
    {
     "data": {
      "text/html": [
       "<style>\n",
       "    table.wandb td:nth-child(1) { padding: 0 10px; text-align: left ; width: auto;} td:nth-child(2) {text-align: left ; width: 100%}\n",
       "    .wandb-row { display: flex; flex-direction: row; flex-wrap: wrap; justify-content: flex-start; width: 100% }\n",
       "    .wandb-col { display: flex; flex-direction: column; flex-basis: 100%; flex: 1; padding: 10px; }\n",
       "    </style>\n",
       "<div class=\"wandb-row\"><div class=\"wandb-col\"><h3>Run history:</h3><br/><table class=\"wandb\"><tr><td>epoch/accuracy</td><td>▁▆▇▇█</td></tr><tr><td>epoch/epoch</td><td>▁▃▅▆█</td></tr><tr><td>epoch/learning_rate</td><td>▁▁▁▁▁</td></tr><tr><td>epoch/loss</td><td>█▃▂▁▁</td></tr><tr><td>epoch/val_accuracy</td><td>▁▆▇██</td></tr><tr><td>epoch/val_loss</td><td>█▃▁▁▁</td></tr></table><br/></div><div class=\"wandb-col\"><h3>Run summary:</h3><br/><table class=\"wandb\"><tr><td>epoch/accuracy</td><td>0.91032</td></tr><tr><td>epoch/epoch</td><td>4</td></tr><tr><td>epoch/learning_rate</td><td>0.001</td></tr><tr><td>epoch/loss</td><td>0.27813</td></tr><tr><td>epoch/val_accuracy</td><td>0.85161</td></tr><tr><td>epoch/val_loss</td><td>0.44619</td></tr></table><br/></div></div>"
      ],
      "text/plain": [
       "<IPython.core.display.HTML object>"
      ]
     },
     "metadata": {},
     "output_type": "display_data"
    },
    {
     "data": {
      "text/html": [
       " View run <strong style=\"color:#cdcd00\">warm-blaze-5</strong> at: <a href='https://wandb.ai/edumunozsala/consumer_complaints_classification/runs/o92pyt0v' target=\"_blank\">https://wandb.ai/edumunozsala/consumer_complaints_classification/runs/o92pyt0v</a><br/>Synced 6 W&B file(s), 0 media file(s), 30 artifact file(s) and 0 other file(s)"
      ],
      "text/plain": [
       "<IPython.core.display.HTML object>"
      ]
     },
     "metadata": {},
     "output_type": "display_data"
    },
    {
     "data": {
      "text/html": [
       "Find logs at: <code>./wandb/run-20230827_173521-o92pyt0v/logs</code>"
      ],
      "text/plain": [
       "<IPython.core.display.HTML object>"
      ]
     },
     "metadata": {},
     "output_type": "display_data"
    }
   ],
   "source": [
    "run.log_artifact(baseline_data_at)\n",
    "run.finish()"
   ]
  },
  {
   "cell_type": "code",
   "execution_count": 14,
   "metadata": {
    "id": "66gd5q1uDh0I",
    "tags": []
   },
   "outputs": [
    {
     "data": {
      "text/html": [
       "Waiting for W&B process to finish... <strong style=\"color:green\">(success).</strong>"
      ],
      "text/plain": [
       "<IPython.core.display.HTML object>"
      ]
     },
     "metadata": {},
     "output_type": "display_data"
    },
    {
     "data": {
      "application/vnd.jupyter.widget-view+json": {
       "model_id": "fee47448556b4ee1ac1f4ca43ea374a2",
       "version_major": 2,
       "version_minor": 0
      },
      "text/plain": [
       "VBox(children=(Label(value='0.001 MB of 0.001 MB uploaded (0.000 MB deduped)\\r'), FloatProgress(value=1.0, max…"
      ]
     },
     "metadata": {},
     "output_type": "display_data"
    },
    {
     "data": {
      "text/html": [
       " View run <strong style=\"color:#cdcd00\">young-dawn-3</strong> at: <a href='https://wandb.ai/edumunozsala/consumer_complaints_classification/runs/eeaxrge9' target=\"_blank\">https://wandb.ai/edumunozsala/consumer_complaints_classification/runs/eeaxrge9</a><br/>Synced 6 W&B file(s), 0 media file(s), 0 artifact file(s) and 0 other file(s)"
      ],
      "text/plain": [
       "<IPython.core.display.HTML object>"
      ]
     },
     "metadata": {},
     "output_type": "display_data"
    },
    {
     "data": {
      "text/html": [
       "Find logs at: <code>./wandb/run-20230827_170936-eeaxrge9/logs</code>"
      ],
      "text/plain": [
       "<IPython.core.display.HTML object>"
      ]
     },
     "metadata": {},
     "output_type": "display_data"
    }
   ],
   "source": [
    "run.finish()"
   ]
  },
  {
   "cell_type": "code",
   "execution_count": null,
   "metadata": {},
   "outputs": [],
   "source": []
  }
 ],
 "metadata": {
  "colab": {
   "authorship_tag": "ABX9TyM2mMrZDvw0rNm3mbuDN0HJ",
   "private_outputs": true,
   "provenance": []
  },
  "kernelspec": {
   "display_name": "default:Python",
   "language": "python",
   "name": "conda-env-default-py"
  },
  "language_info": {
   "codemirror_mode": {
    "name": "ipython",
    "version": 3
   },
   "file_extension": ".py",
   "mimetype": "text/x-python",
   "name": "python",
   "nbconvert_exporter": "python",
   "pygments_lexer": "ipython3",
   "version": "3.9.16"
  }
 },
 "nbformat": 4,
 "nbformat_minor": 4
}
