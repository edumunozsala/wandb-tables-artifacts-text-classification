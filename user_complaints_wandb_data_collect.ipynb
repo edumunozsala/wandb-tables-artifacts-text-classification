{
 "cells": [
  {
   "cell_type": "markdown",
   "metadata": {
    "id": "t6Y7i1ZNSn20"
   },
   "source": [
    "# Text Classification on news and W&B Tables and Artifacts\n",
    "\n",
    "# Exploratory Data Analysis on Text Data\n",
    "\n",
    "We can read this concept definition on Wikipedia: **\"exploratory data analysis (EDA) is an approach to analyzing data sets to summarize their main characteristics, often with visual methods.\"**. This step is absolutely necessary and has a huge impact on the final result of a model, this analysis will tell us what type of transformation we need to apply on the dataset.\n",
    "\n",
    "When we face a machine learning problem, we must begin by analyzing the input data set, seeking to identify its characteristics and anomalies. In this notebook, we will explore the dataset, collect some attributes and analyze the main features and characteristics of the data. Then we will upload the raw data and the extra information to W&B and make an EDA on the dataset. \n",
    "\n",
    "### Importing the libraries"
   ]
  },
  {
   "cell_type": "markdown",
   "metadata": {
    "id": "kN4Z2vqRSn28"
   },
   "source": [
    "For the very first time, we need to download and install the following libraries that we will use to plot and visualize some interesting resutls"
   ]
  },
  {
   "cell_type": "code",
   "execution_count": 1,
   "metadata": {
    "colab": {
     "base_uri": "https://localhost:8080/"
    },
    "executionInfo": {
     "elapsed": 10698,
     "status": "ok",
     "timestamp": 1679160330052,
     "user": {
      "displayName": "Eduardo Muñoz Sala",
      "userId": "13317831924226771761"
     },
     "user_tz": -60
    },
    "id": "sTVA2orAwQ61",
    "outputId": "c2501ca4-543a-4ada-f77f-591e42a08aa6",
    "tags": []
   },
   "outputs": [],
   "source": [
    "!pip install wandb -qqq"
   ]
  },
  {
   "cell_type": "code",
   "execution_count": 2,
   "metadata": {
    "tags": []
   },
   "outputs": [
    {
     "name": "stdout",
     "output_type": "stream",
     "text": [
      "Requirement already satisfied: pandas in /home/studio-lab-user/.conda/envs/default/lib/python3.9/site-packages (2.0.3)\n",
      "Requirement already satisfied: nltk in /home/studio-lab-user/.conda/envs/default/lib/python3.9/site-packages (3.8.1)\n",
      "Requirement already satisfied: scikit-learn in /home/studio-lab-user/.conda/envs/default/lib/python3.9/site-packages (1.3.0)\n",
      "Requirement already satisfied: gensim in /home/studio-lab-user/.conda/envs/default/lib/python3.9/site-packages (4.3.1)\n",
      "Requirement already satisfied: wordcloud in /home/studio-lab-user/.conda/envs/default/lib/python3.9/site-packages (1.9.2)\n",
      "Requirement already satisfied: tzdata>=2022.1 in /home/studio-lab-user/.conda/envs/default/lib/python3.9/site-packages (from pandas) (2023.3)\n",
      "Requirement already satisfied: numpy>=1.20.3 in /home/studio-lab-user/.conda/envs/default/lib/python3.9/site-packages (from pandas) (1.25.2)\n",
      "Requirement already satisfied: python-dateutil>=2.8.2 in /home/studio-lab-user/.conda/envs/default/lib/python3.9/site-packages (from pandas) (2.8.2)\n",
      "Requirement already satisfied: pytz>=2020.1 in /home/studio-lab-user/.conda/envs/default/lib/python3.9/site-packages (from pandas) (2023.3)\n",
      "Requirement already satisfied: tqdm in /home/studio-lab-user/.conda/envs/default/lib/python3.9/site-packages (from nltk) (4.66.1)\n",
      "Requirement already satisfied: click in /home/studio-lab-user/.conda/envs/default/lib/python3.9/site-packages (from nltk) (8.1.6)\n",
      "Requirement already satisfied: regex>=2021.8.3 in /home/studio-lab-user/.conda/envs/default/lib/python3.9/site-packages (from nltk) (2023.8.8)\n",
      "Requirement already satisfied: joblib in /home/studio-lab-user/.conda/envs/default/lib/python3.9/site-packages (from nltk) (1.3.2)\n",
      "Requirement already satisfied: threadpoolctl>=2.0.0 in /home/studio-lab-user/.conda/envs/default/lib/python3.9/site-packages (from scikit-learn) (3.2.0)\n",
      "Requirement already satisfied: scipy>=1.5.0 in /home/studio-lab-user/.conda/envs/default/lib/python3.9/site-packages (from scikit-learn) (1.11.2)\n",
      "Requirement already satisfied: smart-open>=1.8.1 in /home/studio-lab-user/.conda/envs/default/lib/python3.9/site-packages (from gensim) (6.3.0)\n",
      "Requirement already satisfied: pillow in /home/studio-lab-user/.conda/envs/default/lib/python3.9/site-packages (from wordcloud) (10.0.0)\n",
      "Requirement already satisfied: matplotlib in /home/studio-lab-user/.conda/envs/default/lib/python3.9/site-packages (from wordcloud) (3.7.2)\n",
      "Requirement already satisfied: six>=1.5 in /home/studio-lab-user/.conda/envs/default/lib/python3.9/site-packages (from python-dateutil>=2.8.2->pandas) (1.16.0)\n",
      "Requirement already satisfied: cycler>=0.10 in /home/studio-lab-user/.conda/envs/default/lib/python3.9/site-packages (from matplotlib->wordcloud) (0.11.0)\n",
      "Requirement already satisfied: packaging>=20.0 in /home/studio-lab-user/.conda/envs/default/lib/python3.9/site-packages (from matplotlib->wordcloud) (23.0)\n",
      "Requirement already satisfied: kiwisolver>=1.0.1 in /home/studio-lab-user/.conda/envs/default/lib/python3.9/site-packages (from matplotlib->wordcloud) (1.4.4)\n",
      "Requirement already satisfied: contourpy>=1.0.1 in /home/studio-lab-user/.conda/envs/default/lib/python3.9/site-packages (from matplotlib->wordcloud) (1.1.0)\n",
      "Requirement already satisfied: fonttools>=4.22.0 in /home/studio-lab-user/.conda/envs/default/lib/python3.9/site-packages (from matplotlib->wordcloud) (4.42.0)\n",
      "Requirement already satisfied: importlib-resources>=3.2.0 in /home/studio-lab-user/.conda/envs/default/lib/python3.9/site-packages (from matplotlib->wordcloud) (5.12.0)\n",
      "Requirement already satisfied: pyparsing<3.1,>=2.3.1 in /home/studio-lab-user/.conda/envs/default/lib/python3.9/site-packages (from matplotlib->wordcloud) (3.0.9)\n",
      "Requirement already satisfied: zipp>=3.1.0 in /home/studio-lab-user/.conda/envs/default/lib/python3.9/site-packages (from importlib-resources>=3.2.0->matplotlib->wordcloud) (3.15.0)\n"
     ]
    }
   ],
   "source": [
    "!pip install pandas nltk scikit-learn gensim wordcloud"
   ]
  },
  {
   "cell_type": "code",
   "execution_count": 3,
   "metadata": {
    "tags": []
   },
   "outputs": [
    {
     "name": "stderr",
     "output_type": "stream",
     "text": [
      "[nltk_data] Downloading package stopwords to /home/studio-lab-\n",
      "[nltk_data]     user/nltk_data...\n",
      "[nltk_data]   Package stopwords is already up-to-date!\n",
      "[nltk_data] Downloading package punkt to /home/studio-lab-\n",
      "[nltk_data]     user/nltk_data...\n",
      "[nltk_data]   Package punkt is already up-to-date!\n",
      "[nltk_data] Downloading package averaged_perceptron_tagger to\n",
      "[nltk_data]     /home/studio-lab-user/nltk_data...\n",
      "[nltk_data]   Package averaged_perceptron_tagger is already up-to-\n",
      "[nltk_data]       date!\n",
      "[nltk_data] Downloading package universal_tagset to /home/studio-lab-\n",
      "[nltk_data]     user/nltk_data...\n",
      "[nltk_data]   Package universal_tagset is already up-to-date!\n"
     ]
    }
   ],
   "source": [
    "import os\n",
    "\n",
    "import pandas as pd\n",
    "\n",
    "import re, string\n",
    "import nltk\n",
    "from nltk.tokenize import word_tokenize, sent_tokenize\n",
    "\n",
    "\n",
    "nltk.download('stopwords')\n",
    "nltk.download('punkt')\n",
    "nltk.download('averaged_perceptron_tagger')\n",
    "nltk.download('universal_tagset')\n",
    "\n",
    "#import gensim\n",
    "#from gensim.summarization.textcleaner import split_sentences\n",
    "#import unicodedata\n",
    "\n",
    "from collections import Counter\n",
    "from wordcloud import WordCloud\n",
    "\n",
    "# Load the library with the CountVectorizer method\n",
    "from sklearn.feature_extraction.text import CountVectorizer\n",
    "from sklearn.model_selection import train_test_split\n",
    "\n",
    "import warnings\n",
    "warnings.simplefilter(\"ignore\", DeprecationWarning)\n",
    "\n",
    "import wandb"
   ]
  },
  {
   "cell_type": "markdown",
   "metadata": {
    "id": "yS-N2DHnSn3A"
   },
   "source": [
    "We will define some global variables to be use during our analysis:"
   ]
  },
  {
   "cell_type": "code",
   "execution_count": 4,
   "metadata": {
    "id": "abo2TvmDqAnV",
    "tags": []
   },
   "outputs": [],
   "source": [
    "# RUN THIS CELL When running out of Colab \n",
    "root_folder = \".\""
   ]
  },
  {
   "cell_type": "code",
   "execution_count": 2,
   "metadata": {
    "executionInfo": {
     "elapsed": 199,
     "status": "ok",
     "timestamp": 1679158749563,
     "user": {
      "displayName": "Eduardo Muñoz Sala",
      "userId": "13317831924226771761"
     },
     "user_tz": -60
    },
    "id": "iaray6XcqAnW"
   },
   "outputs": [],
   "source": [
    "# RUN THIS CELL When running ON Colab \n",
    "from google.colab import drive\n",
    "root_folder = '/content/drive/MyDrive'"
   ]
  },
  {
   "cell_type": "code",
   "execution_count": 5,
   "metadata": {
    "executionInfo": {
     "elapsed": 211,
     "status": "ok",
     "timestamp": 1679158755968,
     "user": {
      "displayName": "Eduardo Muñoz Sala",
      "userId": "13317831924226771761"
     },
     "user_tz": -60
    },
    "id": "a9n9nQd0Sn3A",
    "tags": []
   },
   "outputs": [],
   "source": [
    "#Set the path where the datafiles are stored\n",
    "# Global parameters\n",
    "data_folder_name='data'\n",
    "output_folder = 'W&B-user-complaints-classification/data_analysis'\n",
    "train_filename='complaints_processed.csv'\n",
    "\n",
    "# Variable for data directory\n",
    "data_path = os.path.abspath(os.path.join(root_folder, data_folder_name))\n",
    "train_filenamepath = os.path.abspath(os.path.join(data_path, train_filename))\n",
    "output_path = os.path.abspath(os.path.join(root_folder, output_folder))"
   ]
  },
  {
   "cell_type": "code",
   "execution_count": 6,
   "metadata": {
    "executionInfo": {
     "elapsed": 279,
     "status": "ok",
     "timestamp": 1679158768007,
     "user": {
      "displayName": "Eduardo Muñoz Sala",
      "userId": "13317831924226771761"
     },
     "user_tz": -60
    },
    "id": "RR_tq9oX0vdH",
    "tags": []
   },
   "outputs": [],
   "source": [
    "#Define some global variables for text processing\n",
    "punc = string.punctuation\n",
    "punctuation = string.punctuation.replace('.', '')\n",
    "#Create the list of stopwords\n",
    "stopwords = nltk.corpus.stopwords.words('english')"
   ]
  },
  {
   "cell_type": "markdown",
   "metadata": {
    "id": "CoYdZ1WYSn3A"
   },
   "source": [
    "### Loading the dataset\n",
    "First step, load the whole dataset hosted locally"
   ]
  },
  {
   "cell_type": "code",
   "execution_count": 5,
   "metadata": {
    "colab": {
     "base_uri": "https://localhost:8080/"
    },
    "executionInfo": {
     "elapsed": 27826,
     "status": "ok",
     "timestamp": 1679158800557,
     "user": {
      "displayName": "Eduardo Muñoz Sala",
      "userId": "13317831924226771761"
     },
     "user_tz": -60
    },
    "id": "sMEuZ0pfTXGF",
    "outputId": "994893ca-b57f-4bdd-f402-0f21e6be5a8a"
   },
   "outputs": [
    {
     "name": "stdout",
     "output_type": "stream",
     "text": [
      "Mounted at /content/drive\n"
     ]
    }
   ],
   "source": [
    "# When running in Colab\n",
    "drive.mount(\"/content/drive\", force_remount=True)"
   ]
  },
  {
   "cell_type": "code",
   "execution_count": 7,
   "metadata": {
    "colab": {
     "base_uri": "https://localhost:8080/"
    },
    "executionInfo": {
     "elapsed": 2719,
     "status": "ok",
     "timestamp": 1679158829893,
     "user": {
      "displayName": "Eduardo Muñoz Sala",
      "userId": "13317831924226771761"
     },
     "user_tz": -60
    },
    "id": "Av-cIl9jSn3E",
    "outputId": "ccf0485a-132b-44d5-a661-a25adce96572",
    "tags": []
   },
   "outputs": [
    {
     "name": "stdout",
     "output_type": "stream",
     "text": [
      "            product                                          narrative\n",
      "0       credit_card  purchase order day shipping amount receive pro...\n",
      "1       credit_card  forwarded message date tue subject please inve...\n",
      "2    retail_banking  forwarded message cc sent friday pdt subject f...\n",
      "3  credit_reporting  payment history missing credit report speciali...\n",
      "4  credit_reporting  payment history missing credit report made mis...\n",
      "Num rows:  162421\n"
     ]
    }
   ],
   "source": [
    "# Load the data from the file system\n",
    "data = pd.read_csv(train_filenamepath, header=0, usecols=[1,2])\n",
    "print(data.head(5))\n",
    "print('Num rows: ',len(data))"
   ]
  },
  {
   "cell_type": "markdown",
   "metadata": {
    "id": "8q9hCKaqSn3F"
   },
   "source": [
    "# Data Definition\n",
    "This dataset was downloaded from Kaggle, the Consumer Complaints Dataset, and consist of about 150,000 rows containing the product category and the text of the user complaint. "
   ]
  },
  {
   "cell_type": "markdown",
   "metadata": {
    "id": "xDsAIzcsSn3F"
   },
   "source": [
    "Lets show the data structure and an example of the dataset:"
   ]
  },
  {
   "cell_type": "code",
   "execution_count": 8,
   "metadata": {
    "colab": {
     "base_uri": "https://localhost:8080/"
    },
    "executionInfo": {
     "elapsed": 213,
     "status": "ok",
     "timestamp": 1679158838216,
     "user": {
      "displayName": "Eduardo Muñoz Sala",
      "userId": "13317831924226771761"
     },
     "user_tz": -60
    },
    "id": "svh1GqHOSn3G",
    "outputId": "1dfa6f10-96e3-4dde-8a96-99ff0992fd4c",
    "tags": []
   },
   "outputs": [
    {
     "name": "stdout",
     "output_type": "stream",
     "text": [
      "<class 'pandas.core.frame.DataFrame'>\n",
      "RangeIndex: 162421 entries, 0 to 162420\n",
      "Data columns (total 2 columns):\n",
      " #   Column     Non-Null Count   Dtype \n",
      "---  ------     --------------   ----- \n",
      " 0   product    162421 non-null  object\n",
      " 1   narrative  162411 non-null  object\n",
      "dtypes: object(2)\n",
      "memory usage: 2.5+ MB\n"
     ]
    }
   ],
   "source": [
    "data.info()"
   ]
  },
  {
   "cell_type": "code",
   "execution_count": 9,
   "metadata": {
    "colab": {
     "base_uri": "https://localhost:8080/"
    },
    "executionInfo": {
     "elapsed": 209,
     "status": "ok",
     "timestamp": 1679158841879,
     "user": {
      "displayName": "Eduardo Muñoz Sala",
      "userId": "13317831924226771761"
     },
     "user_tz": -60
    },
    "id": "QHaaSC1BSn3G",
    "outputId": "e512f2a6-6599-42ca-aa34-a53012a00a7f",
    "tags": []
   },
   "outputs": [
    {
     "name": "stdout",
     "output_type": "stream",
     "text": [
      "credit_card \n",
      " purchase order day shipping amount receive product week sent followup email exact verbiage paid two day shipping received order company responded im sorry inform due unusually high order volume order shipped several week stock since early due high demand although continuing take order guaranteeing receive order place due time mask order exact shipping date right however guarantee ship soon soon delivers product u getting small shipment shipping first come first served basis appreciate patience fulfill order quickly recommend keeping order lose place line cancel distributor stock moment prefer cancel please note ask via email cancel accordance cancellation policy agreed checkout electronic inventory online requested order canceled refund issued canceled order sent verification order canceled refunded item particulate respirator refunded subtotal shipping tax total usd visa ending refund called disputed amount stated nothing needed submitted address issue recharged item removing called back dispute amount transaction rebillmerchandiserobert ca purchased thu posted wed purchased appears statement transaction rebill ca u followed see status case submitted documentation showing canceled order supposed submit refund called back speak manager case stated dispute ruled favor charge removed card capital one removed purchase bill purchase adjustmentmerchandiserobert j posted fri purchased appears statement purchase adjustment capital one recharges amount transaction rebillmerchandiserobert j purchased thu posted mon purchased appears statement transaction rebill called capital one requested recharge stated visa ruled case pretended remove purchase knew anything case manager ruling favor \n",
      "\n",
      "credit_card \n",
      " forwarded message date tue subject please investigate comenity bank retailer card scam sent hello name scammed comenity bank credit card provider company childrens place new york forever victoria secret original credit comenity bank lower limit began charge overage fee along late fee began pay close attention card find limit also changed well incurring overage late fee reached company comenity bank stated would change credit limit original limit reached told summit payment account corrected comenity bank credit card impacted credit score plummeted negative status im currently paying price due corruption affected detrimental way debt due company charging overage fee well late fee even initial credit limit fluctuating tremendously company charge major fee account willing correct account nervous said attorney reason im reaching im employee company ruining credit plz help name contact info thank \n",
      "\n"
     ]
    }
   ],
   "source": [
    "print(data['product'][0],'\\n',data['narrative'][0],'\\n')\n",
    "print(data['product'][1],'\\n',data['narrative'][1],'\\n')\n"
   ]
  },
  {
   "cell_type": "markdown",
   "metadata": {
    "id": "A6rdWi55Sn3H"
   },
   "source": [
    "# Descriptive statictics\n",
    "\n",
    "First of all, we extract the basics statistics: count of rows, unique rows, frequencies,... This atributes in the text data will tell us if we need to remove repeated rows or how many rows contains null values in any column. "
   ]
  },
  {
   "cell_type": "code",
   "execution_count": 10,
   "metadata": {
    "colab": {
     "base_uri": "https://localhost:8080/",
     "height": 175
    },
    "executionInfo": {
     "elapsed": 572,
     "status": "ok",
     "timestamp": 1679158846318,
     "user": {
      "displayName": "Eduardo Muñoz Sala",
      "userId": "13317831924226771761"
     },
     "user_tz": -60
    },
    "id": "5q8QFU_rSn3H",
    "outputId": "d3508311-a149-41b3-fc44-1bb2f4640e6e",
    "tags": []
   },
   "outputs": [
    {
     "data": {
      "text/html": [
       "<div>\n",
       "<style scoped>\n",
       "    .dataframe tbody tr th:only-of-type {\n",
       "        vertical-align: middle;\n",
       "    }\n",
       "\n",
       "    .dataframe tbody tr th {\n",
       "        vertical-align: top;\n",
       "    }\n",
       "\n",
       "    .dataframe thead th {\n",
       "        text-align: right;\n",
       "    }\n",
       "</style>\n",
       "<table border=\"1\" class=\"dataframe\">\n",
       "  <thead>\n",
       "    <tr style=\"text-align: right;\">\n",
       "      <th></th>\n",
       "      <th>product</th>\n",
       "      <th>narrative</th>\n",
       "    </tr>\n",
       "  </thead>\n",
       "  <tbody>\n",
       "    <tr>\n",
       "      <th>count</th>\n",
       "      <td>162421</td>\n",
       "      <td>162411</td>\n",
       "    </tr>\n",
       "    <tr>\n",
       "      <th>unique</th>\n",
       "      <td>5</td>\n",
       "      <td>124472</td>\n",
       "    </tr>\n",
       "    <tr>\n",
       "      <th>top</th>\n",
       "      <td>credit_reporting</td>\n",
       "      <td>victim identity notified collection creditor s...</td>\n",
       "    </tr>\n",
       "    <tr>\n",
       "      <th>freq</th>\n",
       "      <td>91179</td>\n",
       "      <td>739</td>\n",
       "    </tr>\n",
       "  </tbody>\n",
       "</table>\n",
       "</div>"
      ],
      "text/plain": [
       "                 product                                          narrative\n",
       "count             162421                                             162411\n",
       "unique                 5                                             124472\n",
       "top     credit_reporting  victim identity notified collection creditor s...\n",
       "freq               91179                                                739"
      ]
     },
     "execution_count": 10,
     "metadata": {},
     "output_type": "execute_result"
    }
   ],
   "source": [
    "# Count the number of examples and unique values\n",
    "#print('Dataset examples: ', len(data))\n",
    "data.describe()"
   ]
  },
  {
   "cell_type": "markdown",
   "metadata": {
    "id": "d9zTpAQISn3I"
   },
   "source": [
    "**Conclusion from statistics**\n",
    "\n",
    "We can observe we have 5 target labels and almost 40,000 duplicated texts, which we have to remove.\n",
    "\n",
    "Reading the previous table we can observe that there are some rows with a null value or repetaed in the variable `description`. So our first step would be to drop those rows. "
   ]
  },
  {
   "cell_type": "markdown",
   "metadata": {
    "id": "PN0vEt6RqeE7"
   },
   "source": [
    "Check for null values:"
   ]
  },
  {
   "cell_type": "code",
   "execution_count": 11,
   "metadata": {
    "colab": {
     "base_uri": "https://localhost:8080/"
    },
    "executionInfo": {
     "elapsed": 209,
     "status": "ok",
     "timestamp": 1679158850619,
     "user": {
      "displayName": "Eduardo Muñoz Sala",
      "userId": "13317831924226771761"
     },
     "user_tz": -60
    },
    "id": "Mf4vneZXqhL9",
    "outputId": "89ef2329-d56c-4aa3-e381-a5d283cec0a3",
    "tags": []
   },
   "outputs": [
    {
     "data": {
      "text/plain": [
       "product       0\n",
       "narrative    10\n",
       "dtype: int64"
      ]
     },
     "execution_count": 11,
     "metadata": {},
     "output_type": "execute_result"
    }
   ],
   "source": [
    "data.isnull().sum()"
   ]
  },
  {
   "cell_type": "markdown",
   "metadata": {
    "id": "jq_GgYzVBwYE"
   },
   "source": [
    "Remove rows with null values and drop duplicates narratives"
   ]
  },
  {
   "cell_type": "code",
   "execution_count": 12,
   "metadata": {
    "colab": {
     "base_uri": "https://localhost:8080/",
     "height": 175
    },
    "executionInfo": {
     "elapsed": 512,
     "status": "ok",
     "timestamp": 1679158866844,
     "user": {
      "displayName": "Eduardo Muñoz Sala",
      "userId": "13317831924226771761"
     },
     "user_tz": -60
    },
    "id": "17eO8sMOSn3I",
    "outputId": "214ec928-b0f1-40ad-fdda-a1265dda2447",
    "tags": []
   },
   "outputs": [
    {
     "data": {
      "text/html": [
       "<div>\n",
       "<style scoped>\n",
       "    .dataframe tbody tr th:only-of-type {\n",
       "        vertical-align: middle;\n",
       "    }\n",
       "\n",
       "    .dataframe tbody tr th {\n",
       "        vertical-align: top;\n",
       "    }\n",
       "\n",
       "    .dataframe thead th {\n",
       "        text-align: right;\n",
       "    }\n",
       "</style>\n",
       "<table border=\"1\" class=\"dataframe\">\n",
       "  <thead>\n",
       "    <tr style=\"text-align: right;\">\n",
       "      <th></th>\n",
       "      <th>product</th>\n",
       "      <th>narrative</th>\n",
       "    </tr>\n",
       "  </thead>\n",
       "  <tbody>\n",
       "    <tr>\n",
       "      <th>count</th>\n",
       "      <td>124472</td>\n",
       "      <td>124472</td>\n",
       "    </tr>\n",
       "    <tr>\n",
       "      <th>unique</th>\n",
       "      <td>5</td>\n",
       "      <td>124472</td>\n",
       "    </tr>\n",
       "    <tr>\n",
       "      <th>top</th>\n",
       "      <td>credit_reporting</td>\n",
       "      <td>name</td>\n",
       "    </tr>\n",
       "    <tr>\n",
       "      <th>freq</th>\n",
       "      <td>56240</td>\n",
       "      <td>1</td>\n",
       "    </tr>\n",
       "  </tbody>\n",
       "</table>\n",
       "</div>"
      ],
      "text/plain": [
       "                 product narrative\n",
       "count             124472    124472\n",
       "unique                 5    124472\n",
       "top     credit_reporting      name\n",
       "freq               56240         1"
      ]
     },
     "execution_count": 12,
     "metadata": {},
     "output_type": "execute_result"
    }
   ],
   "source": [
    "# Remove rows with null values\n",
    "data.dropna(inplace=True)\n",
    "# Drop duplicates on narrative column\n",
    "data.drop_duplicates(subset=['narrative'], keep='first', inplace=True, ignore_index=True)\n",
    "#Recreate the dataframe index\n",
    "#data.reset_index(drop=True,inplace=True)\n",
    "data.describe()"
   ]
  },
  {
   "cell_type": "code",
   "execution_count": 13,
   "metadata": {
    "colab": {
     "base_uri": "https://localhost:8080/",
     "height": 206
    },
    "executionInfo": {
     "elapsed": 220,
     "status": "ok",
     "timestamp": 1679158876458,
     "user": {
      "displayName": "Eduardo Muñoz Sala",
      "userId": "13317831924226771761"
     },
     "user_tz": -60
    },
    "id": "vauzrIpdCRxr",
    "outputId": "cb233daf-16c2-400c-e322-afcd6e549b9e",
    "tags": []
   },
   "outputs": [
    {
     "data": {
      "text/html": [
       "<div>\n",
       "<style scoped>\n",
       "    .dataframe tbody tr th:only-of-type {\n",
       "        vertical-align: middle;\n",
       "    }\n",
       "\n",
       "    .dataframe tbody tr th {\n",
       "        vertical-align: top;\n",
       "    }\n",
       "\n",
       "    .dataframe thead th {\n",
       "        text-align: right;\n",
       "    }\n",
       "</style>\n",
       "<table border=\"1\" class=\"dataframe\">\n",
       "  <thead>\n",
       "    <tr style=\"text-align: right;\">\n",
       "      <th></th>\n",
       "      <th>product</th>\n",
       "      <th>narrative</th>\n",
       "    </tr>\n",
       "  </thead>\n",
       "  <tbody>\n",
       "    <tr>\n",
       "      <th>0</th>\n",
       "      <td>credit_card</td>\n",
       "      <td>purchase order day shipping amount receive pro...</td>\n",
       "    </tr>\n",
       "    <tr>\n",
       "      <th>1</th>\n",
       "      <td>credit_card</td>\n",
       "      <td>forwarded message date tue subject please inve...</td>\n",
       "    </tr>\n",
       "    <tr>\n",
       "      <th>2</th>\n",
       "      <td>retail_banking</td>\n",
       "      <td>forwarded message cc sent friday pdt subject f...</td>\n",
       "    </tr>\n",
       "    <tr>\n",
       "      <th>3</th>\n",
       "      <td>credit_reporting</td>\n",
       "      <td>payment history missing credit report speciali...</td>\n",
       "    </tr>\n",
       "    <tr>\n",
       "      <th>4</th>\n",
       "      <td>credit_reporting</td>\n",
       "      <td>payment history missing credit report made mis...</td>\n",
       "    </tr>\n",
       "  </tbody>\n",
       "</table>\n",
       "</div>"
      ],
      "text/plain": [
       "            product                                          narrative\n",
       "0       credit_card  purchase order day shipping amount receive pro...\n",
       "1       credit_card  forwarded message date tue subject please inve...\n",
       "2    retail_banking  forwarded message cc sent friday pdt subject f...\n",
       "3  credit_reporting  payment history missing credit report speciali...\n",
       "4  credit_reporting  payment history missing credit report made mis..."
      ]
     },
     "execution_count": 13,
     "metadata": {},
     "output_type": "execute_result"
    }
   ],
   "source": [
    "data.head(5)"
   ]
  },
  {
   "cell_type": "markdown",
   "metadata": {},
   "source": [
    "### Sampling the dataset"
   ]
  },
  {
   "cell_type": "markdown",
   "metadata": {},
   "source": [
    "This notebook goal is collecting data for a W&B project and demo how to work with artifacts and reports We want to sample the dataset to extract less data in order to reduce processing time amd storage resources. "
   ]
  },
  {
   "cell_type": "code",
   "execution_count": 14,
   "metadata": {
    "tags": []
   },
   "outputs": [
    {
     "data": {
      "text/plain": [
       "product\n",
       "credit_reporting       56240\n",
       "debt_collection        21057\n",
       "mortgages_and_loans    18723\n",
       "credit_card            14983\n",
       "retail_banking         13469\n",
       "Name: count, dtype: int64"
      ]
     },
     "execution_count": 14,
     "metadata": {},
     "output_type": "execute_result"
    }
   ],
   "source": [
    "data['product'].value_counts()"
   ]
  },
  {
   "cell_type": "markdown",
   "metadata": {},
   "source": [
    "Lets extract a sample, about half of the data 60,000 rows."
   ]
  },
  {
   "cell_type": "code",
   "execution_count": 15,
   "metadata": {
    "tags": []
   },
   "outputs": [],
   "source": [
    "dataset = data.groupby('product', group_keys=False).apply(lambda x: x.sample(frac=0.5)).reset_index(drop=True)"
   ]
  },
  {
   "cell_type": "markdown",
   "metadata": {},
   "source": [
    "Shuffle the data"
   ]
  },
  {
   "cell_type": "code",
   "execution_count": 16,
   "metadata": {
    "tags": []
   },
   "outputs": [
    {
     "data": {
      "text/html": [
       "<div>\n",
       "<style scoped>\n",
       "    .dataframe tbody tr th:only-of-type {\n",
       "        vertical-align: middle;\n",
       "    }\n",
       "\n",
       "    .dataframe tbody tr th {\n",
       "        vertical-align: top;\n",
       "    }\n",
       "\n",
       "    .dataframe thead th {\n",
       "        text-align: right;\n",
       "    }\n",
       "</style>\n",
       "<table border=\"1\" class=\"dataframe\">\n",
       "  <thead>\n",
       "    <tr style=\"text-align: right;\">\n",
       "      <th></th>\n",
       "      <th>product</th>\n",
       "      <th>narrative</th>\n",
       "    </tr>\n",
       "  </thead>\n",
       "  <tbody>\n",
       "    <tr>\n",
       "      <th>0</th>\n",
       "      <td>debt_collection</td>\n",
       "      <td>company reporting three unknown account credit...</td>\n",
       "    </tr>\n",
       "    <tr>\n",
       "      <th>1</th>\n",
       "      <td>debt_collection</td>\n",
       "      <td>recall record boss requested various occasion ...</td>\n",
       "    </tr>\n",
       "    <tr>\n",
       "      <th>2</th>\n",
       "      <td>credit_card</td>\n",
       "      <td>merchant committed fraud shipping incorrect it...</td>\n",
       "    </tr>\n",
       "    <tr>\n",
       "      <th>3</th>\n",
       "      <td>debt_collection</td>\n",
       "      <td>sent debt validation letter company failed val...</td>\n",
       "    </tr>\n",
       "    <tr>\n",
       "      <th>4</th>\n",
       "      <td>debt_collection</td>\n",
       "      <td>phoenix financial service llc company claiming...</td>\n",
       "    </tr>\n",
       "    <tr>\n",
       "      <th>5</th>\n",
       "      <td>credit_reporting</td>\n",
       "      <td>received email mastercard apply application ti...</td>\n",
       "    </tr>\n",
       "    <tr>\n",
       "      <th>6</th>\n",
       "      <td>mortgages_and_loans</td>\n",
       "      <td>closed mortgage newrez llc due refinancing tol...</td>\n",
       "    </tr>\n",
       "    <tr>\n",
       "      <th>7</th>\n",
       "      <td>credit_reporting</td>\n",
       "      <td>getting many email alert experian credit compa...</td>\n",
       "    </tr>\n",
       "    <tr>\n",
       "      <th>8</th>\n",
       "      <td>mortgages_and_loans</td>\n",
       "      <td>may concern moved california due job relocatio...</td>\n",
       "    </tr>\n",
       "    <tr>\n",
       "      <th>9</th>\n",
       "      <td>credit_reporting</td>\n",
       "      <td>filed bankruptcy included part debt bankruptcy...</td>\n",
       "    </tr>\n",
       "  </tbody>\n",
       "</table>\n",
       "</div>"
      ],
      "text/plain": [
       "               product                                          narrative\n",
       "0      debt_collection  company reporting three unknown account credit...\n",
       "1      debt_collection  recall record boss requested various occasion ...\n",
       "2          credit_card  merchant committed fraud shipping incorrect it...\n",
       "3      debt_collection  sent debt validation letter company failed val...\n",
       "4      debt_collection  phoenix financial service llc company claiming...\n",
       "5     credit_reporting  received email mastercard apply application ti...\n",
       "6  mortgages_and_loans  closed mortgage newrez llc due refinancing tol...\n",
       "7     credit_reporting  getting many email alert experian credit compa...\n",
       "8  mortgages_and_loans  may concern moved california due job relocatio...\n",
       "9     credit_reporting  filed bankruptcy included part debt bankruptcy..."
      ]
     },
     "execution_count": 16,
     "metadata": {},
     "output_type": "execute_result"
    }
   ],
   "source": [
    "dataset = dataset.sample(frac=1, ignore_index=True)\n",
    "dataset.head(10)"
   ]
  },
  {
   "cell_type": "markdown",
   "metadata": {},
   "source": [
    "Show the count of examples for every target class"
   ]
  },
  {
   "cell_type": "code",
   "execution_count": 17,
   "metadata": {
    "tags": []
   },
   "outputs": [
    {
     "data": {
      "text/plain": [
       "product\n",
       "credit_reporting       28120\n",
       "debt_collection        10528\n",
       "mortgages_and_loans     9362\n",
       "credit_card             7492\n",
       "retail_banking          6734\n",
       "Name: count, dtype: int64"
      ]
     },
     "execution_count": 17,
     "metadata": {},
     "output_type": "execute_result"
    }
   ],
   "source": [
    "dataset['product'].value_counts()"
   ]
  },
  {
   "cell_type": "markdown",
   "metadata": {
    "id": "mk74XkxrSn3K"
   },
   "source": [
    "## Cleaning the data\n",
    "\n",
    "This dataset was already preprocessed and cleaned: lowercased, stopwords removed, etc. We do not need to apply this transformations, but it is very rare to work with a cleaned dataset.\n",
    "\n",
    "**DO NOT APPLY THIS SECTION**\n"
   ]
  },
  {
   "cell_type": "code",
   "execution_count": null,
   "metadata": {
    "colab": {
     "base_uri": "https://localhost:8080/"
    },
    "executionInfo": {
     "elapsed": 231,
     "status": "ok",
     "timestamp": 1678645014287,
     "user": {
      "displayName": "Eduardo Muñoz Sala",
      "userId": "13317831924226771761"
     },
     "user_tz": -60
    },
    "id": "BWsydnBfCfug",
    "outputId": "aa066a93-e8e9-4c4a-d157-e60a344b9510"
   },
   "outputs": [
    {
     "data": {
      "text/plain": [
       "0    purchase order day shipping amount receive pro...\n",
       "1    forwarded message date tue subject please inve...\n",
       "2    forwarded message cc sent friday pdt subject f...\n",
       "3    payment history missing credit report speciali...\n",
       "4    payment history missing credit report made mis...\n",
       "5    payment history missing credit report made mis...\n",
       "6    va date complaint experian credit bureau invol...\n",
       "7    account reported abbreviated name full name se...\n",
       "8    account reported abbreviated name full name se...\n",
       "9    usdoexxxx account reported abbreviated name fu...\n",
       "Name: narrative, dtype: object"
      ]
     },
     "execution_count": 35,
     "metadata": {},
     "output_type": "execute_result"
    }
   ],
   "source": [
    "data['narrative'][0:10]"
   ]
  },
  {
   "cell_type": "code",
   "execution_count": null,
   "metadata": {
    "id": "RwB_1KScSn3K"
   },
   "outputs": [],
   "source": [
    "def remove_URL(text):\n",
    "    ''' Remove URLs from the text'''\n",
    "    url = re.compile(r'https?://\\S+|www\\.\\S+')\n",
    "    return url.sub(r'',text)\n",
    "\n",
    "# Remove html tag\n",
    "def remove_html(text):\n",
    "    ''' Remove HTML tags from the text'''\n",
    "    html=re.compile(r'<.*?>')\n",
    "    return html.sub(r'',text)\n",
    "\n",
    "def remove_mention(text):\n",
    "    ''' Remove mentions from the text'''\n",
    "    url = re.compile(r'@\\S*')\n",
    "    return url.sub(r'',text)\n",
    "\n",
    "def remove_mult_spaces(text):\n",
    "    ''' Reduce multispace to one single space'''\n",
    "    re_mult_space = re.compile(r\"  *\") # replace multiple spaces with just one\n",
    "    return re_mult_space.sub(r' ', text)\n",
    "\n",
    "def remove_non_character(text):\n",
    "    ''' Remove some non alphanumeric characters'''\n",
    "    url = re.compile(r'\\x89\\S*|\\x9b\\S*|\\x92\\S*|x93\\S*|\\x8a\\S*|\\x8f\\S*|\\x9d\\S*|\\x8c\\S*|\\x91\\S*|\\x87\\S*|\\x88\\S*|\\x82\\S*')\n",
    "    #url = re.compile(r'\\x\\d+\\S*')\n",
    "    return url.sub(r'',text)\n",
    "\n",
    "def remove_punctuation(text, punctuation):\n",
    "    ''' Remove punctuation from the text'''\n",
    "    table=str.maketrans('','',punctuation)\n",
    "    return text.translate(table)\n",
    "\n",
    "def remove_emoji(text):\n",
    "    ''' Remove emojis from the text'''\n",
    "    emoji_pattern = re.compile(\"[\"\n",
    "                           u\"\\U0001F600-\\U0001F64F\"  # emoticons\n",
    "                           u\"\\U0001F300-\\U0001F5FF\"  # symbols & pictographs\n",
    "                           u\"\\U0001F680-\\U0001F6FF\"  # transport & map symbols\n",
    "                           u\"\\U0001F1E0-\\U0001F1FF\"  # flags (iOS)\n",
    "                           u\"\\U00002702-\\U000027B0\"\n",
    "                           u\"\\U000024C2-\\U0001F251\"\n",
    "                           \"]+\", flags=re.UNICODE)\n",
    "    return emoji_pattern.sub(r'', text)\n",
    "\n",
    "def remove_CTL(text):\n",
    "    ''' Remove end of line from the text'''\n",
    "    url = re.compile(r'\\n')\n",
    "    return url.sub(r' ',text)\n",
    "\n",
    "def remove_hashtag(text):\n",
    "    ''' Remove hashtags from the text'''\n",
    "    url = re.compile(r'#\\S*')\n",
    "    return url.sub(r'',text)\n",
    "\n",
    "def unicode_to_ascii(s):\n",
    "    ''' Transform unicode symbols to ascii'''\n",
    "    return ''.join(c for c in unicodedata.normalize('NFD', s)\n",
    "                    if unicodedata.category(c) != 'Mn')\n"
   ]
  },
  {
   "cell_type": "code",
   "execution_count": null,
   "metadata": {
    "id": "oYRiLc8TrZ5c"
   },
   "outputs": [],
   "source": [
    "def clean_text(text):\n",
    "    ''' Clean the input text using common techniques'''\n",
    "    new_text = text.map(lambda x: x.lower())\n",
    "    new_text=new_text.apply(lambda x : unicode_to_ascii(x))\n",
    "    #new_text=new_text.apply(lambda x : replace_mapping(x, special_mapping))\n",
    "    new_text=new_text.apply(lambda x : remove_URL(x))\n",
    "    new_text=new_text.apply(lambda x : remove_html(x))\n",
    "    new_text=new_text.apply(lambda x : remove_emoji(x))\n",
    "    new_text=new_text.apply(lambda x : remove_CTL(x))\n",
    "    #new_text=new_text.apply(lambda x : expand_contractions(x,contraction_mapping))\n",
    "    new_text=new_text.apply(lambda x : remove_non_character(x))\n",
    "    new_text=new_text.apply(lambda x : remove_mention(x))\n",
    "    new_text=new_text.apply(lambda x : remove_hashtag(x))\n",
    "    #new_text=new_text.apply(lambda x : remove_punctuation(x, punctuation))\n",
    "    new_text=new_text.apply(lambda x : remove_mult_spaces(x))\n",
    "    return new_text\n"
   ]
  },
  {
   "cell_type": "code",
   "execution_count": null,
   "metadata": {
    "colab": {
     "base_uri": "https://localhost:8080/"
    },
    "executionInfo": {
     "elapsed": 25643,
     "status": "ok",
     "timestamp": 1634317650933,
     "user": {
      "displayName": "Eduardo Muñoz Sala",
      "photoUrl": "https://lh3.googleusercontent.com/a-/AOh14Gi9gTFB7xfdxQyNiKRUzqE5vwb9WQjQuMtQz5F16w=s64",
      "userId": "13317831924226771761"
     },
     "user_tz": -120
    },
    "id": "36MkUyy8rvmK",
    "outputId": "2bf748ff-f2dc-48ec-ff4a-c81248c976ee"
   },
   "outputs": [
    {
     "name": "stdout",
     "output_type": "stream",
     "text": [
      "50000\n"
     ]
    }
   ],
   "source": [
    "# Apply the cleaning functions to the review text\n",
    "data_text = clean_text(dataset['review_es'])\n",
    "#Checking the results\n",
    "print(len(data_text))"
   ]
  },
  {
   "cell_type": "code",
   "execution_count": null,
   "metadata": {
    "colab": {
     "base_uri": "https://localhost:8080/"
    },
    "executionInfo": {
     "elapsed": 214,
     "status": "ok",
     "timestamp": 1634317692357,
     "user": {
      "displayName": "Eduardo Muñoz Sala",
      "photoUrl": "https://lh3.googleusercontent.com/a-/AOh14Gi9gTFB7xfdxQyNiKRUzqE5vwb9WQjQuMtQz5F16w=s64",
      "userId": "13317831924226771761"
     },
     "user_tz": -120
    },
    "id": "zk3for0uSn3K",
    "outputId": "243d0617-e322-4a40-f956-3a2d65973864"
   },
   "outputs": [
    {
     "name": "stdout",
     "output_type": "stream",
     "text": [
      "                                           review_es sentimiento\n",
      "0  Uno de los otros críticos ha mencionado que de...    positivo\n",
      "1  Una pequeña pequeña producción.La técnica de f...    positivo\n",
      "2  Pensé que esta era una manera maravillosa de p...    positivo\n",
      "3  Básicamente, hay una familia donde un niño peq...    negativo\n",
      "4  El \"amor en el tiempo\" de Petter Mattei es una...    positivo\n",
      "                                                review_es sentimiento\n",
      "count                                               50000       50000\n",
      "unique                                              49599           2\n",
      "top     Hilarante, limpio, alegre y digno de cita.¿Qué...    positivo\n",
      "freq                                                    4       25000\n"
     ]
    }
   ],
   "source": [
    "# Print some examples and statistics\n",
    "print(dataset.head(5))\n",
    "print(dataset.describe())"
   ]
  },
  {
   "cell_type": "code",
   "execution_count": null,
   "metadata": {
    "colab": {
     "base_uri": "https://localhost:8080/"
    },
    "executionInfo": {
     "elapsed": 222,
     "status": "ok",
     "timestamp": 1634317702020,
     "user": {
      "displayName": "Eduardo Muñoz Sala",
      "photoUrl": "https://lh3.googleusercontent.com/a-/AOh14Gi9gTFB7xfdxQyNiKRUzqE5vwb9WQjQuMtQz5F16w=s64",
      "userId": "13317831924226771761"
     },
     "user_tz": -120
    },
    "id": "R3NxNxVWSn3L",
    "outputId": "9576372d-0e76-47d3-b0ac-f23d82ff4c2c"
   },
   "outputs": [
    {
     "name": "stdout",
     "output_type": "stream",
     "text": [
      "una pequena pequena produccion.la tecnica de filmacion es muy incuestionable, muy antigua, la moda de la bbc y le da una sensacion de realismo reconfortante, y, a veces, incomodo, y, a veces, a la pieza.los actores son extremadamente bien elegidos, michael sheen, no solo \"tiene todo el polari\", ¡pero tiene todas las voces por palmaditas!realmente puede ver la edicion perfecta guiada por las referencias a las entradas del diario de williams, no solo vale la pena la observacion, pero es una pieza imperrementemente escrita y realizada.una produccion magistral sobre uno de los grandes maestros de la comedia y su vida.el realismo realmente llega a casa con las pequenas cosas: la fantasia del guardia que, en lugar de usar las tecnicas de \"sueno\" tradicionales permanece solido, entonces desaparece.se desempena nuestro conocimiento y nuestros sentidos, particularmente con las escenas relacionadas con orton y halliwell y los conjuntos (particularmente de su apartamento con murales de halliwell que decoran cada superficie) estan terriblemente bien hechos. \n",
      " positivo \n",
      "\n"
     ]
    }
   ],
   "source": [
    "# Save the cleaned and tokenize text in the dataframe\n",
    "dataset['review_es']=data_text\n",
    "#dataset['name']=data_headlines\n",
    "print(dataset['review_es'][1],'\\n',dataset['sentimiento'][1],'\\n')"
   ]
  },
  {
   "cell_type": "markdown",
   "metadata": {
    "id": "KOC0eN-RDfex"
   },
   "source": [
    "# Analyze data balance\n",
    "\n",
    "One mandatory task in any classification task is to analyze the count of rows for every target label to avoid or limit the impact of unbalanced classes."
   ]
  },
  {
   "cell_type": "code",
   "execution_count": 45,
   "metadata": {
    "colab": {
     "base_uri": "https://localhost:8080/"
    },
    "executionInfo": {
     "elapsed": 207,
     "status": "ok",
     "timestamp": 1679158968079,
     "user": {
      "displayName": "Eduardo Muñoz Sala",
      "userId": "13317831924226771761"
     },
     "user_tz": -60
    },
    "id": "tCpR7WNBD_h6",
    "outputId": "98c10e68-c13c-4c1f-ecfd-97a9d4522918",
    "tags": []
   },
   "outputs": [
    {
     "data": {
      "text/plain": [
       "product\n",
       "credit_reporting       56240\n",
       "debt_collection        21057\n",
       "mortgages_and_loans    18723\n",
       "credit_card            14983\n",
       "retail_banking         13469\n",
       "Name: count, dtype: int64"
      ]
     },
     "execution_count": 45,
     "metadata": {},
     "output_type": "execute_result"
    }
   ],
   "source": [
    "data['product'].value_counts()"
   ]
  },
  {
   "cell_type": "markdown",
   "metadata": {
    "id": "sL-fk5-eESw9"
   },
   "source": [
    "### Category 'credit_reporting'.\n",
    "\n",
    "To limit this unbalanced feature we will downsample our data to only 15,000 rows in the categories: `credit_reporting`,`debt_collection`, mortgages_and_loans` . And for the sake of this experiment this step will reduce our data volume and we can perform a shorter and cheaper training."
   ]
  },
  {
   "cell_type": "code",
   "execution_count": 14,
   "metadata": {
    "colab": {
     "base_uri": "https://localhost:8080/"
    },
    "executionInfo": {
     "elapsed": 203,
     "status": "ok",
     "timestamp": 1679158970535,
     "user": {
      "displayName": "Eduardo Muñoz Sala",
      "userId": "13317831924226771761"
     },
     "user_tz": -60
    },
    "id": "pInTKIMSE-AX",
    "outputId": "b1e3e54c-a3e0-422e-8849-e82ea68743fa"
   },
   "outputs": [
    {
     "name": "stdout",
     "output_type": "stream",
     "text": [
      "(56240, 2)\n",
      "(21057, 2)\n",
      "(18723, 2)\n"
     ]
    }
   ],
   "source": [
    "credit = data[data[\"product\"] == \"credit_reporting\"]\n",
    "debt  = data[data[\"product\"] == \"debt_collection\"]\n",
    "mortgage  = data[data[\"product\"] == \"mortgages_and_loans\"]\n",
    "print(credit.shape)\n",
    "print(debt.shape)\n",
    "print(mortgage.shape)"
   ]
  },
  {
   "cell_type": "code",
   "execution_count": 15,
   "metadata": {
    "colab": {
     "base_uri": "https://localhost:8080/"
    },
    "executionInfo": {
     "elapsed": 7,
     "status": "ok",
     "timestamp": 1679158973134,
     "user": {
      "displayName": "Eduardo Muñoz Sala",
      "userId": "13317831924226771761"
     },
     "user_tz": -60
    },
    "id": "3acoCZExHuNk",
    "outputId": "71444ac4-e539-4d62-d736-95eed89d0002"
   },
   "outputs": [
    {
     "name": "stdout",
     "output_type": "stream",
     "text": [
      "(15000, 2)\n",
      "(15000, 2)\n",
      "(15000, 2)\n"
     ]
    }
   ],
   "source": [
    "# Sample the three columns in the dataset to extract 15,000 rows\n",
    "credit = credit.sample(n=15000, replace=False, random_state=42)\n",
    "debt = debt.sample(n=15000, replace=False, random_state=42)\n",
    "mortgage = mortgage.sample(n=15000, replace=False, random_state=42)\n",
    "print(credit.shape)\n",
    "print(debt.shape)\n",
    "print(mortgage.shape)"
   ]
  },
  {
   "cell_type": "markdown",
   "metadata": {
    "id": "Eh8vd7NdmBH0"
   },
   "source": [
    "Now, we build a new dataframe concatening these samples and the others two originals columns."
   ]
  },
  {
   "cell_type": "code",
   "execution_count": 16,
   "metadata": {
    "colab": {
     "base_uri": "https://localhost:8080/",
     "height": 206
    },
    "executionInfo": {
     "elapsed": 214,
     "status": "ok",
     "timestamp": 1679159012845,
     "user": {
      "displayName": "Eduardo Muñoz Sala",
      "userId": "13317831924226771761"
     },
     "user_tz": -60
    },
    "id": "kIez29jzI7b4",
    "outputId": "72a43814-fd30-4e49-dcce-acf2fb188d6c"
   },
   "outputs": [
    {
     "data": {
      "text/html": [
       "\n",
       "  <div id=\"df-b93296d6-3a73-40a7-9734-6bd35214b536\">\n",
       "    <div class=\"colab-df-container\">\n",
       "      <div>\n",
       "<style scoped>\n",
       "    .dataframe tbody tr th:only-of-type {\n",
       "        vertical-align: middle;\n",
       "    }\n",
       "\n",
       "    .dataframe tbody tr th {\n",
       "        vertical-align: top;\n",
       "    }\n",
       "\n",
       "    .dataframe thead th {\n",
       "        text-align: right;\n",
       "    }\n",
       "</style>\n",
       "<table border=\"1\" class=\"dataframe\">\n",
       "  <thead>\n",
       "    <tr style=\"text-align: right;\">\n",
       "      <th></th>\n",
       "      <th>product</th>\n",
       "      <th>narrative</th>\n",
       "    </tr>\n",
       "  </thead>\n",
       "  <tbody>\n",
       "    <tr>\n",
       "      <th>0</th>\n",
       "      <td>credit_reporting</td>\n",
       "      <td>please remove highlighted account credit repor...</td>\n",
       "    </tr>\n",
       "    <tr>\n",
       "      <th>1</th>\n",
       "      <td>credit_reporting</td>\n",
       "      <td>experian violation section fair credit reporti...</td>\n",
       "    </tr>\n",
       "    <tr>\n",
       "      <th>2</th>\n",
       "      <td>credit_reporting</td>\n",
       "      <td>experian continues report false information cr...</td>\n",
       "    </tr>\n",
       "    <tr>\n",
       "      <th>3</th>\n",
       "      <td>credit_reporting</td>\n",
       "      <td>listed belong someone stole used social securi...</td>\n",
       "    </tr>\n",
       "    <tr>\n",
       "      <th>4</th>\n",
       "      <td>credit_reporting</td>\n",
       "      <td>complained year equifax done nothing update co...</td>\n",
       "    </tr>\n",
       "  </tbody>\n",
       "</table>\n",
       "</div>\n",
       "      <button class=\"colab-df-convert\" onclick=\"convertToInteractive('df-b93296d6-3a73-40a7-9734-6bd35214b536')\"\n",
       "              title=\"Convert this dataframe to an interactive table.\"\n",
       "              style=\"display:none;\">\n",
       "        \n",
       "  <svg xmlns=\"http://www.w3.org/2000/svg\" height=\"24px\"viewBox=\"0 0 24 24\"\n",
       "       width=\"24px\">\n",
       "    <path d=\"M0 0h24v24H0V0z\" fill=\"none\"/>\n",
       "    <path d=\"M18.56 5.44l.94 2.06.94-2.06 2.06-.94-2.06-.94-.94-2.06-.94 2.06-2.06.94zm-11 1L8.5 8.5l.94-2.06 2.06-.94-2.06-.94L8.5 2.5l-.94 2.06-2.06.94zm10 10l.94 2.06.94-2.06 2.06-.94-2.06-.94-.94-2.06-.94 2.06-2.06.94z\"/><path d=\"M17.41 7.96l-1.37-1.37c-.4-.4-.92-.59-1.43-.59-.52 0-1.04.2-1.43.59L10.3 9.45l-7.72 7.72c-.78.78-.78 2.05 0 2.83L4 21.41c.39.39.9.59 1.41.59.51 0 1.02-.2 1.41-.59l7.78-7.78 2.81-2.81c.8-.78.8-2.07 0-2.86zM5.41 20L4 18.59l7.72-7.72 1.47 1.35L5.41 20z\"/>\n",
       "  </svg>\n",
       "      </button>\n",
       "      \n",
       "  <style>\n",
       "    .colab-df-container {\n",
       "      display:flex;\n",
       "      flex-wrap:wrap;\n",
       "      gap: 12px;\n",
       "    }\n",
       "\n",
       "    .colab-df-convert {\n",
       "      background-color: #E8F0FE;\n",
       "      border: none;\n",
       "      border-radius: 50%;\n",
       "      cursor: pointer;\n",
       "      display: none;\n",
       "      fill: #1967D2;\n",
       "      height: 32px;\n",
       "      padding: 0 0 0 0;\n",
       "      width: 32px;\n",
       "    }\n",
       "\n",
       "    .colab-df-convert:hover {\n",
       "      background-color: #E2EBFA;\n",
       "      box-shadow: 0px 1px 2px rgba(60, 64, 67, 0.3), 0px 1px 3px 1px rgba(60, 64, 67, 0.15);\n",
       "      fill: #174EA6;\n",
       "    }\n",
       "\n",
       "    [theme=dark] .colab-df-convert {\n",
       "      background-color: #3B4455;\n",
       "      fill: #D2E3FC;\n",
       "    }\n",
       "\n",
       "    [theme=dark] .colab-df-convert:hover {\n",
       "      background-color: #434B5C;\n",
       "      box-shadow: 0px 1px 3px 1px rgba(0, 0, 0, 0.15);\n",
       "      filter: drop-shadow(0px 1px 2px rgba(0, 0, 0, 0.3));\n",
       "      fill: #FFFFFF;\n",
       "    }\n",
       "  </style>\n",
       "\n",
       "      <script>\n",
       "        const buttonEl =\n",
       "          document.querySelector('#df-b93296d6-3a73-40a7-9734-6bd35214b536 button.colab-df-convert');\n",
       "        buttonEl.style.display =\n",
       "          google.colab.kernel.accessAllowed ? 'block' : 'none';\n",
       "\n",
       "        async function convertToInteractive(key) {\n",
       "          const element = document.querySelector('#df-b93296d6-3a73-40a7-9734-6bd35214b536');\n",
       "          const dataTable =\n",
       "            await google.colab.kernel.invokeFunction('convertToInteractive',\n",
       "                                                     [key], {});\n",
       "          if (!dataTable) return;\n",
       "\n",
       "          const docLinkHtml = 'Like what you see? Visit the ' +\n",
       "            '<a target=\"_blank\" href=https://colab.research.google.com/notebooks/data_table.ipynb>data table notebook</a>'\n",
       "            + ' to learn more about interactive tables.';\n",
       "          element.innerHTML = '';\n",
       "          dataTable['output_type'] = 'display_data';\n",
       "          await google.colab.output.renderOutput(dataTable, element);\n",
       "          const docLink = document.createElement('div');\n",
       "          docLink.innerHTML = docLinkHtml;\n",
       "          element.appendChild(docLink);\n",
       "        }\n",
       "      </script>\n",
       "    </div>\n",
       "  </div>\n",
       "  "
      ],
      "text/plain": [
       "            product                                          narrative\n",
       "0  credit_reporting  please remove highlighted account credit repor...\n",
       "1  credit_reporting  experian violation section fair credit reporti...\n",
       "2  credit_reporting  experian continues report false information cr...\n",
       "3  credit_reporting  listed belong someone stole used social securi...\n",
       "4  credit_reporting  complained year equifax done nothing update co..."
      ]
     },
     "execution_count": 16,
     "metadata": {},
     "output_type": "execute_result"
    }
   ],
   "source": [
    "data_balanced=pd.concat([credit, debt, mortgage, data[data[\"product\"] == \"credit_card\"], data[data[\"product\"] == \"retail_banking\"]], ignore_index=True)\n",
    "data_balanced.head(5)"
   ]
  },
  {
   "cell_type": "code",
   "execution_count": 16,
   "metadata": {
    "colab": {
     "base_uri": "https://localhost:8080/"
    },
    "executionInfo": {
     "elapsed": 8,
     "status": "ok",
     "timestamp": 1679078135900,
     "user": {
      "displayName": "Eduardo Muñoz Sala",
      "userId": "13317831924226771761"
     },
     "user_tz": -60
    },
    "id": "lgKIQFbtJNrO",
    "outputId": "8b6a8f5a-2d31-4829-ae35-b8bca21c7462"
   },
   "outputs": [
    {
     "data": {
      "text/plain": [
       "credit_reporting       15000\n",
       "debt_collection        15000\n",
       "mortgages_and_loans    15000\n",
       "credit_card            14983\n",
       "retail_banking         13469\n",
       "Name: product, dtype: int64"
      ]
     },
     "execution_count": 16,
     "metadata": {},
     "output_type": "execute_result"
    }
   ],
   "source": [
    "# Check the count of rows for every category\n",
    "data_balanced['product'].value_counts()"
   ]
  },
  {
   "cell_type": "markdown",
   "metadata": {
    "id": "J9MoTFfxSn3L"
   },
   "source": [
    "# Exploring relevant features in the data\n",
    "\n",
    "In this section we will create some additional features that provide relevant information about the composition of our texts. The following list explains different ideas for creating new features:"
   ]
  },
  {
   "cell_type": "markdown",
   "metadata": {
    "id": "hypiRYpTSn3L"
   },
   "source": [
    "#### Statistical Count Features from headlines and text\n",
    "- Sentence Count - Total number of sentences in the text\n",
    "- Word Count - Total number of words in the text\n",
    "- Character Count - Total number of characters in the text excluding spaces\n",
    "- Sentence density - Number of sentences relative to the number of words\n",
    "- Word Density - Average length of the words used in the text\n",
    "- Punctuation Count - Total number of punctuations used in the text\n",
    "- Stopwords Count - Total number of common stopwords in the text\n"
   ]
  },
  {
   "cell_type": "markdown",
   "metadata": {
    "id": "iw1ElcwGSn3M"
   },
   "source": [
    "Lets define some helpers function "
   ]
  },
  {
   "cell_type": "code",
   "execution_count": 18,
   "metadata": {
    "executionInfo": {
     "elapsed": 187,
     "status": "ok",
     "timestamp": 1679159031019,
     "user": {
      "displayName": "Eduardo Muñoz Sala",
      "userId": "13317831924226771761"
     },
     "user_tz": -60
    },
    "id": "w5e598ZsSn3M",
    "tags": []
   },
   "outputs": [],
   "source": [
    "def count_stopwords(text, stopwords):\n",
    "    ''' Return the number of stopwords in the text\n",
    "        Input:\n",
    "            - text: string\n",
    "            - stopwords: list of string, containing the stopwords\n",
    "        Output:\n",
    "            - int, number of stopwords in the text argument\n",
    "    '''\n",
    "    word_tokens = word_tokenize(text) #splitta i pezzi\n",
    "    stopwords_x = [w for w in word_tokens if w in stopwords]\n",
    "    \n",
    "    return len(stopwords_x)"
   ]
  },
  {
   "cell_type": "markdown",
   "metadata": {},
   "source": [
    "To split sentences we need to load a module fro NLTK library"
   ]
  },
  {
   "cell_type": "code",
   "execution_count": 19,
   "metadata": {
    "tags": []
   },
   "outputs": [
    {
     "data": {
      "text/plain": [
       "['una pequena pequena produccion.',\n",
       " 'la tecnica de filmacion es muy incuestionable, muy antigua.',\n",
       " 'la moda de la bbc y le da una sensacion de realismo reconfortante, y, a veces, incomodo, y, a veces, a la pieza.']"
      ]
     },
     "execution_count": 19,
     "metadata": {},
     "output_type": "execute_result"
    }
   ],
   "source": [
    "t = \"una pequena pequena produccion. la tecnica de filmacion es muy incuestionable, muy antigua. la moda de la bbc y le da una sensacion de realismo reconfortante, y, a veces, incomodo, y, a veces, a la pieza.\"\n",
    "#print('\\n-----\\n'.join(tokenizer.tokenize(t)))\n",
    "#tokenizer.tokenize(t)\n",
    "sent_tokenize(t)"
   ]
  },
  {
   "cell_type": "markdown",
   "metadata": {
    "id": "sPoVuz4oSn3M"
   },
   "source": [
    "It is time to calculate every new feature previously listed. "
   ]
  },
  {
   "cell_type": "code",
   "execution_count": 20,
   "metadata": {
    "executionInfo": {
     "elapsed": 42441,
     "status": "ok",
     "timestamp": 1679159077648,
     "user": {
      "displayName": "Eduardo Muñoz Sala",
      "userId": "13317831924226771761"
     },
     "user_tz": -60
    },
    "id": "TjIVMwzhSn3M",
    "tags": []
   },
   "outputs": [],
   "source": [
    "# Create a new variable containing the number of sentences in the text\n",
    "dataset['sent_count'] = dataset['narrative'].apply(lambda x : len(sent_tokenize(x)))\n",
    "# Create a new variable containing the number of word in the text\n",
    "dataset['word_count'] = dataset['narrative'].apply(lambda x : len(x.split()))\n",
    "# Create a new variable containing the number of characters in the text\n",
    "dataset['char_count'] = dataset['narrative'].apply(lambda x : len(x.replace(\" \",\"\")))\n",
    "# Create a new variable containing the density of words in the text\n",
    "dataset['word_density'] = dataset['char_count'] / (dataset['word_count'] + 1)\n",
    "# Create a new variable containing the density of sentences in the text\n",
    "dataset['sent_density'] = dataset['word_count'] / (dataset['sent_count'] + 1)\n",
    "# Create a new variable containing the number of punctuations in the text\n",
    "dataset['punc_count'] = dataset['narrative'].apply(lambda x : len([a for a in x if a in punc]))\n",
    "\n",
    "# Stopwords\n",
    "# Create a new variable containing the number of stopwords in the text\n",
    "dataset['stopw_count'] =  dataset['narrative'].apply(lambda x : count_stopwords(x, stopwords))\n",
    "# Create a new variable containing the density of stopwords in the text\n",
    "dataset['stopw_density'] = dataset['stopw_count'] / (dataset['word_count'] + 1)"
   ]
  },
  {
   "cell_type": "code",
   "execution_count": 21,
   "metadata": {
    "colab": {
     "base_uri": "https://localhost:8080/",
     "height": 300
    },
    "executionInfo": {
     "elapsed": 215,
     "status": "ok",
     "timestamp": 1679159103470,
     "user": {
      "displayName": "Eduardo Muñoz Sala",
      "userId": "13317831924226771761"
     },
     "user_tz": -60
    },
    "id": "c-59mcwJnjA_",
    "outputId": "85ea19c2-f8f6-4936-da2b-b1c6f3968805",
    "tags": []
   },
   "outputs": [
    {
     "data": {
      "text/html": [
       "<div>\n",
       "<style scoped>\n",
       "    .dataframe tbody tr th:only-of-type {\n",
       "        vertical-align: middle;\n",
       "    }\n",
       "\n",
       "    .dataframe tbody tr th {\n",
       "        vertical-align: top;\n",
       "    }\n",
       "\n",
       "    .dataframe thead th {\n",
       "        text-align: right;\n",
       "    }\n",
       "</style>\n",
       "<table border=\"1\" class=\"dataframe\">\n",
       "  <thead>\n",
       "    <tr style=\"text-align: right;\">\n",
       "      <th></th>\n",
       "      <th>sent_count</th>\n",
       "      <th>word_count</th>\n",
       "      <th>char_count</th>\n",
       "      <th>word_density</th>\n",
       "      <th>sent_density</th>\n",
       "      <th>punc_count</th>\n",
       "      <th>stopw_count</th>\n",
       "      <th>stopw_density</th>\n",
       "    </tr>\n",
       "  </thead>\n",
       "  <tbody>\n",
       "    <tr>\n",
       "      <th>count</th>\n",
       "      <td>62236.0</td>\n",
       "      <td>62236.000000</td>\n",
       "      <td>62236.000000</td>\n",
       "      <td>62236.000000</td>\n",
       "      <td>62236.000000</td>\n",
       "      <td>62236.0</td>\n",
       "      <td>62236.000000</td>\n",
       "      <td>62236.000000</td>\n",
       "    </tr>\n",
       "    <tr>\n",
       "      <th>mean</th>\n",
       "      <td>1.0</td>\n",
       "      <td>86.999470</td>\n",
       "      <td>546.198727</td>\n",
       "      <td>6.072418</td>\n",
       "      <td>43.499735</td>\n",
       "      <td>0.0</td>\n",
       "      <td>0.023170</td>\n",
       "      <td>0.000281</td>\n",
       "    </tr>\n",
       "    <tr>\n",
       "      <th>std</th>\n",
       "      <td>0.0</td>\n",
       "      <td>109.695701</td>\n",
       "      <td>709.913553</td>\n",
       "      <td>0.606672</td>\n",
       "      <td>54.847851</td>\n",
       "      <td>0.0</td>\n",
       "      <td>0.229663</td>\n",
       "      <td>0.003012</td>\n",
       "    </tr>\n",
       "    <tr>\n",
       "      <th>min</th>\n",
       "      <td>1.0</td>\n",
       "      <td>1.000000</td>\n",
       "      <td>4.000000</td>\n",
       "      <td>2.000000</td>\n",
       "      <td>0.500000</td>\n",
       "      <td>0.0</td>\n",
       "      <td>0.000000</td>\n",
       "      <td>0.000000</td>\n",
       "    </tr>\n",
       "    <tr>\n",
       "      <th>25%</th>\n",
       "      <td>1.0</td>\n",
       "      <td>31.000000</td>\n",
       "      <td>190.000000</td>\n",
       "      <td>5.708512</td>\n",
       "      <td>15.500000</td>\n",
       "      <td>0.0</td>\n",
       "      <td>0.000000</td>\n",
       "      <td>0.000000</td>\n",
       "    </tr>\n",
       "    <tr>\n",
       "      <th>50%</th>\n",
       "      <td>1.0</td>\n",
       "      <td>58.000000</td>\n",
       "      <td>359.000000</td>\n",
       "      <td>6.090542</td>\n",
       "      <td>29.000000</td>\n",
       "      <td>0.0</td>\n",
       "      <td>0.000000</td>\n",
       "      <td>0.000000</td>\n",
       "    </tr>\n",
       "    <tr>\n",
       "      <th>75%</th>\n",
       "      <td>1.0</td>\n",
       "      <td>104.000000</td>\n",
       "      <td>650.000000</td>\n",
       "      <td>6.471429</td>\n",
       "      <td>52.000000</td>\n",
       "      <td>0.0</td>\n",
       "      <td>0.000000</td>\n",
       "      <td>0.000000</td>\n",
       "    </tr>\n",
       "    <tr>\n",
       "      <th>max</th>\n",
       "      <td>1.0</td>\n",
       "      <td>2685.000000</td>\n",
       "      <td>17307.000000</td>\n",
       "      <td>29.750000</td>\n",
       "      <td>1342.500000</td>\n",
       "      <td>0.0</td>\n",
       "      <td>22.000000</td>\n",
       "      <td>0.166667</td>\n",
       "    </tr>\n",
       "  </tbody>\n",
       "</table>\n",
       "</div>"
      ],
      "text/plain": [
       "       sent_count    word_count    char_count  word_density  sent_density  \\\n",
       "count     62236.0  62236.000000  62236.000000  62236.000000  62236.000000   \n",
       "mean          1.0     86.999470    546.198727      6.072418     43.499735   \n",
       "std           0.0    109.695701    709.913553      0.606672     54.847851   \n",
       "min           1.0      1.000000      4.000000      2.000000      0.500000   \n",
       "25%           1.0     31.000000    190.000000      5.708512     15.500000   \n",
       "50%           1.0     58.000000    359.000000      6.090542     29.000000   \n",
       "75%           1.0    104.000000    650.000000      6.471429     52.000000   \n",
       "max           1.0   2685.000000  17307.000000     29.750000   1342.500000   \n",
       "\n",
       "       punc_count   stopw_count  stopw_density  \n",
       "count     62236.0  62236.000000   62236.000000  \n",
       "mean          0.0      0.023170       0.000281  \n",
       "std           0.0      0.229663       0.003012  \n",
       "min           0.0      0.000000       0.000000  \n",
       "25%           0.0      0.000000       0.000000  \n",
       "50%           0.0      0.000000       0.000000  \n",
       "75%           0.0      0.000000       0.000000  \n",
       "max           0.0     22.000000       0.166667  "
      ]
     },
     "execution_count": 21,
     "metadata": {},
     "output_type": "execute_result"
    }
   ],
   "source": [
    "dataset.describe()"
   ]
  },
  {
   "cell_type": "markdown",
   "metadata": {
    "id": "izT6njic3S0_"
   },
   "source": [
    "We can remove the columns about stopwords and sentences because our dataset is already cleaned, as we can observe there are not any stopwords eiother sentences."
   ]
  },
  {
   "cell_type": "code",
   "execution_count": 22,
   "metadata": {
    "colab": {
     "base_uri": "https://localhost:8080/",
     "height": 206
    },
    "executionInfo": {
     "elapsed": 199,
     "status": "ok",
     "timestamp": 1679159119710,
     "user": {
      "displayName": "Eduardo Muñoz Sala",
      "userId": "13317831924226771761"
     },
     "user_tz": -60
    },
    "id": "KAfJnRuN3j2R",
    "outputId": "a59fcb3c-c057-41fc-fbc7-2994a73d8589",
    "tags": []
   },
   "outputs": [
    {
     "data": {
      "text/html": [
       "<div>\n",
       "<style scoped>\n",
       "    .dataframe tbody tr th:only-of-type {\n",
       "        vertical-align: middle;\n",
       "    }\n",
       "\n",
       "    .dataframe tbody tr th {\n",
       "        vertical-align: top;\n",
       "    }\n",
       "\n",
       "    .dataframe thead th {\n",
       "        text-align: right;\n",
       "    }\n",
       "</style>\n",
       "<table border=\"1\" class=\"dataframe\">\n",
       "  <thead>\n",
       "    <tr style=\"text-align: right;\">\n",
       "      <th></th>\n",
       "      <th>product</th>\n",
       "      <th>narrative</th>\n",
       "      <th>word_count</th>\n",
       "      <th>char_count</th>\n",
       "      <th>word_density</th>\n",
       "      <th>sent_density</th>\n",
       "    </tr>\n",
       "  </thead>\n",
       "  <tbody>\n",
       "    <tr>\n",
       "      <th>0</th>\n",
       "      <td>debt_collection</td>\n",
       "      <td>company reporting three unknown account credit...</td>\n",
       "      <td>21</td>\n",
       "      <td>138</td>\n",
       "      <td>6.272727</td>\n",
       "      <td>10.5</td>\n",
       "    </tr>\n",
       "    <tr>\n",
       "      <th>1</th>\n",
       "      <td>debt_collection</td>\n",
       "      <td>recall record boss requested various occasion ...</td>\n",
       "      <td>13</td>\n",
       "      <td>98</td>\n",
       "      <td>7.000000</td>\n",
       "      <td>6.5</td>\n",
       "    </tr>\n",
       "    <tr>\n",
       "      <th>2</th>\n",
       "      <td>credit_card</td>\n",
       "      <td>merchant committed fraud shipping incorrect it...</td>\n",
       "      <td>294</td>\n",
       "      <td>2006</td>\n",
       "      <td>6.800000</td>\n",
       "      <td>147.0</td>\n",
       "    </tr>\n",
       "    <tr>\n",
       "      <th>3</th>\n",
       "      <td>debt_collection</td>\n",
       "      <td>sent debt validation letter company failed val...</td>\n",
       "      <td>36</td>\n",
       "      <td>245</td>\n",
       "      <td>6.621622</td>\n",
       "      <td>18.0</td>\n",
       "    </tr>\n",
       "    <tr>\n",
       "      <th>4</th>\n",
       "      <td>debt_collection</td>\n",
       "      <td>phoenix financial service llc company claiming...</td>\n",
       "      <td>39</td>\n",
       "      <td>244</td>\n",
       "      <td>6.100000</td>\n",
       "      <td>19.5</td>\n",
       "    </tr>\n",
       "  </tbody>\n",
       "</table>\n",
       "</div>"
      ],
      "text/plain": [
       "           product                                          narrative  \\\n",
       "0  debt_collection  company reporting three unknown account credit...   \n",
       "1  debt_collection  recall record boss requested various occasion ...   \n",
       "2      credit_card  merchant committed fraud shipping incorrect it...   \n",
       "3  debt_collection  sent debt validation letter company failed val...   \n",
       "4  debt_collection  phoenix financial service llc company claiming...   \n",
       "\n",
       "   word_count  char_count  word_density  sent_density  \n",
       "0          21         138      6.272727          10.5  \n",
       "1          13          98      7.000000           6.5  \n",
       "2         294        2006      6.800000         147.0  \n",
       "3          36         245      6.621622          18.0  \n",
       "4          39         244      6.100000          19.5  "
      ]
     },
     "execution_count": 22,
     "metadata": {},
     "output_type": "execute_result"
    }
   ],
   "source": [
    "dataset.drop(columns=['sent_count','punc_count','stopw_count','stopw_density'], inplace=True)\n",
    "dataset.head(5)"
   ]
  },
  {
   "cell_type": "markdown",
   "metadata": {
    "id": "XBnwBoEwSn3V"
   },
   "source": [
    "# Categorizing and Tagging Words\n",
    "Another group of features we can inspect in text data are the Part-Of-Speech tagging:\n",
    "\n",
    "*The process of classifying words into their parts of speech and labeling them accordingly is known as part-of-speech tagging, POS-tagging, or simply tagging. Parts of speech are also known as word classes or lexical categories... The collection of tags used for a particular task is known as a tagset. Our emphasis in the next section is on exploiting tags, and tagging text automatically.*\n",
    "\n",
    "       Natural Language Processing with Python, by S. Bird, E. Klein and E. Loper [1]\n",
    "\n",
    "Our target in the next section is to identify the POS tags and analyze its distribution on the dataset. Maybe we can observe any interesting behavior but it is not frequent.\n",
    "\n",
    "Tag Meaning English Examples:\n",
    "- ADJ, adjective: new, good, high, special, big, local\n",
    "- ADP,adposition:on, of, at, with, by, into, under\n",
    "- ADV, adverb: really, already, still, early, now\n",
    "- CONJ, conjunction: and, or, but, if, while, although\n",
    "- DET, determiner or article: the, a, some, most, every, no, which\n",
    "- NOUN, noun: year, home, costs, time, Africa\n",
    "- NUM,numeral: twenty-four, fourth, 1991, 14:24\n",
    "- PRT, particle: at, on, out, over per, that, up, with\n",
    "- PRON, pronoun: he, their, her, its, my, I, us\n",
    "- VERB, verb: is, say, told, given, playing, would\n",
    "- ., punctuation marks:. , ; !\n",
    "- X, othe: ersatz, esprit, dunno, gr8, univeristy"
   ]
  },
  {
   "cell_type": "code",
   "execution_count": 23,
   "metadata": {
    "executionInfo": {
     "elapsed": 211,
     "status": "ok",
     "timestamp": 1679079342499,
     "user": {
      "displayName": "Eduardo Muñoz Sala",
      "userId": "13317831924226771761"
     },
     "user_tz": -60
    },
    "id": "qqAOAevzSn3V",
    "tags": []
   },
   "outputs": [],
   "source": [
    "def get_pos_tags(indexes, sentences, tagset='universal'):\n",
    "    ''' Extract the part-of-speech taggings of the sentence\n",
    "        Input:\n",
    "        - sentence: string, sentence to tag\n",
    "        - tagset: string, tagset or the set of tags to search for\n",
    "    '''\n",
    "    #Create the Dataframe to store the count of tags\n",
    "    df = pd.DataFrame(columns=['ADJ','ADP','ADV','CONJ','DET','NOUN','NUM','PRT','PRON','VERB','.','X'])\n",
    "    for ind, sent in zip(indexes, sentences):\n",
    "        # Extract the part of Speech tags in the sentence\n",
    "        pos_tags = Counter([j for i,j in nltk.pos_tag(word_tokenize(sent), tagset='universal')])\n",
    "        #Appends the pos tags to the dataframe, fill NaN values with 0\n",
    "        #df = df.append(pos_tags, ignore_index=True).fillna(0)\n",
    "        #df = df.append(pos_tags, ignore_index=True).fillna(0)\n",
    "        df = pd.concat([df, pd.DataFrame([pos_tags], index=[ind])], ignore_index=False).fillna(0)\n",
    "\n",
    "    return df.astype(int)"
   ]
  },
  {
   "cell_type": "markdown",
   "metadata": {
    "id": "OM_NgNZeSn3V"
   },
   "source": [
    "To help us with this task, the NLTK library defines a function `pos_tag` which receive a list of words as input and return the part-of-speech tag of every word. Then we can plot a histogram to check the distribution:"
   ]
  },
  {
   "cell_type": "code",
   "execution_count": 24,
   "metadata": {
    "tags": []
   },
   "outputs": [
    {
     "data": {
      "text/plain": [
       "(array([    0,     1,     2, ..., 62233, 62234, 62235]),\n",
       " array(['company reporting three unknown account credit report unfair practice company called several time claim find account social security number possible reporting',\n",
       "        'recall record boss requested various occasion send verification proprietorship however agreed solicitation yet',\n",
       "        'merchant committed fraud shipping incorrect item ignored request correct situation although disputed transaction citicard aka citibank month later within allowable dispute period matter still resolved three month later despite frequent request update citicard ultimately denied recovery money citicard much time passed unacceptable since passing time due delay citicard fraudulent merchant specific detail follow purchased large inflatable water slide xxxxadvertised merchant located prompt shipping business day promised however month later still received item tracking number given still showed preparing shipment email request merchant regarding status update ignored disputed transaction citicard received response would given conditional credit investigated transaction hear anything else matter package finally arrived merchant however contain large inflatable water slide contained one pair sock called citicard day let know believed merchant trying defraud citicard informed would need wait official email communication citicard continue update dispute day later received communication citicard merchant proven shipment delivery therefore citicard would reverse conditional credit close dispute responded citicard email fax usps mail using provided form satisfied resolution merchant indeed committed fraud solid proof believed merchant deliberately working within citicard known policy order carry fraud receive another response citicard requested information including receipt etc warning return requested information next day replied day requested proof including receipt advertisement email attempt merchant resolution picture ordered v shipped confusingly received two email response citicard received email stating received dispute information dispute still day later received secure message linking document backdated stating previously requested necessary additional information email concerning dispute receive response dispute closed finally received another secure message time frame resolve dispute sent citicard strongly worded email stating delay side would let go continue contact resolution may close several citicard credit card account since longer seen trustworthy may seek legal counsel matter honestly hope remuneration merchant feel citicard held accountable complicity',\n",
       "        ...,\n",
       "        'recently filed complaint believe explained correctly claiming owe debt reached provide proof debt initial complaint responded saying sent first collection letter last known address address file last year never received letter owe collection received copy contract submitted complaint contract show two name know person contract also owe debt never lived address contract never credit file owe lake debt sure address file yet isnt georgia address file moved see name need adequate proof owe collection would like see actual social security number tie collection name cause im one name also legit signed contract computerized signature actual signature social security number debt every detrimental credit asking removed credit action taken',\n",
       "        'asked couple time update profile always later informed ssn already used another bank customer different state provided bank ssn card government issued id update purpose however made understand customer using ssn opened credit card account ssn led reason filing report last year platform contacted social security office make complain advised file report local police dept also contacted three bureau contacting equifax equifax confirmed information provided match one record asked document identity verification last year equifax sent mail stating ssn belongs deceased person faxing document umpteenth time equifax helping fix problem equifax declined dissociating ssn equifax declined identifying full correct legal name requested verification document faxed equifax',\n",
       "        'ive trying get day extension care act informs u entitled three month ago called informed got three month forbearance didnt know recently called back bank spoke representative informed could get three month forbearance dont know able qualify per care act need two day extension needed bank inform later already extension day supposed day something paper guarantee right ask future needed one year dont know bank honor full year future three month increment providing option giving date first three month forbearance'],\n",
       "       dtype=object))"
      ]
     },
     "execution_count": 24,
     "metadata": {},
     "output_type": "execute_result"
    }
   ],
   "source": [
    "dataset['narrative'].index.values,dataset['narrative'].values"
   ]
  },
  {
   "cell_type": "code",
   "execution_count": 25,
   "metadata": {
    "tags": []
   },
   "outputs": [
    {
     "data": {
      "text/plain": [
       "(62236, 62236)"
      ]
     },
     "execution_count": 25,
     "metadata": {},
     "output_type": "execute_result"
    }
   ],
   "source": [
    "len(dataset['narrative'].index.values), len(dataset['narrative'].values)"
   ]
  },
  {
   "cell_type": "code",
   "execution_count": 26,
   "metadata": {
    "id": "n4Y29NykSn3V",
    "tags": []
   },
   "outputs": [
    {
     "data": {
      "text/html": [
       "<div>\n",
       "<style scoped>\n",
       "    .dataframe tbody tr th:only-of-type {\n",
       "        vertical-align: middle;\n",
       "    }\n",
       "\n",
       "    .dataframe tbody tr th {\n",
       "        vertical-align: top;\n",
       "    }\n",
       "\n",
       "    .dataframe thead th {\n",
       "        text-align: right;\n",
       "    }\n",
       "</style>\n",
       "<table border=\"1\" class=\"dataframe\">\n",
       "  <thead>\n",
       "    <tr style=\"text-align: right;\">\n",
       "      <th></th>\n",
       "      <th>ADJ</th>\n",
       "      <th>ADP</th>\n",
       "      <th>ADV</th>\n",
       "      <th>CONJ</th>\n",
       "      <th>DET</th>\n",
       "      <th>NOUN</th>\n",
       "      <th>NUM</th>\n",
       "      <th>PRT</th>\n",
       "      <th>PRON</th>\n",
       "      <th>VERB</th>\n",
       "      <th>.</th>\n",
       "      <th>X</th>\n",
       "    </tr>\n",
       "  </thead>\n",
       "  <tbody>\n",
       "    <tr>\n",
       "      <th>0</th>\n",
       "      <td>5</td>\n",
       "      <td>0</td>\n",
       "      <td>0</td>\n",
       "      <td>0</td>\n",
       "      <td>0</td>\n",
       "      <td>12</td>\n",
       "      <td>1</td>\n",
       "      <td>0</td>\n",
       "      <td>0</td>\n",
       "      <td>3</td>\n",
       "      <td>0</td>\n",
       "      <td>0</td>\n",
       "    </tr>\n",
       "    <tr>\n",
       "      <th>1</th>\n",
       "      <td>1</td>\n",
       "      <td>0</td>\n",
       "      <td>2</td>\n",
       "      <td>0</td>\n",
       "      <td>0</td>\n",
       "      <td>7</td>\n",
       "      <td>0</td>\n",
       "      <td>0</td>\n",
       "      <td>0</td>\n",
       "      <td>3</td>\n",
       "      <td>0</td>\n",
       "      <td>0</td>\n",
       "    </tr>\n",
       "    <tr>\n",
       "      <th>2</th>\n",
       "      <td>51</td>\n",
       "      <td>6</td>\n",
       "      <td>25</td>\n",
       "      <td>0</td>\n",
       "      <td>2</td>\n",
       "      <td>123</td>\n",
       "      <td>3</td>\n",
       "      <td>0</td>\n",
       "      <td>0</td>\n",
       "      <td>83</td>\n",
       "      <td>0</td>\n",
       "      <td>1</td>\n",
       "    </tr>\n",
       "    <tr>\n",
       "      <th>3</th>\n",
       "      <td>7</td>\n",
       "      <td>0</td>\n",
       "      <td>3</td>\n",
       "      <td>0</td>\n",
       "      <td>0</td>\n",
       "      <td>20</td>\n",
       "      <td>0</td>\n",
       "      <td>0</td>\n",
       "      <td>0</td>\n",
       "      <td>6</td>\n",
       "      <td>0</td>\n",
       "      <td>0</td>\n",
       "    </tr>\n",
       "    <tr>\n",
       "      <th>4</th>\n",
       "      <td>8</td>\n",
       "      <td>0</td>\n",
       "      <td>3</td>\n",
       "      <td>0</td>\n",
       "      <td>0</td>\n",
       "      <td>22</td>\n",
       "      <td>0</td>\n",
       "      <td>0</td>\n",
       "      <td>0</td>\n",
       "      <td>6</td>\n",
       "      <td>0</td>\n",
       "      <td>0</td>\n",
       "    </tr>\n",
       "  </tbody>\n",
       "</table>\n",
       "</div>"
      ],
      "text/plain": [
       "   ADJ  ADP  ADV  CONJ  DET  NOUN  NUM  PRT  PRON  VERB  .  X\n",
       "0    5    0    0     0    0    12    1    0     0     3  0  0\n",
       "1    1    0    2     0    0     7    0    0     0     3  0  0\n",
       "2   51    6   25     0    2   123    3    0     0    83  0  1\n",
       "3    7    0    3     0    0    20    0    0     0     6  0  0\n",
       "4    8    0    3     0    0    22    0    0     0     6  0  0"
      ]
     },
     "execution_count": 26,
     "metadata": {},
     "output_type": "execute_result"
    }
   ],
   "source": [
    "# Identify the taggings for the text variable\n",
    "#text = dataset['narrative'].values\n",
    "df_text = get_pos_tags(dataset['narrative'].index.values, dataset['narrative'].values)\n",
    "df_text.head()"
   ]
  },
  {
   "cell_type": "code",
   "execution_count": 27,
   "metadata": {
    "tags": []
   },
   "outputs": [
    {
     "data": {
      "text/plain": [
       "(62236, 62236)"
      ]
     },
     "execution_count": 27,
     "metadata": {},
     "output_type": "execute_result"
    }
   ],
   "source": [
    "len(dataset),len(df_text)"
   ]
  },
  {
   "cell_type": "code",
   "execution_count": 28,
   "metadata": {
    "tags": []
   },
   "outputs": [],
   "source": [
    "dataset_tagged = pd.concat([dataset, df_text], axis=1, ignore_index=False)"
   ]
  },
  {
   "cell_type": "code",
   "execution_count": 29,
   "metadata": {
    "tags": []
   },
   "outputs": [
    {
     "name": "stdout",
     "output_type": "stream",
     "text": [
      "62236\n"
     ]
    },
    {
     "data": {
      "text/html": [
       "<div>\n",
       "<style scoped>\n",
       "    .dataframe tbody tr th:only-of-type {\n",
       "        vertical-align: middle;\n",
       "    }\n",
       "\n",
       "    .dataframe tbody tr th {\n",
       "        vertical-align: top;\n",
       "    }\n",
       "\n",
       "    .dataframe thead th {\n",
       "        text-align: right;\n",
       "    }\n",
       "</style>\n",
       "<table border=\"1\" class=\"dataframe\">\n",
       "  <thead>\n",
       "    <tr style=\"text-align: right;\">\n",
       "      <th></th>\n",
       "      <th>product</th>\n",
       "      <th>narrative</th>\n",
       "      <th>word_count</th>\n",
       "      <th>char_count</th>\n",
       "      <th>word_density</th>\n",
       "      <th>sent_density</th>\n",
       "      <th>ADJ</th>\n",
       "      <th>ADP</th>\n",
       "      <th>ADV</th>\n",
       "      <th>CONJ</th>\n",
       "      <th>DET</th>\n",
       "      <th>NOUN</th>\n",
       "      <th>NUM</th>\n",
       "      <th>PRT</th>\n",
       "      <th>PRON</th>\n",
       "      <th>VERB</th>\n",
       "      <th>.</th>\n",
       "      <th>X</th>\n",
       "    </tr>\n",
       "  </thead>\n",
       "  <tbody>\n",
       "    <tr>\n",
       "      <th>0</th>\n",
       "      <td>debt_collection</td>\n",
       "      <td>company reporting three unknown account credit...</td>\n",
       "      <td>21</td>\n",
       "      <td>138</td>\n",
       "      <td>6.272727</td>\n",
       "      <td>10.5</td>\n",
       "      <td>5</td>\n",
       "      <td>0</td>\n",
       "      <td>0</td>\n",
       "      <td>0</td>\n",
       "      <td>0</td>\n",
       "      <td>12</td>\n",
       "      <td>1</td>\n",
       "      <td>0</td>\n",
       "      <td>0</td>\n",
       "      <td>3</td>\n",
       "      <td>0</td>\n",
       "      <td>0</td>\n",
       "    </tr>\n",
       "    <tr>\n",
       "      <th>1</th>\n",
       "      <td>debt_collection</td>\n",
       "      <td>recall record boss requested various occasion ...</td>\n",
       "      <td>13</td>\n",
       "      <td>98</td>\n",
       "      <td>7.000000</td>\n",
       "      <td>6.5</td>\n",
       "      <td>1</td>\n",
       "      <td>0</td>\n",
       "      <td>2</td>\n",
       "      <td>0</td>\n",
       "      <td>0</td>\n",
       "      <td>7</td>\n",
       "      <td>0</td>\n",
       "      <td>0</td>\n",
       "      <td>0</td>\n",
       "      <td>3</td>\n",
       "      <td>0</td>\n",
       "      <td>0</td>\n",
       "    </tr>\n",
       "    <tr>\n",
       "      <th>2</th>\n",
       "      <td>credit_card</td>\n",
       "      <td>merchant committed fraud shipping incorrect it...</td>\n",
       "      <td>294</td>\n",
       "      <td>2006</td>\n",
       "      <td>6.800000</td>\n",
       "      <td>147.0</td>\n",
       "      <td>51</td>\n",
       "      <td>6</td>\n",
       "      <td>25</td>\n",
       "      <td>0</td>\n",
       "      <td>2</td>\n",
       "      <td>123</td>\n",
       "      <td>3</td>\n",
       "      <td>0</td>\n",
       "      <td>0</td>\n",
       "      <td>83</td>\n",
       "      <td>0</td>\n",
       "      <td>1</td>\n",
       "    </tr>\n",
       "    <tr>\n",
       "      <th>3</th>\n",
       "      <td>debt_collection</td>\n",
       "      <td>sent debt validation letter company failed val...</td>\n",
       "      <td>36</td>\n",
       "      <td>245</td>\n",
       "      <td>6.621622</td>\n",
       "      <td>18.0</td>\n",
       "      <td>7</td>\n",
       "      <td>0</td>\n",
       "      <td>3</td>\n",
       "      <td>0</td>\n",
       "      <td>0</td>\n",
       "      <td>20</td>\n",
       "      <td>0</td>\n",
       "      <td>0</td>\n",
       "      <td>0</td>\n",
       "      <td>6</td>\n",
       "      <td>0</td>\n",
       "      <td>0</td>\n",
       "    </tr>\n",
       "    <tr>\n",
       "      <th>4</th>\n",
       "      <td>debt_collection</td>\n",
       "      <td>phoenix financial service llc company claiming...</td>\n",
       "      <td>39</td>\n",
       "      <td>244</td>\n",
       "      <td>6.100000</td>\n",
       "      <td>19.5</td>\n",
       "      <td>8</td>\n",
       "      <td>0</td>\n",
       "      <td>3</td>\n",
       "      <td>0</td>\n",
       "      <td>0</td>\n",
       "      <td>22</td>\n",
       "      <td>0</td>\n",
       "      <td>0</td>\n",
       "      <td>0</td>\n",
       "      <td>6</td>\n",
       "      <td>0</td>\n",
       "      <td>0</td>\n",
       "    </tr>\n",
       "  </tbody>\n",
       "</table>\n",
       "</div>"
      ],
      "text/plain": [
       "           product                                          narrative  \\\n",
       "0  debt_collection  company reporting three unknown account credit...   \n",
       "1  debt_collection  recall record boss requested various occasion ...   \n",
       "2      credit_card  merchant committed fraud shipping incorrect it...   \n",
       "3  debt_collection  sent debt validation letter company failed val...   \n",
       "4  debt_collection  phoenix financial service llc company claiming...   \n",
       "\n",
       "   word_count  char_count  word_density  sent_density  ADJ  ADP  ADV  CONJ  \\\n",
       "0          21         138      6.272727          10.5    5    0    0     0   \n",
       "1          13          98      7.000000           6.5    1    0    2     0   \n",
       "2         294        2006      6.800000         147.0   51    6   25     0   \n",
       "3          36         245      6.621622          18.0    7    0    3     0   \n",
       "4          39         244      6.100000          19.5    8    0    3     0   \n",
       "\n",
       "   DET  NOUN  NUM  PRT  PRON  VERB  .  X  \n",
       "0    0    12    1    0     0     3  0  0  \n",
       "1    0     7    0    0     0     3  0  0  \n",
       "2    2   123    3    0     0    83  0  1  \n",
       "3    0    20    0    0     0     6  0  0  \n",
       "4    0    22    0    0     0     6  0  0  "
      ]
     },
     "execution_count": 29,
     "metadata": {},
     "output_type": "execute_result"
    }
   ],
   "source": [
    "print(len(dataset_tagged))\n",
    "dataset_tagged.head(5)"
   ]
  },
  {
   "cell_type": "code",
   "execution_count": 52,
   "metadata": {
    "tags": []
   },
   "outputs": [
    {
     "data": {
      "text/plain": [
       "'sent letter asking security freeze placed consumer disclosure report didnt receive correspondence also sent second letter asking place security freeze report still'"
      ]
     },
     "execution_count": 52,
     "metadata": {},
     "output_type": "execute_result"
    }
   ],
   "source": [
    "dataset_tagged.iloc[1000, 1]"
   ]
  },
  {
   "cell_type": "code",
   "execution_count": 53,
   "metadata": {
    "tags": []
   },
   "outputs": [],
   "source": [
    "pos_tags = Counter([j for i,j in nltk.pos_tag(word_tokenize(dataset_tagged.iloc[1000, 1]), tagset='universal')])"
   ]
  },
  {
   "cell_type": "code",
   "execution_count": 54,
   "metadata": {
    "tags": []
   },
   "outputs": [
    {
     "data": {
      "text/plain": [
       "product                                          credit_reporting\n",
       "narrative       sent letter asking security freeze placed cons...\n",
       "word_count                                                     22\n",
       "char_count                                                    142\n",
       "word_density                                             6.173913\n",
       "sent_density                                                 11.0\n",
       "ADJ                                                             3\n",
       "ADP                                                             0\n",
       "ADV                                                             2\n",
       "CONJ                                                            0\n",
       "DET                                                             0\n",
       "NOUN                                                           12\n",
       "NUM                                                             0\n",
       "PRT                                                             0\n",
       "PRON                                                            0\n",
       "VERB                                                            5\n",
       ".                                                               0\n",
       "X                                                               0\n",
       "Name: 1000, dtype: object"
      ]
     },
     "execution_count": 54,
     "metadata": {},
     "output_type": "execute_result"
    }
   ],
   "source": [
    "dataset_tagged.iloc[1000]\n"
   ]
  },
  {
   "cell_type": "code",
   "execution_count": 55,
   "metadata": {
    "tags": []
   },
   "outputs": [
    {
     "data": {
      "text/plain": [
       "ADJ      3\n",
       "NOUN    12\n",
       "VERB     5\n",
       "ADV      2\n",
       "dtype: int64"
      ]
     },
     "execution_count": 55,
     "metadata": {},
     "output_type": "execute_result"
    }
   ],
   "source": [
    "pd.Series(pos_tags)"
   ]
  },
  {
   "cell_type": "code",
   "execution_count": null,
   "metadata": {
    "id": "5A3e2Rv6Sn3W"
   },
   "outputs": [],
   "source": [
    "# Select the columns to plot: those related to pos taggings\n",
    "plot_vars=np.array([['ADJ','ADP','ADV','CONJ','DET','NOUN']])\n",
    "# Plot a histograms of the variables \n",
    "plot_histograms(df_text, plot_vars, [20, 30, 10, 10, 20, 25], labels_dict, figsize=(15,5))"
   ]
  },
  {
   "cell_type": "markdown",
   "metadata": {
    "id": "HVgo0x7tSn3b"
   },
   "source": [
    "# Most frequent terms and Wordclouds\n",
    "\n",
    "The domain or context of our texts will determine the most frequent words, therefore, it is important to verify what those words are and thus identify the domains and confirm that they are the expected ones.\n",
    "\n",
    "A Wordcloud (or Tag cloud) is a visual representation of text data. It displays a list of words and the importance of each beeing shown with font size or color (the bigger the more frequent). This format is useful for quickly perceiving the most relevant terms on a document or set of documents.\n",
    "\n",
    "We will draw the wordcloud for the source texts and the summaries to compare if they are very similar, it will allow us to check that the relevant concepts have been correctly extracted in the summaries.\n"
   ]
  },
  {
   "cell_type": "markdown",
   "metadata": {
    "id": "ga6o_l2QSn3b"
   },
   "source": [
    "Build the wordcloud for every category and we compare the results to get a better understanding of our dataset."
   ]
  },
  {
   "cell_type": "code",
   "execution_count": 30,
   "metadata": {
    "tags": []
   },
   "outputs": [],
   "source": [
    "dataset = dataset_tagged"
   ]
  },
  {
   "cell_type": "code",
   "execution_count": 31,
   "metadata": {
    "executionInfo": {
     "elapsed": 193,
     "status": "ok",
     "timestamp": 1679162511433,
     "user": {
      "displayName": "Eduardo Muñoz Sala",
      "userId": "13317831924226771761"
     },
     "user_tz": -60
    },
    "id": "-B3KqUGzSn3b",
    "tags": []
   },
   "outputs": [],
   "source": [
    "#A function to create a wordcloud image\n",
    "def wordcloud_image(text, dir, name, max_words):\n",
    "  # Join the different processed texts together.\n",
    "  #long_string = ','.join(list(cleaned_text.values))\n",
    "  # Create a WordCloud object\n",
    "  wordcloud = WordCloud(background_color=\"white\", max_words=max_words, contour_width=3, contour_color='steelblue')\n",
    "  # Generate a word cloud\n",
    "  wordcloud.generate(text)\n",
    "  # Visualize the word cloud\n",
    "  image = wordcloud.to_image()\n",
    "  #Save the image\n",
    "  image.save(dir+\"/\"+name+\".jpg\")\n",
    "  return image\n"
   ]
  },
  {
   "cell_type": "code",
   "execution_count": 32,
   "metadata": {
    "executionInfo": {
     "elapsed": 34352,
     "status": "ok",
     "timestamp": 1679162548237,
     "user": {
      "displayName": "Eduardo Muñoz Sala",
      "userId": "13317831924226771761"
     },
     "user_tz": -60
    },
    "id": "dqW6uudh0RBS",
    "tags": []
   },
   "outputs": [],
   "source": [
    "#category=\"credit_reporting\"\n",
    "#dataset[dataset[\"product\"]==category][\"narrative\"].values\n",
    "#dataset[\"product\"].unique()\n",
    "os.makedirs(\"wordclouds\", exist_ok=True)\n",
    "for category in dataset[\"product\"].unique():\n",
    "  # Create a Wordcloud for the category\n",
    "  wordc= wordcloud_image(','.join(list(dataset[dataset[\"product\"]==category][\"narrative\"].values)), \"wordclouds\", \"wordcloud_\"+category, 100)\n"
   ]
  },
  {
   "cell_type": "markdown",
   "metadata": {},
   "source": [
    "We include a column to identify the project, it could be useful for some future processing"
   ]
  },
  {
   "cell_type": "code",
   "execution_count": 33,
   "metadata": {
    "tags": []
   },
   "outputs": [],
   "source": [
    "dataset['project']='consumer_complaints'"
   ]
  },
  {
   "cell_type": "markdown",
   "metadata": {
    "id": "Uf5D9H8Dsk8h"
   },
   "source": [
    "## W&B Tables to save our information"
   ]
  },
  {
   "cell_type": "markdown",
   "metadata": {
    "id": "j9SvAqDKsqvF"
   },
   "source": [
    "We can use W&B features to track our experiments, register relevant information and storage our datasets or figures. It will be our project repository, all data and information just in one place we can restore o report later. To define a Table, we just to specify the columns you want for each row and a row might be a single item in your training dataset, a prediction or an epoch during training.\n",
    "\n",
    "A simple way to create a table is from a pandas dataframe."
   ]
  },
  {
   "cell_type": "code",
   "execution_count": 34,
   "metadata": {
    "executionInfo": {
     "elapsed": 216,
     "status": "ok",
     "timestamp": 1679165842006,
     "user": {
      "displayName": "Eduardo Muñoz Sala",
      "userId": "13317831924226771761"
     },
     "user_tz": -60
    },
    "id": "WMQkQFHvuEKH",
    "tags": []
   },
   "outputs": [],
   "source": [
    "WANDB_PROJECT = \"consumer_complaints_classification\"\n",
    "ENTITY = None # set this to team name if working in a team\n",
    "RAW_DATA_AT = 'consumer_complaints_eda'\n",
    "PROCESSED_DATA_AT = 'consumer_complaints_split'"
   ]
  },
  {
   "cell_type": "code",
   "execution_count": 35,
   "metadata": {
    "colab": {
     "base_uri": "https://localhost:8080/",
     "height": 139
    },
    "executionInfo": {
     "elapsed": 11132,
     "status": "ok",
     "timestamp": 1679162731606,
     "user": {
      "displayName": "Eduardo Muñoz Sala",
      "userId": "13317831924226771761"
     },
     "user_tz": -60
    },
    "id": "f_2_2wESuDHB",
    "outputId": "9ab4f3d8-fee3-4cce-9ecc-bd4f0cbe975c",
    "tags": []
   },
   "outputs": [
    {
     "name": "stderr",
     "output_type": "stream",
     "text": [
      "\u001b[34m\u001b[1mwandb\u001b[0m: Currently logged in as: \u001b[33medumunozsala\u001b[0m. Use \u001b[1m`wandb login --relogin`\u001b[0m to force relogin\n"
     ]
    },
    {
     "data": {
      "text/html": [
       "Tracking run with wandb version 0.15.8"
      ],
      "text/plain": [
       "<IPython.core.display.HTML object>"
      ]
     },
     "metadata": {},
     "output_type": "display_data"
    },
    {
     "data": {
      "text/html": [
       "Run data is saved locally in <code>/home/studio-lab-user/sagemaker-studiolab-notebooks/wandb/run-20230827_164606-xvfdqjmy</code>"
      ],
      "text/plain": [
       "<IPython.core.display.HTML object>"
      ]
     },
     "metadata": {},
     "output_type": "display_data"
    },
    {
     "data": {
      "text/html": [
       "Syncing run <strong><a href='https://wandb.ai/edumunozsala/consumer_complaints_classification/runs/xvfdqjmy' target=\"_blank\">dark-dust-1</a></strong> to <a href='https://wandb.ai/edumunozsala/consumer_complaints_classification' target=\"_blank\">Weights & Biases</a> (<a href='https://wandb.me/run' target=\"_blank\">docs</a>)<br/>"
      ],
      "text/plain": [
       "<IPython.core.display.HTML object>"
      ]
     },
     "metadata": {},
     "output_type": "display_data"
    },
    {
     "data": {
      "text/html": [
       " View project at <a href='https://wandb.ai/edumunozsala/consumer_complaints_classification' target=\"_blank\">https://wandb.ai/edumunozsala/consumer_complaints_classification</a>"
      ],
      "text/plain": [
       "<IPython.core.display.HTML object>"
      ]
     },
     "metadata": {},
     "output_type": "display_data"
    },
    {
     "data": {
      "text/html": [
       " View run at <a href='https://wandb.ai/edumunozsala/consumer_complaints_classification/runs/xvfdqjmy' target=\"_blank\">https://wandb.ai/edumunozsala/consumer_complaints_classification/runs/xvfdqjmy</a>"
      ],
      "text/plain": [
       "<IPython.core.display.HTML object>"
      ]
     },
     "metadata": {},
     "output_type": "display_data"
    }
   ],
   "source": [
    "# Init W&B session in the project\n",
    "run = wandb.init(project=WANDB_PROJECT)"
   ]
  },
  {
   "cell_type": "markdown",
   "metadata": {
    "id": "2gHL8ZMA5unE"
   },
   "source": [
    "Create an Artifact to save the results of our data analysis"
   ]
  },
  {
   "cell_type": "code",
   "execution_count": 36,
   "metadata": {
    "executionInfo": {
     "elapsed": 216,
     "status": "ok",
     "timestamp": 1679162833121,
     "user": {
      "displayName": "Eduardo Muñoz Sala",
      "userId": "13317831924226771761"
     },
     "user_tz": -60
    },
    "id": "dZavZhdA5ny6",
    "tags": []
   },
   "outputs": [],
   "source": [
    "raw_data_at = wandb.Artifact(RAW_DATA_AT, type=\"raw_data\")"
   ]
  },
  {
   "cell_type": "code",
   "execution_count": 37,
   "metadata": {
    "colab": {
     "base_uri": "https://localhost:8080/"
    },
    "executionInfo": {
     "elapsed": 291,
     "status": "ok",
     "timestamp": 1679163122607,
     "user": {
      "displayName": "Eduardo Muñoz Sala",
      "userId": "13317831924226771761"
     },
     "user_tz": -60
    },
    "id": "3CblWP0l54dN",
    "outputId": "d8fae8e6-3eb8-4b70-8499-edd7f619d1c4",
    "tags": []
   },
   "outputs": [
    {
     "name": "stderr",
     "output_type": "stream",
     "text": [
      "\u001b[34m\u001b[1mwandb\u001b[0m: Adding directory to artifact (./wordclouds)... Done. 0.0s\n"
     ]
    }
   ],
   "source": [
    "#Save the Wordcloud images for every category\n",
    "raw_data_at.add_dir('wordclouds', name='worcloud')"
   ]
  },
  {
   "cell_type": "code",
   "execution_count": 38,
   "metadata": {
    "colab": {
     "base_uri": "https://localhost:8080/"
    },
    "executionInfo": {
     "elapsed": 9260,
     "status": "ok",
     "timestamp": 1679163187227,
     "user": {
      "displayName": "Eduardo Muñoz Sala",
      "userId": "13317831924226771761"
     },
     "user_tz": -60
    },
    "id": "Tf687QYo5JZk",
    "outputId": "b3219258-cadc-4ec5-949a-b91168983202",
    "tags": []
   },
   "outputs": [
    {
     "data": {
      "text/plain": [
       "<wandb.sdk.artifacts.artifact_manifest_entry.ArtifactManifestEntry at 0x7fd3c5b06790>"
      ]
     },
     "execution_count": 38,
     "metadata": {},
     "output_type": "execute_result"
    }
   ],
   "source": [
    "# Create a W&B table\n",
    "table = wandb.Table(dataframe=dataset)\n",
    "# Save it in the artifact\n",
    "raw_data_at.add(table, \"eda_table\")"
   ]
  },
  {
   "cell_type": "code",
   "execution_count": 39,
   "metadata": {
    "colab": {
     "base_uri": "https://localhost:8080/",
     "height": 86
    },
    "executionInfo": {
     "elapsed": 6074,
     "status": "ok",
     "timestamp": 1679163202818,
     "user": {
      "displayName": "Eduardo Muñoz Sala",
      "userId": "13317831924226771761"
     },
     "user_tz": -60
    },
    "id": "q7Dl3Zr46lg-",
    "outputId": "31b2bf4d-b57e-4b7d-9501-95e7185fca2b",
    "tags": []
   },
   "outputs": [
    {
     "data": {
      "text/html": [
       "Waiting for W&B process to finish... <strong style=\"color:green\">(success).</strong>"
      ],
      "text/plain": [
       "<IPython.core.display.HTML object>"
      ]
     },
     "metadata": {},
     "output_type": "display_data"
    },
    {
     "data": {
      "text/html": [
       " View run <strong style=\"color:#cdcd00\">dark-dust-1</strong> at: <a href='https://wandb.ai/edumunozsala/consumer_complaints_classification/runs/xvfdqjmy' target=\"_blank\">https://wandb.ai/edumunozsala/consumer_complaints_classification/runs/xvfdqjmy</a><br/>Synced 6 W&B file(s), 0 media file(s), 6 artifact file(s) and 0 other file(s)"
      ],
      "text/plain": [
       "<IPython.core.display.HTML object>"
      ]
     },
     "metadata": {},
     "output_type": "display_data"
    },
    {
     "data": {
      "text/html": [
       "Find logs at: <code>./wandb/run-20230827_164606-xvfdqjmy/logs</code>"
      ],
      "text/plain": [
       "<IPython.core.display.HTML object>"
      ]
     },
     "metadata": {},
     "output_type": "display_data"
    }
   ],
   "source": [
    "run.log_artifact(raw_data_at)\n",
    "run.finish()"
   ]
  },
  {
   "cell_type": "markdown",
   "metadata": {
    "id": "KOC0eN-RDfex"
   },
   "source": [
    "# Preparing the dataset for spliting into train, validation and test sets.\n",
    "\n",
    "We will repeat the process to reduce row counts to get a balanced dataset."
   ]
  },
  {
   "cell_type": "code",
   "execution_count": 40,
   "metadata": {
    "colab": {
     "base_uri": "https://localhost:8080/"
    },
    "executionInfo": {
     "elapsed": 207,
     "status": "ok",
     "timestamp": 1679158968079,
     "user": {
      "displayName": "Eduardo Muñoz Sala",
      "userId": "13317831924226771761"
     },
     "user_tz": -60
    },
    "id": "tCpR7WNBD_h6",
    "outputId": "98c10e68-c13c-4c1f-ecfd-97a9d4522918",
    "tags": []
   },
   "outputs": [
    {
     "data": {
      "text/plain": [
       "product\n",
       "credit_reporting       56240\n",
       "debt_collection        21057\n",
       "mortgages_and_loans    18723\n",
       "credit_card            14983\n",
       "retail_banking         13469\n",
       "Name: count, dtype: int64"
      ]
     },
     "execution_count": 40,
     "metadata": {},
     "output_type": "execute_result"
    }
   ],
   "source": [
    "data['product'].value_counts()"
   ]
  },
  {
   "cell_type": "markdown",
   "metadata": {
    "id": "sL-fk5-eESw9"
   },
   "source": [
    "### Category 'credit_reporting'.\n",
    "\n",
    "To limit this unbalanced feature we will downsample our data to only 15,000 rows in the categories: `credit_reporting`,`debt_collection`, mortgages_and_loans` . And for the sake of this experiment this step will reduce our data volume and we can perform a shorter and cheaper training."
   ]
  },
  {
   "cell_type": "code",
   "execution_count": 41,
   "metadata": {
    "colab": {
     "base_uri": "https://localhost:8080/"
    },
    "executionInfo": {
     "elapsed": 203,
     "status": "ok",
     "timestamp": 1679158970535,
     "user": {
      "displayName": "Eduardo Muñoz Sala",
      "userId": "13317831924226771761"
     },
     "user_tz": -60
    },
    "id": "pInTKIMSE-AX",
    "outputId": "b1e3e54c-a3e0-422e-8849-e82ea68743fa",
    "tags": []
   },
   "outputs": [
    {
     "name": "stdout",
     "output_type": "stream",
     "text": [
      "(56240, 2)\n",
      "(21057, 2)\n",
      "(18723, 2)\n"
     ]
    }
   ],
   "source": [
    "credit = data[data[\"product\"] == \"credit_reporting\"]\n",
    "debt  = data[data[\"product\"] == \"debt_collection\"]\n",
    "mortgage  = data[data[\"product\"] == \"mortgages_and_loans\"]\n",
    "print(credit.shape)\n",
    "print(debt.shape)\n",
    "print(mortgage.shape)"
   ]
  },
  {
   "cell_type": "code",
   "execution_count": 42,
   "metadata": {
    "colab": {
     "base_uri": "https://localhost:8080/"
    },
    "executionInfo": {
     "elapsed": 7,
     "status": "ok",
     "timestamp": 1679158973134,
     "user": {
      "displayName": "Eduardo Muñoz Sala",
      "userId": "13317831924226771761"
     },
     "user_tz": -60
    },
    "id": "3acoCZExHuNk",
    "outputId": "71444ac4-e539-4d62-d736-95eed89d0002",
    "tags": []
   },
   "outputs": [
    {
     "name": "stdout",
     "output_type": "stream",
     "text": [
      "(15000, 2)\n",
      "(15000, 2)\n",
      "(15000, 2)\n"
     ]
    }
   ],
   "source": [
    "# Sample the three columns in the dataset to extract 15,000 rows\n",
    "credit = credit.sample(n=15000, replace=False, random_state=42)\n",
    "debt = debt.sample(n=15000, replace=False, random_state=42)\n",
    "mortgage = mortgage.sample(n=15000, replace=False, random_state=42)\n",
    "print(credit.shape)\n",
    "print(debt.shape)\n",
    "print(mortgage.shape)"
   ]
  },
  {
   "cell_type": "markdown",
   "metadata": {
    "id": "Eh8vd7NdmBH0"
   },
   "source": [
    "Now, we build a new dataframe concatening these samples and the others two originals columns."
   ]
  },
  {
   "cell_type": "code",
   "execution_count": 43,
   "metadata": {
    "colab": {
     "base_uri": "https://localhost:8080/",
     "height": 206
    },
    "executionInfo": {
     "elapsed": 214,
     "status": "ok",
     "timestamp": 1679159012845,
     "user": {
      "displayName": "Eduardo Muñoz Sala",
      "userId": "13317831924226771761"
     },
     "user_tz": -60
    },
    "id": "kIez29jzI7b4",
    "outputId": "72a43814-fd30-4e49-dcce-acf2fb188d6c",
    "tags": []
   },
   "outputs": [
    {
     "data": {
      "text/html": [
       "<div>\n",
       "<style scoped>\n",
       "    .dataframe tbody tr th:only-of-type {\n",
       "        vertical-align: middle;\n",
       "    }\n",
       "\n",
       "    .dataframe tbody tr th {\n",
       "        vertical-align: top;\n",
       "    }\n",
       "\n",
       "    .dataframe thead th {\n",
       "        text-align: right;\n",
       "    }\n",
       "</style>\n",
       "<table border=\"1\" class=\"dataframe\">\n",
       "  <thead>\n",
       "    <tr style=\"text-align: right;\">\n",
       "      <th></th>\n",
       "      <th>product</th>\n",
       "      <th>narrative</th>\n",
       "    </tr>\n",
       "  </thead>\n",
       "  <tbody>\n",
       "    <tr>\n",
       "      <th>0</th>\n",
       "      <td>credit_reporting</td>\n",
       "      <td>please remove highlighted account credit repor...</td>\n",
       "    </tr>\n",
       "    <tr>\n",
       "      <th>1</th>\n",
       "      <td>credit_reporting</td>\n",
       "      <td>experian violation section fair credit reporti...</td>\n",
       "    </tr>\n",
       "    <tr>\n",
       "      <th>2</th>\n",
       "      <td>credit_reporting</td>\n",
       "      <td>experian continues report false information cr...</td>\n",
       "    </tr>\n",
       "    <tr>\n",
       "      <th>3</th>\n",
       "      <td>credit_reporting</td>\n",
       "      <td>listed belong someone stole used social securi...</td>\n",
       "    </tr>\n",
       "    <tr>\n",
       "      <th>4</th>\n",
       "      <td>credit_reporting</td>\n",
       "      <td>complained year equifax done nothing update co...</td>\n",
       "    </tr>\n",
       "  </tbody>\n",
       "</table>\n",
       "</div>"
      ],
      "text/plain": [
       "            product                                          narrative\n",
       "0  credit_reporting  please remove highlighted account credit repor...\n",
       "1  credit_reporting  experian violation section fair credit reporti...\n",
       "2  credit_reporting  experian continues report false information cr...\n",
       "3  credit_reporting  listed belong someone stole used social securi...\n",
       "4  credit_reporting  complained year equifax done nothing update co..."
      ]
     },
     "execution_count": 43,
     "metadata": {},
     "output_type": "execute_result"
    }
   ],
   "source": [
    "data_balanced=pd.concat([credit, debt, mortgage, data[data[\"product\"] == \"credit_card\"], data[data[\"product\"] == \"retail_banking\"]], ignore_index=True)\n",
    "data_balanced.head(5)"
   ]
  },
  {
   "cell_type": "code",
   "execution_count": 53,
   "metadata": {
    "colab": {
     "base_uri": "https://localhost:8080/"
    },
    "executionInfo": {
     "elapsed": 8,
     "status": "ok",
     "timestamp": 1679078135900,
     "user": {
      "displayName": "Eduardo Muñoz Sala",
      "userId": "13317831924226771761"
     },
     "user_tz": -60
    },
    "id": "lgKIQFbtJNrO",
    "outputId": "8b6a8f5a-2d31-4829-ae35-b8bca21c7462",
    "tags": []
   },
   "outputs": [
    {
     "data": {
      "text/plain": [
       "product\n",
       "credit_reporting       15000\n",
       "debt_collection        15000\n",
       "mortgages_and_loans    15000\n",
       "credit_card            14983\n",
       "retail_banking         13469\n",
       "Name: count, dtype: int64"
      ]
     },
     "execution_count": 53,
     "metadata": {},
     "output_type": "execute_result"
    }
   ],
   "source": [
    "# Check the count of rows for every category\n",
    "data_balanced['product'].value_counts()"
   ]
  },
  {
   "cell_type": "markdown",
   "metadata": {
    "id": "2eVRHqpOBWu6"
   },
   "source": [
    "## Split the dataset for training"
   ]
  },
  {
   "cell_type": "code",
   "execution_count": 54,
   "metadata": {
    "tags": []
   },
   "outputs": [],
   "source": [
    "dataset=data_balanced"
   ]
  },
  {
   "cell_type": "code",
   "execution_count": 55,
   "metadata": {
    "executionInfo": {
     "elapsed": 214,
     "status": "ok",
     "timestamp": 1679165706591,
     "user": {
      "displayName": "Eduardo Muñoz Sala",
      "userId": "13317831924226771761"
     },
     "user_tz": -60
    },
    "id": "I3P7xxBNBbiV",
    "tags": []
   },
   "outputs": [],
   "source": [
    "# split the data into train and test set\n",
    "train_df, test_df = train_test_split(dataset[[\"product\",\"narrative\"]], test_size=0.3, random_state=42, shuffle=True, stratify=dataset[\"product\"])\n",
    "# split the data into train and test set\n",
    "val_df, test_df = train_test_split(test_df[[\"product\",\"narrative\"]], test_size=0.5, random_state=42, shuffle=True, stratify=test_df[\"product\"])"
   ]
  },
  {
   "cell_type": "code",
   "execution_count": 56,
   "metadata": {
    "executionInfo": {
     "elapsed": 217,
     "status": "ok",
     "timestamp": 1679165958589,
     "user": {
      "displayName": "Eduardo Muñoz Sala",
      "userId": "13317831924226771761"
     },
     "user_tz": -60
    },
    "id": "OateFUfrFnYa",
    "tags": []
   },
   "outputs": [],
   "source": [
    "train_df[\"stage\"]=\"train\"\n",
    "val_df[\"stage\"]=\"validation\"\n",
    "test_df[\"stage\"]=\"test\""
   ]
  },
  {
   "cell_type": "code",
   "execution_count": 57,
   "metadata": {
    "colab": {
     "base_uri": "https://localhost:8080/",
     "height": 206
    },
    "executionInfo": {
     "elapsed": 207,
     "status": "ok",
     "timestamp": 1679166065147,
     "user": {
      "displayName": "Eduardo Muñoz Sala",
      "userId": "13317831924226771761"
     },
     "user_tz": -60
    },
    "id": "VRYtEJPlER6s",
    "outputId": "79600809-080f-487c-8a2c-974c18afc56d",
    "tags": []
   },
   "outputs": [
    {
     "data": {
      "text/html": [
       "<div>\n",
       "<style scoped>\n",
       "    .dataframe tbody tr th:only-of-type {\n",
       "        vertical-align: middle;\n",
       "    }\n",
       "\n",
       "    .dataframe tbody tr th {\n",
       "        vertical-align: top;\n",
       "    }\n",
       "\n",
       "    .dataframe thead th {\n",
       "        text-align: right;\n",
       "    }\n",
       "</style>\n",
       "<table border=\"1\" class=\"dataframe\">\n",
       "  <thead>\n",
       "    <tr style=\"text-align: right;\">\n",
       "      <th></th>\n",
       "      <th>product</th>\n",
       "      <th>narrative</th>\n",
       "      <th>stage</th>\n",
       "    </tr>\n",
       "  </thead>\n",
       "  <tbody>\n",
       "    <tr>\n",
       "      <th>0</th>\n",
       "      <td>credit_card</td>\n",
       "      <td>card hacked called able cancel card order repl...</td>\n",
       "      <td>train</td>\n",
       "    </tr>\n",
       "    <tr>\n",
       "      <th>1</th>\n",
       "      <td>debt_collection</td>\n",
       "      <td>received letter convergent outsourcing inc was...</td>\n",
       "      <td>train</td>\n",
       "    </tr>\n",
       "    <tr>\n",
       "      <th>2</th>\n",
       "      <td>credit_reporting</td>\n",
       "      <td>much time many error law broken funny year try...</td>\n",
       "      <td>train</td>\n",
       "    </tr>\n",
       "    <tr>\n",
       "      <th>3</th>\n",
       "      <td>credit_reporting</td>\n",
       "      <td>past two month trying get total hard inquiry r...</td>\n",
       "      <td>train</td>\n",
       "    </tr>\n",
       "    <tr>\n",
       "      <th>4</th>\n",
       "      <td>credit_reporting</td>\n",
       "      <td>reporting outrageous erroneous debt credit fil...</td>\n",
       "      <td>train</td>\n",
       "    </tr>\n",
       "  </tbody>\n",
       "</table>\n",
       "</div>"
      ],
      "text/plain": [
       "            product                                          narrative  stage\n",
       "0       credit_card  card hacked called able cancel card order repl...  train\n",
       "1   debt_collection  received letter convergent outsourcing inc was...  train\n",
       "2  credit_reporting  much time many error law broken funny year try...  train\n",
       "3  credit_reporting  past two month trying get total hard inquiry r...  train\n",
       "4  credit_reporting  reporting outrageous erroneous debt credit fil...  train"
      ]
     },
     "execution_count": 57,
     "metadata": {},
     "output_type": "execute_result"
    }
   ],
   "source": [
    "data_split=pd.concat([train_df, val_df, test_df], ignore_index=True)\n",
    "data_split.head(5)"
   ]
  },
  {
   "cell_type": "code",
   "execution_count": 58,
   "metadata": {
    "executionInfo": {
     "elapsed": 1059,
     "status": "ok",
     "timestamp": 1679166155469,
     "user": {
      "displayName": "Eduardo Muñoz Sala",
      "userId": "13317831924226771761"
     },
     "user_tz": -60
    },
    "id": "f19Q9kJYGPDh",
    "tags": []
   },
   "outputs": [],
   "source": [
    "data_split.to_csv(\"consumer_complaints_split.csv\",index=False)"
   ]
  },
  {
   "cell_type": "markdown",
   "metadata": {
    "id": "IAFHMEAzFNkL"
   },
   "source": [
    "We will now create a new artifact and add our data there."
   ]
  },
  {
   "cell_type": "code",
   "execution_count": 59,
   "metadata": {
    "colab": {
     "base_uri": "https://localhost:8080/",
     "height": 156
    },
    "executionInfo": {
     "elapsed": 3389,
     "status": "ok",
     "timestamp": 1679166436774,
     "user": {
      "displayName": "Eduardo Muñoz Sala",
      "userId": "13317831924226771761"
     },
     "user_tz": -60
    },
    "id": "ozqE1N9oDlZp",
    "outputId": "ef55d0f0-ff4e-48de-94f3-2488d631a86f",
    "tags": []
   },
   "outputs": [
    {
     "data": {
      "text/html": [
       "Tracking run with wandb version 0.15.8"
      ],
      "text/plain": [
       "<IPython.core.display.HTML object>"
      ]
     },
     "metadata": {},
     "output_type": "display_data"
    },
    {
     "data": {
      "text/html": [
       "Run data is saved locally in <code>/home/studio-lab-user/sagemaker-studiolab-notebooks/wandb/run-20230827_172634-zc3ulrfi</code>"
      ],
      "text/plain": [
       "<IPython.core.display.HTML object>"
      ]
     },
     "metadata": {},
     "output_type": "display_data"
    },
    {
     "data": {
      "text/html": [
       "Syncing run <strong><a href='https://wandb.ai/edumunozsala/consumer_complaints_classification/runs/zc3ulrfi' target=\"_blank\">zany-frost-4</a></strong> to <a href='https://wandb.ai/edumunozsala/consumer_complaints_classification' target=\"_blank\">Weights & Biases</a> (<a href='https://wandb.me/run' target=\"_blank\">docs</a>)<br/>"
      ],
      "text/plain": [
       "<IPython.core.display.HTML object>"
      ]
     },
     "metadata": {},
     "output_type": "display_data"
    },
    {
     "data": {
      "text/html": [
       " View project at <a href='https://wandb.ai/edumunozsala/consumer_complaints_classification' target=\"_blank\">https://wandb.ai/edumunozsala/consumer_complaints_classification</a>"
      ],
      "text/plain": [
       "<IPython.core.display.HTML object>"
      ]
     },
     "metadata": {},
     "output_type": "display_data"
    },
    {
     "data": {
      "text/html": [
       " View run at <a href='https://wandb.ai/edumunozsala/consumer_complaints_classification/runs/zc3ulrfi' target=\"_blank\">https://wandb.ai/edumunozsala/consumer_complaints_classification/runs/zc3ulrfi</a>"
      ],
      "text/plain": [
       "<IPython.core.display.HTML object>"
      ]
     },
     "metadata": {},
     "output_type": "display_data"
    },
    {
     "data": {
      "text/plain": [
       "<wandb.sdk.artifacts.artifact_manifest_entry.ArtifactManifestEntry at 0x7fd3c97c52e0>"
      ]
     },
     "execution_count": 59,
     "metadata": {},
     "output_type": "execute_result"
    }
   ],
   "source": [
    "# SAve the data to W&B\n",
    "run = wandb.init(project=WANDB_PROJECT, job_type=\"data_split\")\n",
    "processed_data_at = wandb.Artifact(PROCESSED_DATA_AT, type=\"split_data\")\n",
    "processed_data_at.add_file(\"consumer_complaints_split.csv\")"
   ]
  },
  {
   "cell_type": "markdown",
   "metadata": {
    "id": "rsPBDUGLG1Yf"
   },
   "source": [
    "And we will upload the data as a table to our project"
   ]
  },
  {
   "cell_type": "code",
   "execution_count": 60,
   "metadata": {
    "colab": {
     "base_uri": "https://localhost:8080/"
    },
    "executionInfo": {
     "elapsed": 5963,
     "status": "ok",
     "timestamp": 1679166450228,
     "user": {
      "displayName": "Eduardo Muñoz Sala",
      "userId": "13317831924226771761"
     },
     "user_tz": -60
    },
    "id": "XwNCzK5LG53l",
    "outputId": "9f2ba049-065c-4b1e-bb99-01fdc0dd9574",
    "tags": []
   },
   "outputs": [
    {
     "data": {
      "text/plain": [
       "<wandb.sdk.artifacts.artifact_manifest_entry.ArtifactManifestEntry at 0x7fd3c97a4700>"
      ]
     },
     "execution_count": 60,
     "metadata": {},
     "output_type": "execute_result"
    }
   ],
   "source": [
    "data_split_table = wandb.Table(dataframe=data_split)\n",
    "processed_data_at.add(data_split_table, \"table_data_split\")"
   ]
  },
  {
   "cell_type": "markdown",
   "metadata": {
    "id": "lxsXKnL5HQrF"
   },
   "source": [
    "finally we save the artifact ain W&B"
   ]
  },
  {
   "cell_type": "code",
   "execution_count": 61,
   "metadata": {
    "colab": {
     "base_uri": "https://localhost:8080/",
     "height": 86
    },
    "executionInfo": {
     "elapsed": 5498,
     "status": "ok",
     "timestamp": 1679166458452,
     "user": {
      "displayName": "Eduardo Muñoz Sala",
      "userId": "13317831924226771761"
     },
     "user_tz": -60
    },
    "id": "55nrfIbPHVsk",
    "outputId": "a993a86e-243c-4439-9a0a-ceec609ae94c",
    "tags": []
   },
   "outputs": [
    {
     "data": {
      "text/html": [
       "Waiting for W&B process to finish... <strong style=\"color:green\">(success).</strong>"
      ],
      "text/plain": [
       "<IPython.core.display.HTML object>"
      ]
     },
     "metadata": {},
     "output_type": "display_data"
    },
    {
     "data": {
      "text/html": [
       " View run <strong style=\"color:#cdcd00\">zany-frost-4</strong> at: <a href='https://wandb.ai/edumunozsala/consumer_complaints_classification/runs/zc3ulrfi' target=\"_blank\">https://wandb.ai/edumunozsala/consumer_complaints_classification/runs/zc3ulrfi</a><br/>Synced 5 W&B file(s), 0 media file(s), 2 artifact file(s) and 0 other file(s)"
      ],
      "text/plain": [
       "<IPython.core.display.HTML object>"
      ]
     },
     "metadata": {},
     "output_type": "display_data"
    },
    {
     "data": {
      "text/html": [
       "Find logs at: <code>./wandb/run-20230827_172634-zc3ulrfi/logs</code>"
      ],
      "text/plain": [
       "<IPython.core.display.HTML object>"
      ]
     },
     "metadata": {},
     "output_type": "display_data"
    }
   ],
   "source": [
    "run.log_artifact(processed_data_at)\n",
    "run.finish()"
   ]
  },
  {
   "cell_type": "markdown",
   "metadata": {
    "id": "QeeOVgCtSn3c"
   },
   "source": [
    "## Optional section: Topic Modelling\n",
    "\n",
    "In our next step, we will learn how to identity which topics are discussed in our texts, this process is called topic modelling. **\"In machine learning and natural language processing, a topic model is a type of statistical model for discovering the abstract \"topics\" that occur in a collection of documents\"** by Wikipedia. Using a unsupervised technique, this method tries to find semantic structures in a text in order to classified group of related words in a topic representation.\n",
    "\n",
    "In particular, we will cover Latent Dirichlet Allocation (LDA): a widely used topic modelling technique. And we will apply LDA to convert our set of source texts to a set of topics.\n",
    "\n",
    "*There are several existing algorithms you can use to perform the topic modeling. The most common of it are, Latent Semantic Analysis (LSA/LSI), Probabilistic Latent Semantic Analysis (pLSA), and Latent Dirichlet Allocation (LDA)*\n",
    "\n",
    "[5], \"Topic Modeling in Python: Latent Dirichlet Allocation (LDA)\" by Shashank Kapadia.\n"
   ]
  },
  {
   "cell_type": "markdown",
   "metadata": {
    "id": "RisOGARhSn3c"
   },
   "source": [
    "But first, we need to transform our text data to a format that will serve as an input to the LDA model. We convert the text to a vector representation where each word is replaced by an integer. In this case we will apply the CountVectorized method. "
   ]
  },
  {
   "cell_type": "markdown",
   "metadata": {
    "id": "MyffSm6pSn3d"
   },
   "source": [
    "## Count Vectorized\n",
    "\n",
    "The Count Vectorizeed method replace each word by the count of occurrences of the word in our corpus, group of texts. The result is a document term matrix where most frequents words are assigned with a higher value. \n"
   ]
  },
  {
   "cell_type": "code",
   "execution_count": null,
   "metadata": {
    "id": "Ndj1NCt1Sn3d"
   },
   "outputs": [],
   "source": [
    "# Helper function\n",
    "def plot_10_most_common_words(count_data, count_vectorizer):\n",
    "    ''' Draw a barplot showing the tenth most common words in the data\n",
    "        Input:\n",
    "        - count_data: tuple, containing pairs of document-term and its ocurrencies in the text\n",
    "        - count_vectorizer: CountVectorizer object\n",
    "    '''\n",
    "    words = count_vectorizer.get_feature_names()\n",
    "    total_counts = np.zeros(len(words))\n",
    "    for t in count_data:\n",
    "        total_counts+=t.toarray()[0]\n",
    "    \n",
    "    count_dict = (zip(words, total_counts))\n",
    "    count_dict = sorted(count_dict, key=lambda x:x[1], reverse=True)[0:10]\n",
    "    words = [w[0] for w in count_dict]\n",
    "    counts = [w[1] for w in count_dict]\n",
    "    x_pos = np.arange(len(words)) \n",
    "    \n",
    "    plt.figure(2, figsize=(15, 15/1.6180))\n",
    "    plt.subplot(title='10 most common words')\n",
    "    sns.set_context(\"notebook\", font_scale=1.25, rc={\"lines.linewidth\": 2.5})\n",
    "    sns.barplot(x_pos, counts, palette='husl')\n",
    "    plt.xticks(x_pos, words, rotation=90) \n",
    "    plt.xlabel('words')\n",
    "    plt.ylabel('counts')\n",
    "    plt.show()\n"
   ]
  },
  {
   "cell_type": "code",
   "execution_count": null,
   "metadata": {
    "colab": {
     "base_uri": "https://localhost:8080/"
    },
    "executionInfo": {
     "elapsed": 1555,
     "status": "ok",
     "timestamp": 1611514733256,
     "user": {
      "displayName": "Eduardo Muñoz Sala",
      "photoUrl": "https://lh3.googleusercontent.com/a-/AOh14Gi9gTFB7xfdxQyNiKRUzqE5vwb9WQjQuMtQz5F16w=s64",
      "userId": "13317831924226771761"
     },
     "user_tz": -60
    },
    "id": "vqc4tKCqSn3d",
    "outputId": "c4a3944d-77ae-4d30-dd90-506ab3d8911a"
   },
   "outputs": [
    {
     "name": "stdout",
     "output_type": "stream",
     "text": [
      "       acacia  accessory  accompanied  ...  zipped  zips  zipup\n",
      "0           0          0            0  ...       0     0      1\n",
      "1           0          0            0  ...       0     0      0\n",
      "2           0          0            0  ...       0     0      0\n",
      "3           0          0            0  ...       0     0      0\n",
      "4           0          0            0  ...       0     0      0\n",
      "...       ...        ...          ...  ...     ...   ...    ...\n",
      "33608       0          0            0  ...       0     0      0\n",
      "33609       0          0            0  ...       0     0      0\n",
      "33610       0          0            0  ...       0     0      0\n",
      "33611       0          0            0  ...       0     0      0\n",
      "33612       0          0            0  ...       0     0      0\n",
      "\n",
      "[33613 rows x 1427 columns]\n"
     ]
    }
   ],
   "source": [
    "# Initialise the count vectorizer\n",
    "tf_vectorizer = CountVectorizer(max_df=0.9, min_df=25, max_features=5000)\n",
    "# Apply the count vectorized method to our cleaned data\n",
    "tf = tf_vectorizer.fit_transform(cleaned_text)\n",
    "# Build the Document Term Matrix\n",
    "tf_feature_names = tf_vectorizer.get_feature_names()\n",
    "doc_term_matrix = pd.DataFrame(tf.toarray(), columns=list(tf_feature_names))\n",
    "print(doc_term_matrix)"
   ]
  },
  {
   "cell_type": "code",
   "execution_count": null,
   "metadata": {
    "colab": {
     "base_uri": "https://localhost:8080/",
     "height": 673
    },
    "executionInfo": {
     "elapsed": 2580,
     "status": "ok",
     "timestamp": 1611514739060,
     "user": {
      "displayName": "Eduardo Muñoz Sala",
      "photoUrl": "https://lh3.googleusercontent.com/a-/AOh14Gi9gTFB7xfdxQyNiKRUzqE5vwb9WQjQuMtQz5F16w=s64",
      "userId": "13317831924226771761"
     },
     "user_tz": -60
    },
    "id": "M7mW3MzpSn3d",
    "outputId": "32f378c6-d5b3-4338-82f5-43d019b66f94"
   },
   "outputs": [
    {
     "name": "stderr",
     "output_type": "stream",
     "text": [
      "/usr/local/lib/python3.6/dist-packages/seaborn/_decorators.py:43: FutureWarning: Pass the following variables as keyword args: x, y. From version 0.12, the only valid positional argument will be `data`, and passing other arguments without an explicit keyword will result in an error or misinterpretation.\n",
      "  FutureWarning\n"
     ]
    },
    {
     "data": {
      "image/png": "[encoded data removed]",
      "text/plain": [
       "<Figure size 1080x667.491 with 1 Axes>"
      ]
     },
     "metadata": {
      "needs_background": "light",
      "tags": []
     },
     "output_type": "display_data"
    }
   ],
   "source": [
    "# Visualise the 10 most common words\n",
    "plot_10_most_common_words(tf, tf_vectorizer)"
   ]
  },
  {
   "cell_type": "markdown",
   "metadata": {
    "id": "PSRgKJXkSn3e"
   },
   "source": [
    "## Extract the topic modelling\n",
    "\n",
    "The next cells will allow us to discover topics in our texts, group of words with co-ocurrences in the documents. The Scikit-learn library provides a function to calculate LDA and return a list with the topic and the tokens that include. In our example, we define 10 topics to discover and show the main 8 elements or words in each one:"
   ]
  },
  {
   "cell_type": "code",
   "execution_count": null,
   "metadata": {
    "id": "7TXSdSrtSn3e"
   },
   "outputs": [],
   "source": [
    "# Helper function\n",
    "def print_topics(model, count_vectorizer, n_top_words):\n",
    "    ''' Print the topics detected and the n_top_words that contains\n",
    "    Input:\n",
    "       - model: LDA model for the text\n",
    "       - count_cectorizer: the count vectorizer object\n",
    "       - n_top_words: the number of words to consider in a topic\n",
    "    '''\n",
    "    words = count_vectorizer.get_feature_names()\n",
    "    for topic_idx, topic in enumerate(model.components_):\n",
    "        print(\"\\nTopic #%d:\" % topic_idx)\n",
    "        print(\" \".join([words[i]\n",
    "                        for i in topic.argsort()[:-n_top_words - 1:-1]]))\n"
   ]
  },
  {
   "cell_type": "code",
   "execution_count": null,
   "metadata": {
    "colab": {
     "base_uri": "https://localhost:8080/"
    },
    "executionInfo": {
     "elapsed": 2423855,
     "status": "ok",
     "timestamp": 1611517315278,
     "user": {
      "displayName": "Eduardo Muñoz Sala",
      "photoUrl": "https://lh3.googleusercontent.com/a-/AOh14Gi9gTFB7xfdxQyNiKRUzqE5vwb9WQjQuMtQz5F16w=s64",
      "userId": "13317831924226771761"
     },
     "user_tz": -60
    },
    "id": "5PVYRDYASn3e",
    "outputId": "6c3c3db6-e908-4765-e461-ce683d9c4519"
   },
   "outputs": [
    {
     "name": "stdout",
     "output_type": "stream",
     "text": [
      "Topics found via LDA:\n",
      "\n",
      "Topic #0:\n",
      "cm strap length bag width black insole shoulder\n",
      "\n",
      "Topic #1:\n",
      "design elastic highwaist waistband trim decorative puff wax\n",
      "\n",
      "Topic #2:\n",
      "round print tshirt short neckline sleeves front featuring\n",
      "\n",
      "Topic #3:\n",
      "cotton notes fragrance candle ml zara de oz\n",
      "\n",
      "Topic #4:\n",
      "front sleeves long collar featuring pockets fastening shirt\n",
      "\n",
      "Topic #5:\n",
      "detail fastening back leather dress belt zip applique\n",
      "\n",
      "Topic #6:\n",
      "front pockets zip adjustable fastening button elastic side\n",
      "\n",
      "Topic #7:\n",
      "cm model height chest back fit lapel side\n",
      "\n",
      "Topic #8:\n",
      "print floral two pack one bow cover pull\n",
      "\n",
      "Topic #9:\n",
      "sleeves long round neck neckline trims cm model\n"
     ]
    }
   ],
   "source": [
    "# Apply the LDA method to discover the topics\n",
    "lda_model = LDA(n_components=10, learning_method='online', max_iter=500, random_state=0).fit(tf)\n",
    "# Show the topics and the 8 more relevant words in each topic\n",
    "no_top_words = 8\n",
    "# Print the topics found by the LDA model\n",
    "print(\"Topics found via LDA:\")\n",
    "print_topics(lda_model, tf_vectorizer, no_top_words)"
   ]
  },
  {
   "cell_type": "markdown",
   "metadata": {
    "id": "qHdgd5G7Sn3e"
   },
   "source": [
    "In our dataset, all news are closely related and include terms like said, india, people. It is hard to clearly identify the topics, but for example, number 4 looks like it is referencing to politicians and number 3 to a sport competition."
   ]
  },
  {
   "cell_type": "markdown",
   "metadata": {
    "id": "vAOzAq-ZSn3f"
   },
   "source": [
    "## Visualizing the topic modelling results\n",
    "\n",
    "Visualizing the topics will help us to interpret them, the **pyLDAvis** library plot an interactive figure where each circle corresponds to a topic. The size of the circle represent its importance in the texts and the distance between each circke indicates how similar they are. You can select a topic to display the most relevant words for the topic and the frequency of each word appearing in the topic and the corpus.\n",
    "\n",
    "The parameter relevance metric λ distinguishes words which are exclusive to the topic (closer to 0) and words with high probability of being included in the selected topic (closer to 1). Playing around with this parameter can help us to assign a \"name\" to a topic"
   ]
  },
  {
   "cell_type": "code",
   "execution_count": null,
   "metadata": {
    "id": "5AWAihSJSn3f",
    "outputId": "05de1a8c-2eff-421c-b169-fc89bcbad333"
   },
   "outputs": [
    {
     "name": "stderr",
     "output_type": "stream",
     "text": [
      "C:\\Users\\edumu\\Anaconda3\\lib\\site-packages\\pyLDAvis\\_prepare.py:257: FutureWarning: Sorting because non-concatenation axis is not aligned. A future version\n",
      "of pandas will change to not sort by default.\n",
      "\n",
      "To accept the future behavior, pass 'sort=False'.\n",
      "\n",
      "To retain the current behavior and silence the warning, pass 'sort=True'.\n",
      "\n",
      "  return pd.concat([default_term_info] + list(topic_dfs))\n"
     ]
    }
   ],
   "source": [
    "LDAvis_data_filepath = os.path.join(output_path+'ldavis_prepared_'+str(number_topics))\n",
    "# # this is a bit time consuming - make the if statement True\n",
    "# # if you want to execute visualization prep yourself\n",
    "#if 1 == 1:\n",
    "\n",
    "LDAvis_prepared = sklearn_lda.prepare(lda, count_data, count_vectorizer)\n",
    "with open(LDAvis_data_filepath, 'wb') as f:\n",
    "        pickle.dump(LDAvis_prepared, f)\n",
    "        \n",
    "# load the pre-prepared pyLDAvis data from disk\n",
    "with open(LDAvis_data_filepath,'rb') as f:\n",
    "    LDAvis_prepared = pickle.load(f)\n",
    "    \n",
    "pyLDAvis.save_html(LDAvis_prepared, LDAvis_data_filepath+'.html')"
   ]
  },
  {
   "cell_type": "markdown",
   "metadata": {
    "id": "8r6gcQSuSn3f"
   },
   "source": [
    "In the figure shown, we can select a topic and review which relevants words include, its frequency in the dataset. It is easy to compare topics, and search for anomalies or points to mention."
   ]
  },
  {
   "cell_type": "markdown",
   "metadata": {
    "id": "7R07P1vRSn3f"
   },
   "source": [
    "# References:\n",
    "\n",
    "[1]. Natural Language Processing with Python, by Steven Bird, Ewan Klein and Edward Loper, 2019.\n",
    "\n",
    "[3]- Hovy, E. H. Automated Text Summarization. In R. Mitkov (ed), The Oxford Handbook of Computational Linguistics, chapter 32, pages 583–598. Oxford University Press, 2005\n",
    "\n",
    "[4]- Mani, I., House, D., Klein, G., et al. The TIPSTER SUMMAC Text Summarization Evaluation. In Proceedings of EACL, 1999.\n",
    "\n",
    "[5]- Shashank Kapadia, [\"Topic Modeling in Python: Latent Dirichlet Allocation (LDA)\"](https://towardsdatascience.com/end-to-end-topic-modeling-in-python-latent-dirichlet-allocation-lda-35ce4ed6b3e0) 2019 Medium post.\n",
    "\n",
    "[6]- Susan Li, [\"Topic Modelling in Python with NLTK and Gensim\"](https://towardsdatascience.com/topic-modelling-in-python-with-nltk-and-gensim-4ef03213cd21) 2018 Medium post\n",
    "\n",
    "Kaggle kernels of interest:\n",
    "\n",
    "https://www.kaggle.com/shivamb/seconds-from-disaster-text-eda-and-analysis\n",
    "\n",
    "https://www.kaggle.com/caractacus/thematic-text-analysis-using-spacy-networkx"
   ]
  },
  {
   "cell_type": "code",
   "execution_count": null,
   "metadata": {
    "id": "9IK8fGn-Sn3g"
   },
   "outputs": [],
   "source": []
  }
 ],
 "metadata": {
  "colab": {
   "collapsed_sections": [
    "vAOzAq-ZSn3f"
   ],
   "provenance": []
  },
  "environment": {
   "name": "pytorch-gpu.1-4.m46",
   "type": "gcloud",
   "uri": "gcr.io/deeplearning-platform-release/pytorch-gpu.1-4:m46"
  },
  "kernelspec": {
   "display_name": "default:Python",
   "language": "python",
   "name": "conda-env-default-py"
  },
  "language_info": {
   "codemirror_mode": {
    "name": "ipython",
    "version": 3
   },
   "file_extension": ".py",
   "mimetype": "text/x-python",
   "name": "python",
   "nbconvert_exporter": "python",
   "pygments_lexer": "ipython3",
   "version": "3.9.16"
  }
 },
 "nbformat": 4,
 "nbformat_minor": 4
}
