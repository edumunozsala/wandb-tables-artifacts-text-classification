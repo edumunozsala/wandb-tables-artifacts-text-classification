{
 "cells": [
  {
   "cell_type": "markdown",
   "id": "fd4f4c5c-9cea-464a-b2b2-b8202edd52a6",
   "metadata": {
    "tags": []
   },
   "source": [
    "# Refactoring the training code for the text classifier on user complaints' reviews "
   ]
  },
  {
   "cell_type": "code",
   "execution_count": null,
   "id": "54d0f818-cb13-44f0-91a4-79e85636672b",
   "metadata": {},
   "outputs": [],
   "source": []
  },
  {
   "cell_type": "code",
   "execution_count": 1,
   "id": "86fa37f6-15f8-4912-bda5-518fa0ed0557",
   "metadata": {
    "tags": []
   },
   "outputs": [
    {
     "name": "stderr",
     "output_type": "stream",
     "text": [
      "2023-09-23 10:25:02.081416: I tensorflow/tsl/cuda/cudart_stub.cc:28] Could not find cuda drivers on your machine, GPU will not be used.\n",
      "2023-09-23 10:25:03.609157: I tensorflow/tsl/cuda/cudart_stub.cc:28] Could not find cuda drivers on your machine, GPU will not be used.\n",
      "2023-09-23 10:25:03.613417: I tensorflow/core/platform/cpu_feature_guard.cc:182] This TensorFlow binary is optimized to use available CPU instructions in performance-critical operations.\n",
      "To enable the following instructions: AVX2 AVX512F FMA, in other operations, rebuild TensorFlow with the appropriate compiler flags.\n",
      "2023-09-23 10:25:08.037273: W tensorflow/compiler/tf2tensorrt/utils/py_utils.cc:38] TF-TRT Warning: Could not find TensorRT\n"
     ]
    }
   ],
   "source": [
    "import argparse, os\n",
    "import wandb\n",
    "import pandas as pd\n",
    "import numpy as np\n",
    "import matplotlib.pyplot as plt\n",
    "from pathlib import Path\n",
    "\n",
    "from keras.preprocessing.text import Tokenizer\n",
    "from keras.utils import pad_sequences\n",
    "from keras.utils import set_random_seed\n",
    "from tensorflow.keras.callbacks import EarlyStopping\n",
    "from tensorflow.keras.optimizers import Adam, AdamW\n",
    "\n",
    "import tensorflow as tf\n",
    "\n",
    "from tensorflow.keras.models import Model\n",
    "from tensorflow.keras.layers import Input, Embedding, Conv1D, Dense\n",
    "\n",
    "from sklearn.metrics import accuracy_score, classification_report\n",
    "from sklearn.metrics import confusion_matrix\n",
    "import scikitplot as skplt\n",
    "\n",
    "from wandb.keras import WandbMetricsLogger, WandbModelCheckpoint, WandbCallback\n",
    "\n"
   ]
  },
  {
   "cell_type": "code",
   "execution_count": 2,
   "id": "5ce9a4cb-75f1-4537-b6b4-bf60c602ad85",
   "metadata": {
    "tags": []
   },
   "outputs": [],
   "source": [
    "import params\n"
   ]
  },
  {
   "cell_type": "code",
   "execution_count": 3,
   "id": "c7093e91-fe8f-46ba-9dd1-64b411556114",
   "metadata": {
    "tags": []
   },
   "outputs": [],
   "source": [
    "# defaults\n",
    "default_config = {\n",
    "    \"framework\": \"keras\",\n",
    "    \"kernel_size\": 32, # Kernels\n",
    "    \"filter_size\": 7, # n of filters\n",
    "    \"lr\": 2e-3,\n",
    "    \"weight_decay\": 0.9,\n",
    "    \"log_preds\": True,\n",
    "    \"embedding_size\": 128,\n",
    "    \"max_tokens\": 128,\n",
    "    \"batch_size\": 128,\n",
    "    \"cnn_layers\": 1,\n",
    "    \"epochs\": 5,\n",
    "    \"dropout\": 0,\n",
    "    \"num_classes\": 5,\n",
    "    \"pretrained\": False,\n",
    "    \"seed\": 42\n",
    "}\n"
   ]
  },
  {
   "cell_type": "markdown",
   "id": "55592a87-87c9-4591-ad4a-fd0f6c2219b8",
   "metadata": {},
   "source": [
    "Helper functions to download and prepare the dataset"
   ]
  },
  {
   "cell_type": "code",
   "execution_count": 4,
   "id": "e47e3b58-0892-46fe-a2f7-48dcdda27a08",
   "metadata": {
    "tags": []
   },
   "outputs": [
    {
     "data": {
      "text/plain": [
       "dict"
      ]
     },
     "execution_count": 4,
     "metadata": {},
     "output_type": "execute_result"
    }
   ],
   "source": [
    "type(default_config)"
   ]
  },
  {
   "cell_type": "code",
   "execution_count": 5,
   "id": "9258a59a-43e0-4595-aa1b-4fd27e1ca007",
   "metadata": {
    "tags": []
   },
   "outputs": [],
   "source": [
    "def download_data():\n",
    "    # Define the artifact to use\n",
    "    processed_data_at = run.use_artifact(f'{params.PROCESSED_DATA_AT}:latest', type='split_data')\n",
    "    # Download the data in the artifact\n",
    "    processed_dataset_dir = Path(processed_data_at.download())\n",
    "    return processed_dataset_dir\n",
    "\n",
    "def get_target_dict(df):\n",
    "    # Extract the unique category values\n",
    "    target_classes = df['product'].unique()\n",
    "    # Create a dictionary\n",
    "    target_values = dict(zip(target_classes, range(5)))\n",
    "\n",
    "    return target_values, target_classes\n",
    "\n",
    "def get_datasets(processed_dataset_dir):\n",
    "    # Read the data from the artifact as a csv file\n",
    "    df = pd.read_csv(processed_dataset_dir / params.SPLIT_FILENAME)\n",
    "    # GEt target values\n",
    "    target_values, target_classes = get_target_dict(df)\n",
    "    # Replace values in column product with integer values using the dict\n",
    "    df.replace({'product': target_values}, inplace=True)\n",
    "    # Create the train dataset\n",
    "    X_train= df[df['stage']=='train']['narrative'].values\n",
    "    y_train= df[df['stage']=='train']['product'].values\n",
    "    # Create the validation dataset\n",
    "    X_val= df[df['stage']=='validation']['narrative'].values\n",
    "    y_val= df[df['stage']=='validation']['product'].values\n",
    "    # Create the validation dataset\n",
    "    X_test= df[df['stage']=='test']['narrative'].values\n",
    "    y_test= df[df['stage']=='test']['product'].values\n",
    "\n",
    "    return X_train, y_train, X_val, y_val, X_test, y_test, target_values, target_classes\n"
   ]
  },
  {
   "cell_type": "code",
   "execution_count": 6,
   "id": "bf77f4c1-32b3-45e1-ad90-98764f66536c",
   "metadata": {
    "tags": []
   },
   "outputs": [],
   "source": [
    "def tokenize_text(X_train,X_val,X_test,max_tokens, tokenizer):\n",
    "    # Adjust the tokenizer\n",
    "    tokenizer.fit_on_texts(np.concatenate([X_train,X_val]))\n",
    "\n",
    "    ## Vectorizing data to keep max_tokens words per sample.\n",
    "    X_train_vect = pad_sequences(tokenizer.texts_to_sequences(X_train), maxlen=max_tokens, padding=\"post\", truncating=\"post\", value=0.)\n",
    "    X_val_vect  = pad_sequences(tokenizer.texts_to_sequences(X_val), maxlen=max_tokens, padding=\"post\", truncating=\"post\", value=0.)\n",
    "    X_test_vect  = pad_sequences(tokenizer.texts_to_sequences(X_test), maxlen=max_tokens, padding=\"post\", truncating=\"post\", value=0.)\n",
    "\n",
    "    return X_train_vect, X_val_vect, X_test_vect\n"
   ]
  },
  {
   "cell_type": "code",
   "execution_count": 7,
   "id": "95a61d32-9fcb-40a0-ae37-77a8d8378329",
   "metadata": {
    "tags": []
   },
   "outputs": [],
   "source": [
    "def create_model(tokenizer, embed_len, max_tokens, n_kernel, n_filter, target_values):\n",
    "    # Create the input layer\n",
    "    inputs = Input(shape=(max_tokens, ))\n",
    "    # Embedding layer\n",
    "    embeddings_layer = Embedding(input_dim=len(tokenizer.word_index)+1, output_dim=embed_len,  input_length=max_tokens)\n",
    "    # Create a Conv1D layer\n",
    "    conv = Conv1D(n_kernel, n_filter, padding=\"same\") ## Channels last\n",
    "    # Create the final Dense layer\n",
    "    dense = Dense(len(target_values), activation=\"softmax\")\n",
    "    # Build the model\n",
    "    x = embeddings_layer(inputs)\n",
    "    x = conv(x)\n",
    "    x = tf.reduce_max(x, axis=1)\n",
    "    output = dense(x)\n",
    "\n",
    "    model = Model(inputs=inputs, outputs=output)\n",
    "\n",
    "    return model\n"
   ]
  },
  {
   "cell_type": "code",
   "execution_count": 23,
   "id": "e5867845-b7a7-4d11-8f6f-7ddf033bf303",
   "metadata": {
    "tags": []
   },
   "outputs": [],
   "source": [
    "def evaluate_model(model, X_val, X_val_vect, y_val, target_classes,log_preds):\n",
    "    val_preds = model.predict(X_val_vect)\n",
    "    # Create the classification report\n",
    "    report = classification_report(y_val, np.argmax(val_preds, axis=1), target_names=target_classes, output_dict=True)\n",
    "    # Create a df with the report\n",
    "    df_report = pd.DataFrame(report).transpose()\n",
    "    df_report.reset_index(inplace=True)\n",
    "    df_report = df_report.rename(columns = {'index':'category'})\n",
    "    # Draw the confussion matrix for the test dataset\n",
    "    skplt.metrics.plot_confusion_matrix([target_classes[i] for i in y_val], [target_classes[i] for i in np.argmax(val_preds, axis=1)],\n",
    "                                        normalize=True,\n",
    "                                        title=\"Confusion Matrix\",\n",
    "                                        cmap=\"Blues\",\n",
    "                                        hide_zeros=True,\n",
    "                                        figsize=(5,5)\n",
    "                                        );\n",
    "    plt.xticks(rotation=90)\n",
    "    plt.savefig('confussion_matrix.png')\n",
    "\n",
    "    if log_preds:\n",
    "        df_val= pd.concat([pd.Series(X_val), pd.Series(y_val), pd.DataFrame(val_preds), pd.Series(np.argmax(val_preds, axis=1))], axis=1)\n",
    "        df_val.columns = ['complaint','product','prob0','prob1','prob2','prob3','prob4','prediction']\n",
    "\n",
    "    return df_report, df_val, 'confussion_matrix.png'\n"
   ]
  },
  {
   "cell_type": "markdown",
   "id": "467681e3-c7ad-4159-b4f4-70b46ec7a836",
   "metadata": {},
   "source": [
    "Lets start the body of the `train`function"
   ]
  },
  {
   "cell_type": "code",
   "execution_count": 9,
   "id": "9769d907-9645-4524-a0de-18bb883180af",
   "metadata": {
    "tags": []
   },
   "outputs": [],
   "source": [
    "config = default_config"
   ]
  },
  {
   "cell_type": "code",
   "execution_count": 10,
   "id": "f57f794d-b87e-4a31-a14f-0997db86522c",
   "metadata": {
    "tags": []
   },
   "outputs": [
    {
     "data": {
      "text/plain": [
       "42"
      ]
     },
     "execution_count": 10,
     "metadata": {},
     "output_type": "execute_result"
    }
   ],
   "source": [
    "default_config['seed']"
   ]
  },
  {
   "cell_type": "code",
   "execution_count": 11,
   "id": "bc53c6f2-66c0-4b8d-a7b9-331fcd4814dc",
   "metadata": {
    "tags": []
   },
   "outputs": [],
   "source": [
    "# Set the seed for reproducibility\n",
    "set_random_seed(default_config['seed'])\n"
   ]
  },
  {
   "cell_type": "code",
   "execution_count": 12,
   "id": "eb5b672f-a38d-466e-8493-0fe09a587d2c",
   "metadata": {
    "tags": []
   },
   "outputs": [
    {
     "name": "stderr",
     "output_type": "stream",
     "text": [
      "\u001b[34m\u001b[1mwandb\u001b[0m: Currently logged in as: \u001b[33medumunozsala\u001b[0m. Use \u001b[1m`wandb login --relogin`\u001b[0m to force relogin\n"
     ]
    },
    {
     "data": {
      "text/html": [
       "wandb version 0.15.11 is available!  To upgrade, please run:\n",
       " $ pip install wandb --upgrade"
      ],
      "text/plain": [
       "<IPython.core.display.HTML object>"
      ]
     },
     "metadata": {},
     "output_type": "display_data"
    },
    {
     "data": {
      "text/html": [
       "Tracking run with wandb version 0.15.8"
      ],
      "text/plain": [
       "<IPython.core.display.HTML object>"
      ]
     },
     "metadata": {},
     "output_type": "display_data"
    },
    {
     "data": {
      "text/html": [
       "Run data is saved locally in <code>/home/studio-lab-user/sagemaker-studiolab-notebooks/wandb/run-20230923_102630-fscsxr19</code>"
      ],
      "text/plain": [
       "<IPython.core.display.HTML object>"
      ]
     },
     "metadata": {},
     "output_type": "display_data"
    },
    {
     "data": {
      "text/html": [
       "Syncing run <strong><a href='https://wandb.ai/edumunozsala/consumer_complaints_classification/runs/fscsxr19' target=\"_blank\">true-smoke-30</a></strong> to <a href='https://wandb.ai/edumunozsala/consumer_complaints_classification' target=\"_blank\">Weights & Biases</a> (<a href='https://wandb.me/run' target=\"_blank\">docs</a>)<br/>"
      ],
      "text/plain": [
       "<IPython.core.display.HTML object>"
      ]
     },
     "metadata": {},
     "output_type": "display_data"
    },
    {
     "data": {
      "text/html": [
       " View project at <a href='https://wandb.ai/edumunozsala/consumer_complaints_classification' target=\"_blank\">https://wandb.ai/edumunozsala/consumer_complaints_classification</a>"
      ],
      "text/plain": [
       "<IPython.core.display.HTML object>"
      ]
     },
     "metadata": {},
     "output_type": "display_data"
    },
    {
     "data": {
      "text/html": [
       " View run at <a href='https://wandb.ai/edumunozsala/consumer_complaints_classification/runs/fscsxr19' target=\"_blank\">https://wandb.ai/edumunozsala/consumer_complaints_classification/runs/fscsxr19</a>"
      ],
      "text/plain": [
       "<IPython.core.display.HTML object>"
      ]
     },
     "metadata": {},
     "output_type": "display_data"
    }
   ],
   "source": [
    "# Init the wandb session in our project\n",
    "run = wandb.init(project=params.WANDB_PROJECT, entity=None, job_type=\"tuning\", config=config)\n",
    "# good practice to inject params using sweeps\n",
    "config = wandb.config\n"
   ]
  },
  {
   "cell_type": "code",
   "execution_count": 13,
   "id": "18ab21e3-5363-49df-9cda-80ecc1338392",
   "metadata": {
    "tags": []
   },
   "outputs": [
    {
     "data": {
      "text/plain": [
       "('consumer_complaints_split', 'consumer_complaints_hptuning')"
      ]
     },
     "execution_count": 13,
     "metadata": {},
     "output_type": "execute_result"
    }
   ],
   "source": [
    "params.PROCESSED_DATA_AT,params.HPTUNING_DATA_AT"
   ]
  },
  {
   "cell_type": "code",
   "execution_count": 14,
   "id": "03a566cd-96cc-4052-aa79-5363221a61ab",
   "metadata": {
    "tags": []
   },
   "outputs": [
    {
     "name": "stderr",
     "output_type": "stream",
     "text": [
      "\u001b[34m\u001b[1mwandb\u001b[0m: Downloading large artifact consumer_complaints_split:latest, 98.06MB. 2 files... \n",
      "\u001b[34m\u001b[1mwandb\u001b[0m:   2 of 2 files downloaded.  \n",
      "Done. 0:0:0.8\n"
     ]
    }
   ],
   "source": [
    "# Download the data in the artifact\n",
    "processed_dataset_dir = download_data()"
   ]
  },
  {
   "cell_type": "code",
   "execution_count": 15,
   "id": "e29c73b6-6f8b-4671-9a34-bf6bdaea4f89",
   "metadata": {
    "tags": []
   },
   "outputs": [],
   "source": [
    "# Split the datasets\n",
    "X_train, y_train, X_val, y_val, X_test, y_test, target_values, target_classes = get_datasets(processed_dataset_dir)\n"
   ]
  },
  {
   "cell_type": "code",
   "execution_count": 16,
   "id": "fa442667-06f5-4810-a52c-86dd7147ec4c",
   "metadata": {
    "tags": []
   },
   "outputs": [],
   "source": [
    "# Create the tokenizer\n",
    "tokenizer = Tokenizer()\n",
    "# Tokenize the texts\n",
    "X_train_vect, X_val_vect, X_test_vect = tokenize_text(X_train,X_val,X_test, config.max_tokens, tokenizer)\n"
   ]
  },
  {
   "cell_type": "code",
   "execution_count": 17,
   "id": "b9a17f3e-d1e6-4b62-a7ca-f9925e1a8b9c",
   "metadata": {
    "tags": []
   },
   "outputs": [],
   "source": [
    "# Define the model\n",
    "model = create_model(tokenizer, config.embedding_size, config.max_tokens, config.kernel_size, config.filter_size, target_values)\n",
    "# Create the optimizer\n",
    "#adam_optimizer = Adam(learning_rate=config.lr, decay=config.lr/config.epochs)\n",
    "adam_optimizer = AdamW(learning_rate=config.lr, weight_decay=config.weight_decay)\n",
    "\n",
    "# Compile the model\n",
    "model.compile(adam_optimizer, \"sparse_categorical_crossentropy\", metrics=[\"accuracy\"])"
   ]
  },
  {
   "cell_type": "code",
   "execution_count": 18,
   "id": "e33ccf73-e63e-4c28-b3e1-f4138e0768fe",
   "metadata": {
    "tags": []
   },
   "outputs": [
    {
     "name": "stderr",
     "output_type": "stream",
     "text": [
      "\u001b[34m\u001b[1mwandb\u001b[0m: \u001b[33mWARNING\u001b[0m When using `save_best_only`, ensure that the `filepath` argument contains formatting placeholders like `{epoch:02d}` or `{batch:02d}`. This ensures correct interpretation of the logged artifacts.\n"
     ]
    }
   ],
   "source": [
    "# Create the callbacks\n",
    "#callbacks = [WandbCallback(monitor=\"val_accuracy\", mode=\"max\", log_preds=config.log_preds, log_model=True, save_model=True),]\n",
    "#                 WandbModelCheckpoint(filepath=\"model-{epoch:02d}\", monitor=\"val_accuracy\", save_best_only=True, mode=\"max\"),]\n",
    "\n",
    "callbacks= [EarlyStopping(monitor='val_accuracy', patience = 2, restore_best_weights = False),\n",
    "            WandbMetricsLogger(),\n",
    "            WandbModelCheckpoint(filepath=\"model\", monitor=\"val_accuracy\", save_best_only=True, mode=\"max\"),]"
   ]
  },
  {
   "cell_type": "code",
   "execution_count": 19,
   "id": "6282a67c-8936-49e5-9975-aaea29ddf6f9",
   "metadata": {
    "tags": []
   },
   "outputs": [
    {
     "name": "stdout",
     "output_type": "stream",
     "text": [
      "Epoch 1/5\n",
      "402/402 [==============================] - ETA: 0s - loss: 0.6203 - accuracy: 0.7907INFO:tensorflow:Assets written to: model/assets\n"
     ]
    },
    {
     "name": "stderr",
     "output_type": "stream",
     "text": [
      "INFO:tensorflow:Assets written to: model/assets\n",
      "\u001b[34m\u001b[1mwandb\u001b[0m: Adding directory to artifact (./model)... Done. 0.2s\n"
     ]
    },
    {
     "name": "stdout",
     "output_type": "stream",
     "text": [
      "402/402 [==============================] - 54s 131ms/step - loss: 0.6203 - accuracy: 0.7907 - val_loss: 0.4762 - val_accuracy: 0.8373\n",
      "Epoch 2/5\n",
      "402/402 [==============================] - ETA: 0s - loss: 0.4276 - accuracy: 0.8557INFO:tensorflow:Assets written to: model/assets\n"
     ]
    },
    {
     "name": "stderr",
     "output_type": "stream",
     "text": [
      "INFO:tensorflow:Assets written to: model/assets\n",
      "\u001b[34m\u001b[1mwandb\u001b[0m: Adding directory to artifact (./model)... Done. 0.2s\n"
     ]
    },
    {
     "name": "stdout",
     "output_type": "stream",
     "text": [
      "402/402 [==============================] - 54s 134ms/step - loss: 0.4276 - accuracy: 0.8557 - val_loss: 0.4627 - val_accuracy: 0.8438\n",
      "Epoch 3/5\n",
      "402/402 [==============================] - ETA: 0s - loss: 0.3915 - accuracy: 0.8691INFO:tensorflow:Assets written to: model/assets\n"
     ]
    },
    {
     "name": "stderr",
     "output_type": "stream",
     "text": [
      "INFO:tensorflow:Assets written to: model/assets\n",
      "\u001b[34m\u001b[1mwandb\u001b[0m: Adding directory to artifact (./model)... Done. 0.2s\n"
     ]
    },
    {
     "name": "stdout",
     "output_type": "stream",
     "text": [
      "402/402 [==============================] - 62s 154ms/step - loss: 0.3915 - accuracy: 0.8691 - val_loss: 0.4572 - val_accuracy: 0.8457\n",
      "Epoch 4/5\n",
      "402/402 [==============================] - ETA: 0s - loss: 0.3689 - accuracy: 0.8769INFO:tensorflow:Assets written to: model/assets\n"
     ]
    },
    {
     "name": "stderr",
     "output_type": "stream",
     "text": [
      "INFO:tensorflow:Assets written to: model/assets\n",
      "\u001b[34m\u001b[1mwandb\u001b[0m: Adding directory to artifact (./model)... Done. 0.2s\n"
     ]
    },
    {
     "name": "stdout",
     "output_type": "stream",
     "text": [
      "402/402 [==============================] - 55s 138ms/step - loss: 0.3689 - accuracy: 0.8769 - val_loss: 0.4564 - val_accuracy: 0.8472\n",
      "Epoch 5/5\n",
      "402/402 [==============================] - ETA: 0s - loss: 0.3501 - accuracy: 0.8860"
     ]
    },
    {
     "name": "stderr",
     "output_type": "stream",
     "text": [
      "\u001b[34m\u001b[1mwandb\u001b[0m: Adding directory to artifact (./model)... Done. 0.2s\n"
     ]
    },
    {
     "name": "stdout",
     "output_type": "stream",
     "text": [
      "402/402 [==============================] - 48s 120ms/step - loss: 0.3501 - accuracy: 0.8860 - val_loss: 0.4534 - val_accuracy: 0.8458\n"
     ]
    }
   ],
   "source": [
    "# Fit the model\n",
    "history = model.fit(X_train_vect, y_train, batch_size=config.batch_size, epochs=config.epochs, validation_data=(X_val_vect, y_val),\n",
    "                    callbacks=[callbacks])\n"
   ]
  },
  {
   "cell_type": "code",
   "execution_count": 20,
   "id": "c14ecba5-7323-4497-9693-c94ae02caa74",
   "metadata": {
    "tags": []
   },
   "outputs": [],
   "source": [
    "# Restore the best model\n",
    "#model.load_weights(\"model\")\n",
    "model = tf.keras.models.load_model(\"model\")#,compile=False)"
   ]
  },
  {
   "cell_type": "code",
   "execution_count": 21,
   "id": "767644cf-2a9f-4006-a954-0e6679ce328a",
   "metadata": {
    "tags": []
   },
   "outputs": [
    {
     "data": {
      "text/plain": [
       "True"
      ]
     },
     "execution_count": 21,
     "metadata": {},
     "output_type": "execute_result"
    }
   ],
   "source": [
    "config.log_preds"
   ]
  },
  {
   "cell_type": "code",
   "execution_count": 24,
   "id": "f523dbc1-0202-40c2-a669-f077f0d42c3e",
   "metadata": {
    "tags": []
   },
   "outputs": [
    {
     "name": "stdout",
     "output_type": "stream",
     "text": [
      "345/345 [==============================] - 3s 9ms/step\n"
     ]
    },
    {
     "data": {
      "image/png": "[encoded data removed]",
      "text/plain": [
       "<Figure size 500x500 with 2 Axes>"
      ]
     },
     "metadata": {},
     "output_type": "display_data"
    }
   ],
   "source": [
    "# Evaluate the model\n",
    "df_report, df_val, conf_matrix = evaluate_model(model, X_val, X_val_vect, y_val, target_classes, config.log_preds)"
   ]
  },
  {
   "cell_type": "markdown",
   "id": "90c2e826-8283-4ca0-b63e-36ffe1081726",
   "metadata": {},
   "source": [
    "Save artifacts to W&B"
   ]
  },
  {
   "cell_type": "code",
   "execution_count": 25,
   "id": "b5f43417-a691-4f1e-b8a1-41642ef219b3",
   "metadata": {
    "tags": []
   },
   "outputs": [],
   "source": [
    "params.HPTUNING_DATA_AT = 'consumer_complaints_hptuning'"
   ]
  },
  {
   "cell_type": "code",
   "execution_count": 26,
   "id": "ef3985f2-5e10-4a2c-9a88-58088e35ce47",
   "metadata": {
    "tags": []
   },
   "outputs": [
    {
     "data": {
      "text/plain": [
       "<wandb.sdk.artifacts.artifact_manifest_entry.ArtifactManifestEntry at 0x7f27693a2e20>"
      ]
     },
     "execution_count": 26,
     "metadata": {},
     "output_type": "execute_result"
    }
   ],
   "source": [
    "#Create the artifact\n",
    "tuning_data_at = wandb.Artifact(params.HPTUNING_DATA_AT, type=\"tuning\")\n",
    "# Add the classifation report\n",
    "tuning_data_at.add_file(conf_matrix)\n",
    "# Save the classification report\n",
    "report_table = wandb.Table(dataframe=df_report)\n",
    "tuning_data_at.add(report_table, \"classification_report\")\n",
    "# Save evaluation data\n",
    "evaluation_table = wandb.Table(dataframe=df_val)\n",
    "tuning_data_at.add(evaluation_table, \"evaluation_table\")"
   ]
  },
  {
   "cell_type": "code",
   "execution_count": 27,
   "id": "62be7023-17fa-412b-8a5b-547fb73da867",
   "metadata": {
    "tags": []
   },
   "outputs": [
    {
     "data": {
      "text/plain": [
       "<Artifact consumer_complaints_hptuning>"
      ]
     },
     "execution_count": 27,
     "metadata": {},
     "output_type": "execute_result"
    }
   ],
   "source": [
    "# Log artifacts\n",
    "run.log_artifact(tuning_data_at)"
   ]
  },
  {
   "cell_type": "code",
   "execution_count": 28,
   "id": "bd88ebcd-12c2-4c5e-be1b-911324e1c1b3",
   "metadata": {
    "tags": []
   },
   "outputs": [
    {
     "data": {
      "text/html": [
       "Waiting for W&B process to finish... <strong style=\"color:green\">(success).</strong>"
      ],
      "text/plain": [
       "<IPython.core.display.HTML object>"
      ]
     },
     "metadata": {},
     "output_type": "display_data"
    },
    {
     "data": {
      "application/vnd.jupyter.widget-view+json": {
       "model_id": "79b8294f6cb64d77b9afc912118d99da",
       "version_major": 2,
       "version_minor": 0
      },
      "text/plain": [
       "VBox(children=(Label(value='224.817 MB of 224.817 MB uploaded (0.033 MB deduped)\\r'), FloatProgress(value=1.0,…"
      ]
     },
     "metadata": {},
     "output_type": "display_data"
    },
    {
     "data": {
      "text/html": [
       "<style>\n",
       "    table.wandb td:nth-child(1) { padding: 0 10px; text-align: left ; width: auto;} td:nth-child(2) {text-align: left ; width: 100%}\n",
       "    .wandb-row { display: flex; flex-direction: row; flex-wrap: wrap; justify-content: flex-start; width: 100% }\n",
       "    .wandb-col { display: flex; flex-direction: column; flex-basis: 100%; flex: 1; padding: 10px; }\n",
       "    </style>\n",
       "<div class=\"wandb-row\"><div class=\"wandb-col\"><h3>Run history:</h3><br/><table class=\"wandb\"><tr><td>epoch/accuracy</td><td>▁▆▇▇█</td></tr><tr><td>epoch/epoch</td><td>▁▃▅▆█</td></tr><tr><td>epoch/learning_rate</td><td>▁▁▁▁▁</td></tr><tr><td>epoch/loss</td><td>█▃▂▁▁</td></tr><tr><td>epoch/val_accuracy</td><td>▁▆▇█▇</td></tr><tr><td>epoch/val_loss</td><td>█▄▂▂▁</td></tr></table><br/></div><div class=\"wandb-col\"><h3>Run summary:</h3><br/><table class=\"wandb\"><tr><td>epoch/accuracy</td><td>0.88601</td></tr><tr><td>epoch/epoch</td><td>4</td></tr><tr><td>epoch/learning_rate</td><td>0.002</td></tr><tr><td>epoch/loss</td><td>0.3501</td></tr><tr><td>epoch/val_accuracy</td><td>0.8458</td></tr><tr><td>epoch/val_loss</td><td>0.45341</td></tr></table><br/></div></div>"
      ],
      "text/plain": [
       "<IPython.core.display.HTML object>"
      ]
     },
     "metadata": {},
     "output_type": "display_data"
    },
    {
     "data": {
      "text/html": [
       " View run <strong style=\"color:#cdcd00\">true-smoke-30</strong> at: <a href='https://wandb.ai/edumunozsala/consumer_complaints_classification/runs/fscsxr19' target=\"_blank\">https://wandb.ai/edumunozsala/consumer_complaints_classification/runs/fscsxr19</a><br/>Synced 6 W&B file(s), 0 media file(s), 23 artifact file(s) and 0 other file(s)"
      ],
      "text/plain": [
       "<IPython.core.display.HTML object>"
      ]
     },
     "metadata": {},
     "output_type": "display_data"
    },
    {
     "data": {
      "text/html": [
       "Find logs at: <code>./wandb/run-20230923_102630-fscsxr19/logs</code>"
      ],
      "text/plain": [
       "<IPython.core.display.HTML object>"
      ]
     },
     "metadata": {},
     "output_type": "display_data"
    }
   ],
   "source": [
    "wandb.finish()"
   ]
  },
  {
   "cell_type": "code",
   "execution_count": null,
   "id": "7c6e1660-6201-418c-ae08-1537c3be7b44",
   "metadata": {},
   "outputs": [],
   "source": []
  }
 ],
 "metadata": {
  "kernelspec": {
   "display_name": "default:Python",
   "language": "python",
   "name": "conda-env-default-py"
  },
  "language_info": {
   "codemirror_mode": {
    "name": "ipython",
    "version": 3
   },
   "file_extension": ".py",
   "mimetype": "text/x-python",
   "name": "python",
   "nbconvert_exporter": "python",
   "pygments_lexer": "ipython3",
   "version": "3.9.16"
  }
 },
 "nbformat": 4,
 "nbformat_minor": 5
}
