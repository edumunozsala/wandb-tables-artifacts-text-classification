{
 "cells": [
  {
   "cell_type": "markdown",
   "metadata": {
    "id": "F-LXjtbQtHWI"
   },
   "source": [
    "# Text Classification on user complaints with W&B Tables and Artifacts\n",
    "\n",
    "# Evaluating the performance on best model\n",
    "\n",
    "Once the hyperparameter tuning has been executed, we perform some evaluation tasks to gain some insights about the performance.\n",
    "\n",
    "### Importing the libraries"
   ]
  },
  {
   "cell_type": "markdown",
   "metadata": {
    "id": "GVQnBqQ6wqvE"
   },
   "source": [
    "First, we need to download the wandb library"
   ]
  },
  {
   "cell_type": "code",
   "execution_count": 1,
   "metadata": {
    "id": "TNXqPeCVwp72",
    "tags": []
   },
   "outputs": [
    {
     "name": "stdout",
     "output_type": "stream",
     "text": [
      "Requirement already satisfied: scikit-plot in /home/studio-lab-user/.conda/envs/default/lib/python3.9/site-packages (0.3.7)\n",
      "Requirement already satisfied: matplotlib>=1.4.0 in /home/studio-lab-user/.conda/envs/default/lib/python3.9/site-packages (from scikit-plot) (3.7.2)\n",
      "Requirement already satisfied: scipy>=0.9 in /home/studio-lab-user/.conda/envs/default/lib/python3.9/site-packages (from scikit-plot) (1.11.2)\n",
      "Requirement already satisfied: scikit-learn>=0.18 in /home/studio-lab-user/.conda/envs/default/lib/python3.9/site-packages (from scikit-plot) (1.3.0)\n",
      "Requirement already satisfied: joblib>=0.10 in /home/studio-lab-user/.conda/envs/default/lib/python3.9/site-packages (from scikit-plot) (1.3.2)\n",
      "Requirement already satisfied: importlib-resources>=3.2.0 in /home/studio-lab-user/.conda/envs/default/lib/python3.9/site-packages (from matplotlib>=1.4.0->scikit-plot) (5.12.0)\n",
      "Requirement already satisfied: contourpy>=1.0.1 in /home/studio-lab-user/.conda/envs/default/lib/python3.9/site-packages (from matplotlib>=1.4.0->scikit-plot) (1.1.0)\n",
      "Requirement already satisfied: pillow>=6.2.0 in /home/studio-lab-user/.conda/envs/default/lib/python3.9/site-packages (from matplotlib>=1.4.0->scikit-plot) (10.0.0)\n",
      "Requirement already satisfied: packaging>=20.0 in /home/studio-lab-user/.conda/envs/default/lib/python3.9/site-packages (from matplotlib>=1.4.0->scikit-plot) (23.0)\n",
      "Requirement already satisfied: python-dateutil>=2.7 in /home/studio-lab-user/.conda/envs/default/lib/python3.9/site-packages (from matplotlib>=1.4.0->scikit-plot) (2.8.2)\n",
      "Requirement already satisfied: pyparsing<3.1,>=2.3.1 in /home/studio-lab-user/.conda/envs/default/lib/python3.9/site-packages (from matplotlib>=1.4.0->scikit-plot) (3.0.9)\n",
      "Requirement already satisfied: cycler>=0.10 in /home/studio-lab-user/.conda/envs/default/lib/python3.9/site-packages (from matplotlib>=1.4.0->scikit-plot) (0.11.0)\n",
      "Requirement already satisfied: fonttools>=4.22.0 in /home/studio-lab-user/.conda/envs/default/lib/python3.9/site-packages (from matplotlib>=1.4.0->scikit-plot) (4.42.0)\n",
      "Requirement already satisfied: kiwisolver>=1.0.1 in /home/studio-lab-user/.conda/envs/default/lib/python3.9/site-packages (from matplotlib>=1.4.0->scikit-plot) (1.4.4)\n",
      "Requirement already satisfied: numpy>=1.20 in /home/studio-lab-user/.conda/envs/default/lib/python3.9/site-packages (from matplotlib>=1.4.0->scikit-plot) (1.24.3)\n",
      "Requirement already satisfied: zipp>=3.1.0 in /home/studio-lab-user/.conda/envs/default/lib/python3.9/site-packages (from importlib-resources>=3.2.0->matplotlib>=1.4.0->scikit-plot) (3.15.0)\n",
      "Requirement already satisfied: six>=1.5 in /home/studio-lab-user/.conda/envs/default/lib/python3.9/site-packages (from python-dateutil>=2.7->matplotlib>=1.4.0->scikit-plot) (1.16.0)\n",
      "Requirement already satisfied: threadpoolctl>=2.0.0 in /home/studio-lab-user/.conda/envs/default/lib/python3.9/site-packages (from scikit-learn>=0.18->scikit-plot) (3.2.0)\n",
      "Requirement already satisfied: seaborn in /home/studio-lab-user/.conda/envs/default/lib/python3.9/site-packages (0.13.0)\n",
      "Requirement already satisfied: pandas>=1.2 in /home/studio-lab-user/.conda/envs/default/lib/python3.9/site-packages (from seaborn) (2.0.3)\n",
      "Requirement already satisfied: numpy!=1.24.0,>=1.20 in /home/studio-lab-user/.conda/envs/default/lib/python3.9/site-packages (from seaborn) (1.24.3)\n",
      "Requirement already satisfied: matplotlib!=3.6.1,>=3.3 in /home/studio-lab-user/.conda/envs/default/lib/python3.9/site-packages (from seaborn) (3.7.2)\n",
      "Requirement already satisfied: kiwisolver>=1.0.1 in /home/studio-lab-user/.conda/envs/default/lib/python3.9/site-packages (from matplotlib!=3.6.1,>=3.3->seaborn) (1.4.4)\n",
      "Requirement already satisfied: python-dateutil>=2.7 in /home/studio-lab-user/.conda/envs/default/lib/python3.9/site-packages (from matplotlib!=3.6.1,>=3.3->seaborn) (2.8.2)\n",
      "Requirement already satisfied: cycler>=0.10 in /home/studio-lab-user/.conda/envs/default/lib/python3.9/site-packages (from matplotlib!=3.6.1,>=3.3->seaborn) (0.11.0)\n",
      "Requirement already satisfied: fonttools>=4.22.0 in /home/studio-lab-user/.conda/envs/default/lib/python3.9/site-packages (from matplotlib!=3.6.1,>=3.3->seaborn) (4.42.0)\n",
      "Requirement already satisfied: pyparsing<3.1,>=2.3.1 in /home/studio-lab-user/.conda/envs/default/lib/python3.9/site-packages (from matplotlib!=3.6.1,>=3.3->seaborn) (3.0.9)\n",
      "Requirement already satisfied: pillow>=6.2.0 in /home/studio-lab-user/.conda/envs/default/lib/python3.9/site-packages (from matplotlib!=3.6.1,>=3.3->seaborn) (10.0.0)\n",
      "Requirement already satisfied: packaging>=20.0 in /home/studio-lab-user/.conda/envs/default/lib/python3.9/site-packages (from matplotlib!=3.6.1,>=3.3->seaborn) (23.0)\n",
      "Requirement already satisfied: contourpy>=1.0.1 in /home/studio-lab-user/.conda/envs/default/lib/python3.9/site-packages (from matplotlib!=3.6.1,>=3.3->seaborn) (1.1.0)\n",
      "Requirement already satisfied: importlib-resources>=3.2.0 in /home/studio-lab-user/.conda/envs/default/lib/python3.9/site-packages (from matplotlib!=3.6.1,>=3.3->seaborn) (5.12.0)\n",
      "Requirement already satisfied: zipp>=3.1.0 in /home/studio-lab-user/.conda/envs/default/lib/python3.9/site-packages (from importlib-resources>=3.2.0->matplotlib!=3.6.1,>=3.3->seaborn) (3.15.0)\n",
      "Requirement already satisfied: tzdata>=2022.1 in /home/studio-lab-user/.conda/envs/default/lib/python3.9/site-packages (from pandas>=1.2->seaborn) (2023.3)\n",
      "Requirement already satisfied: pytz>=2020.1 in /home/studio-lab-user/.conda/envs/default/lib/python3.9/site-packages (from pandas>=1.2->seaborn) (2023.3)\n",
      "Requirement already satisfied: six>=1.5 in /home/studio-lab-user/.conda/envs/default/lib/python3.9/site-packages (from python-dateutil>=2.7->matplotlib!=3.6.1,>=3.3->seaborn) (1.16.0)\n"
     ]
    }
   ],
   "source": [
    "!pip install wandb -qqq\n",
    "!pip install scikit-plot\n",
    "!pip install seaborn"
   ]
  },
  {
   "cell_type": "code",
   "execution_count": 2,
   "metadata": {
    "tags": []
   },
   "outputs": [
    {
     "name": "stdout",
     "output_type": "stream",
     "text": [
      "Requirement already satisfied: keras in /home/studio-lab-user/.conda/envs/default/lib/python3.9/site-packages (2.13.1)\n",
      "Requirement already satisfied: tensorflow in /home/studio-lab-user/.conda/envs/default/lib/python3.9/site-packages (2.13.0)\n",
      "Requirement already satisfied: absl-py>=1.0.0 in /home/studio-lab-user/.conda/envs/default/lib/python3.9/site-packages (from tensorflow) (1.4.0)\n",
      "Requirement already satisfied: packaging in /home/studio-lab-user/.conda/envs/default/lib/python3.9/site-packages (from tensorflow) (23.0)\n",
      "Requirement already satisfied: opt-einsum>=2.3.2 in /home/studio-lab-user/.conda/envs/default/lib/python3.9/site-packages (from tensorflow) (3.3.0)\n",
      "Requirement already satisfied: termcolor>=1.1.0 in /home/studio-lab-user/.conda/envs/default/lib/python3.9/site-packages (from tensorflow) (2.3.0)\n",
      "Requirement already satisfied: google-pasta>=0.1.1 in /home/studio-lab-user/.conda/envs/default/lib/python3.9/site-packages (from tensorflow) (0.2.0)\n",
      "Requirement already satisfied: six>=1.12.0 in /home/studio-lab-user/.conda/envs/default/lib/python3.9/site-packages (from tensorflow) (1.16.0)\n",
      "Requirement already satisfied: typing-extensions<4.6.0,>=3.6.6 in /home/studio-lab-user/.conda/envs/default/lib/python3.9/site-packages (from tensorflow) (4.5.0)\n",
      "Requirement already satisfied: numpy<=1.24.3,>=1.22 in /home/studio-lab-user/.conda/envs/default/lib/python3.9/site-packages (from tensorflow) (1.24.3)\n",
      "Requirement already satisfied: flatbuffers>=23.1.21 in /home/studio-lab-user/.conda/envs/default/lib/python3.9/site-packages (from tensorflow) (23.5.26)\n",
      "Requirement already satisfied: setuptools in /home/studio-lab-user/.conda/envs/default/lib/python3.9/site-packages (from tensorflow) (67.6.1)\n",
      "Requirement already satisfied: wrapt>=1.11.0 in /home/studio-lab-user/.conda/envs/default/lib/python3.9/site-packages (from tensorflow) (1.15.0)\n",
      "Requirement already satisfied: tensorboard<2.14,>=2.13 in /home/studio-lab-user/.conda/envs/default/lib/python3.9/site-packages (from tensorflow) (2.13.0)\n",
      "Requirement already satisfied: tensorflow-estimator<2.14,>=2.13.0 in /home/studio-lab-user/.conda/envs/default/lib/python3.9/site-packages (from tensorflow) (2.13.0)\n",
      "Requirement already satisfied: protobuf!=4.21.0,!=4.21.1,!=4.21.2,!=4.21.3,!=4.21.4,!=4.21.5,<5.0.0dev,>=3.20.3 in /home/studio-lab-user/.conda/envs/default/lib/python3.9/site-packages (from tensorflow) (4.24.0)\n",
      "Requirement already satisfied: gast<=0.4.0,>=0.2.1 in /home/studio-lab-user/.conda/envs/default/lib/python3.9/site-packages (from tensorflow) (0.4.0)\n",
      "Requirement already satisfied: tensorflow-io-gcs-filesystem>=0.23.1 in /home/studio-lab-user/.conda/envs/default/lib/python3.9/site-packages (from tensorflow) (0.33.0)\n",
      "Requirement already satisfied: grpcio<2.0,>=1.24.3 in /home/studio-lab-user/.conda/envs/default/lib/python3.9/site-packages (from tensorflow) (1.57.0)\n",
      "Requirement already satisfied: h5py>=2.9.0 in /home/studio-lab-user/.conda/envs/default/lib/python3.9/site-packages (from tensorflow) (3.9.0)\n",
      "Requirement already satisfied: astunparse>=1.6.0 in /home/studio-lab-user/.conda/envs/default/lib/python3.9/site-packages (from tensorflow) (1.6.3)\n",
      "Requirement already satisfied: libclang>=13.0.0 in /home/studio-lab-user/.conda/envs/default/lib/python3.9/site-packages (from tensorflow) (16.0.6)\n",
      "Requirement already satisfied: wheel<1.0,>=0.23.0 in /home/studio-lab-user/.conda/envs/default/lib/python3.9/site-packages (from astunparse>=1.6.0->tensorflow) (0.40.0)\n",
      "Requirement already satisfied: werkzeug>=1.0.1 in /home/studio-lab-user/.conda/envs/default/lib/python3.9/site-packages (from tensorboard<2.14,>=2.13->tensorflow) (2.3.7)\n",
      "Requirement already satisfied: requests<3,>=2.21.0 in /home/studio-lab-user/.conda/envs/default/lib/python3.9/site-packages (from tensorboard<2.14,>=2.13->tensorflow) (2.31.0)\n",
      "Requirement already satisfied: google-auth<3,>=1.6.3 in /home/studio-lab-user/.conda/envs/default/lib/python3.9/site-packages (from tensorboard<2.14,>=2.13->tensorflow) (2.22.0)\n",
      "Requirement already satisfied: tensorboard-data-server<0.8.0,>=0.7.0 in /home/studio-lab-user/.conda/envs/default/lib/python3.9/site-packages (from tensorboard<2.14,>=2.13->tensorflow) (0.7.1)\n",
      "Requirement already satisfied: google-auth-oauthlib<1.1,>=0.5 in /home/studio-lab-user/.conda/envs/default/lib/python3.9/site-packages (from tensorboard<2.14,>=2.13->tensorflow) (1.0.0)\n",
      "Requirement already satisfied: markdown>=2.6.8 in /home/studio-lab-user/.conda/envs/default/lib/python3.9/site-packages (from tensorboard<2.14,>=2.13->tensorflow) (3.4.4)\n",
      "Requirement already satisfied: urllib3<2.0 in /home/studio-lab-user/.conda/envs/default/lib/python3.9/site-packages (from google-auth<3,>=1.6.3->tensorboard<2.14,>=2.13->tensorflow) (1.26.16)\n",
      "Requirement already satisfied: cachetools<6.0,>=2.0.0 in /home/studio-lab-user/.conda/envs/default/lib/python3.9/site-packages (from google-auth<3,>=1.6.3->tensorboard<2.14,>=2.13->tensorflow) (5.3.1)\n",
      "Requirement already satisfied: rsa<5,>=3.1.4 in /home/studio-lab-user/.conda/envs/default/lib/python3.9/site-packages (from google-auth<3,>=1.6.3->tensorboard<2.14,>=2.13->tensorflow) (4.9)\n",
      "Requirement already satisfied: pyasn1-modules>=0.2.1 in /home/studio-lab-user/.conda/envs/default/lib/python3.9/site-packages (from google-auth<3,>=1.6.3->tensorboard<2.14,>=2.13->tensorflow) (0.3.0)\n",
      "Requirement already satisfied: requests-oauthlib>=0.7.0 in /home/studio-lab-user/.conda/envs/default/lib/python3.9/site-packages (from google-auth-oauthlib<1.1,>=0.5->tensorboard<2.14,>=2.13->tensorflow) (1.3.1)\n",
      "Requirement already satisfied: importlib-metadata>=4.4 in /home/studio-lab-user/.conda/envs/default/lib/python3.9/site-packages (from markdown>=2.6.8->tensorboard<2.14,>=2.13->tensorflow) (6.1.0)\n",
      "Requirement already satisfied: zipp>=0.5 in /home/studio-lab-user/.conda/envs/default/lib/python3.9/site-packages (from importlib-metadata>=4.4->markdown>=2.6.8->tensorboard<2.14,>=2.13->tensorflow) (3.15.0)\n",
      "Requirement already satisfied: pyasn1<0.6.0,>=0.4.6 in /home/studio-lab-user/.conda/envs/default/lib/python3.9/site-packages (from pyasn1-modules>=0.2.1->google-auth<3,>=1.6.3->tensorboard<2.14,>=2.13->tensorflow) (0.5.0)\n",
      "Requirement already satisfied: charset-normalizer<4,>=2 in /home/studio-lab-user/.conda/envs/default/lib/python3.9/site-packages (from requests<3,>=2.21.0->tensorboard<2.14,>=2.13->tensorflow) (3.2.0)\n",
      "Requirement already satisfied: certifi>=2017.4.17 in /home/studio-lab-user/.conda/envs/default/lib/python3.9/site-packages (from requests<3,>=2.21.0->tensorboard<2.14,>=2.13->tensorflow) (2023.7.22)\n",
      "Requirement already satisfied: idna<4,>=2.5 in /home/studio-lab-user/.conda/envs/default/lib/python3.9/site-packages (from requests<3,>=2.21.0->tensorboard<2.14,>=2.13->tensorflow) (3.4)\n",
      "Requirement already satisfied: oauthlib>=3.0.0 in /home/studio-lab-user/.conda/envs/default/lib/python3.9/site-packages (from requests-oauthlib>=0.7.0->google-auth-oauthlib<1.1,>=0.5->tensorboard<2.14,>=2.13->tensorflow) (3.2.2)\n",
      "Requirement already satisfied: MarkupSafe>=2.1.1 in /home/studio-lab-user/.conda/envs/default/lib/python3.9/site-packages (from werkzeug>=1.0.1->tensorboard<2.14,>=2.13->tensorflow) (2.1.2)\n"
     ]
    }
   ],
   "source": [
    "!pip install keras tensorflow"
   ]
  },
  {
   "cell_type": "code",
   "execution_count": 3,
   "metadata": {
    "id": "AhHrDKfXt62l",
    "tags": []
   },
   "outputs": [
    {
     "name": "stderr",
     "output_type": "stream",
     "text": [
      "2023-10-08 17:33:41.497279: I tensorflow/tsl/cuda/cudart_stub.cc:28] Could not find cuda drivers on your machine, GPU will not be used.\n",
      "2023-10-08 17:33:42.347392: I tensorflow/tsl/cuda/cudart_stub.cc:28] Could not find cuda drivers on your machine, GPU will not be used.\n",
      "2023-10-08 17:33:42.352588: I tensorflow/core/platform/cpu_feature_guard.cc:182] This TensorFlow binary is optimized to use available CPU instructions in performance-critical operations.\n",
      "To enable the following instructions: AVX2 AVX512F FMA, in other operations, rebuild TensorFlow with the appropriate compiler flags.\n",
      "2023-10-08 17:33:45.030590: W tensorflow/compiler/tf2tensorrt/utils/py_utils.cc:38] TF-TRT Warning: Could not find TensorRT\n"
     ]
    }
   ],
   "source": [
    "import wandb\n",
    "import pandas as pd\n",
    "import matplotlib.pyplot as plt\n",
    "%matplotlib inline\n",
    "\n",
    "import numpy as np\n",
    "from numpy.random import seed\n",
    "\n",
    "from pathlib import Path\n",
    "\n",
    "from keras.preprocessing.text import Tokenizer\n",
    "from keras.utils import pad_sequences\n",
    "from keras.utils import set_random_seed\n",
    "\n",
    "import tensorflow as tf\n",
    "\n",
    "from tensorflow.keras.models import Model\n",
    "\n",
    "from sklearn.metrics import accuracy_score, classification_report\n",
    "from sklearn.metrics import confusion_matrix\n",
    "import scikitplot as skplt"
   ]
  },
  {
   "cell_type": "code",
   "execution_count": 4,
   "metadata": {
    "tags": []
   },
   "outputs": [],
   "source": [
    "# Import the seaborn library, it is a powerful library for plotting and commonly used with matplotlib\n",
    "import seaborn as sns\n",
    "sns.set_style(\"white\")"
   ]
  },
  {
   "cell_type": "code",
   "execution_count": 5,
   "metadata": {
    "tags": []
   },
   "outputs": [],
   "source": [
    "import params"
   ]
  },
  {
   "cell_type": "markdown",
   "metadata": {
    "id": "mLnPf6ATOqUu"
   },
   "source": [
    "We are setting seed for reproducibility"
   ]
  },
  {
   "cell_type": "code",
   "execution_count": 6,
   "metadata": {
    "id": "B6TsCkzgwOOi",
    "tags": []
   },
   "outputs": [],
   "source": [
    "# To reproduce the experiment\n",
    "s=42\n",
    "# Set the seed for reproducibility\n",
    "set_random_seed(s)"
   ]
  },
  {
   "cell_type": "markdown",
   "metadata": {},
   "source": [
    "## Helper functions"
   ]
  },
  {
   "cell_type": "code",
   "execution_count": 7,
   "metadata": {
    "tags": []
   },
   "outputs": [],
   "source": [
    "def download_data():\n",
    "    # Define the artifact to use\n",
    "    processed_data_at = run.use_artifact(f'{params.PROCESSED_DATA_AT}:latest', type='split_data')\n",
    "    # Download the data in the artifact\n",
    "    processed_dataset_dir = Path(processed_data_at.download())\n",
    "    return processed_dataset_dir\n",
    "\n",
    "def get_target_dict(df):\n",
    "    # Extract the unique category values\n",
    "    target_classes = df['product'].unique()\n",
    "    # Create a dictionary\n",
    "    target_values = dict(zip(target_classes, range(5)))\n",
    "\n",
    "    return target_values, target_classes\n",
    "\n",
    "def get_datasets(processed_dataset_dir):\n",
    "    # Read the data from the artifact as a csv file\n",
    "    df = pd.read_csv(processed_dataset_dir / params.SPLIT_FILENAME)\n",
    "    # GEt target values\n",
    "    target_values, target_classes = get_target_dict(df)\n",
    "    # Replace values in column product with integer values using the dict\n",
    "    df.replace({'product': target_values}, inplace=True)\n",
    "    # Create the train dataset\n",
    "    X_train= df[df['stage']=='train']['narrative'].values\n",
    "    y_train= df[df['stage']=='train']['product'].values\n",
    "    # Create the validation dataset\n",
    "    X_val= df[df['stage']=='validation']['narrative'].values\n",
    "    y_val= df[df['stage']=='validation']['product'].values\n",
    "    # Create the validation dataset\n",
    "    X_test= df[df['stage']=='test']['narrative'].values\n",
    "    y_test= df[df['stage']=='test']['product'].values\n",
    "\n",
    "    return X_train, y_train, X_val, y_val, X_test, y_test, target_values, target_classes\n",
    "\n",
    "def tokenize_text(X_train,X_val,X_test,max_tokens, tokenizer):\n",
    "    # Adjust the tokenizer\n",
    "    tokenizer.fit_on_texts(np.concatenate([X_train,X_val]))\n",
    "\n",
    "    ## Vectorizing data to keep max_tokens words per sample.\n",
    "    X_train_vect = pad_sequences(tokenizer.texts_to_sequences(X_train), maxlen=max_tokens, padding=\"post\", truncating=\"post\", value=0.)\n",
    "    X_val_vect  = pad_sequences(tokenizer.texts_to_sequences(X_val), maxlen=max_tokens, padding=\"post\", truncating=\"post\", value=0.)\n",
    "    X_test_vect  = pad_sequences(tokenizer.texts_to_sequences(X_test), maxlen=max_tokens, padding=\"post\", truncating=\"post\", value=0.)\n",
    "\n",
    "    return X_train_vect, X_val_vect, X_test_vect\n",
    "\n",
    "def evaluate_model(model, X_val, X_val_vect, y_val, target_classes,log_preds):\n",
    "    val_preds = model.predict(X_val_vect)\n",
    "    # Create the classification report\n",
    "    report = classification_report(y_val, np.argmax(val_preds, axis=1), target_names=target_classes, output_dict=True)\n",
    "    # Create a df with the report\n",
    "    df_report = pd.DataFrame(report).transpose()\n",
    "    df_report.reset_index(inplace=True)\n",
    "    df_report = df_report.rename(columns = {'index':'category'})\n",
    "    # Draw the confussion matrix for the test dataset\n",
    "    skplt.metrics.plot_confusion_matrix([target_classes[i] for i in y_val], [target_classes[i] for i in np.argmax(val_preds, axis=1)],\n",
    "                                        normalize=True,\n",
    "                                        title=\"Confusion Matrix\",\n",
    "                                        cmap=\"Blues\",\n",
    "                                        hide_zeros=True,\n",
    "                                        figsize=(5,5)\n",
    "                                        );\n",
    "    plt.xticks(rotation=90)\n",
    "    plt.savefig('confussion_matrix.png')\n",
    "\n",
    "    if log_preds:\n",
    "        val_prediction= pd.Series(np.argmax(val_preds, axis=1))\n",
    "        df_val= pd.concat([pd.Series(X_val), pd.Series(X_val_vect.tolist()), pd.Series(y_val), pd.Series(target_classes[y_val]), pd.DataFrame(val_preds), \n",
    "                           val_prediction, pd.Series(target_classes[val_prediction])], axis=1)\n",
    "        df_val.columns = ['complaint','complaint_tokens', 'product','product_class','prob0','prob1','prob2','prob3','prob4','prediction','prediction_class']\n",
    "\n",
    "    return df_report, df_val, 'confussion_matrix.png'\n"
   ]
  },
  {
   "cell_type": "markdown",
   "metadata": {
    "id": "8fuCDSsEuFSj"
   },
   "source": [
    "## Download the data from W&B Artifacts"
   ]
  },
  {
   "cell_type": "markdown",
   "metadata": {
    "id": "HkDajVYPuTox"
   },
   "source": [
    "Download the data from the Artifact we save previously, we will use W&B Artifacts to track the lineage of our models."
   ]
  },
  {
   "cell_type": "code",
   "execution_count": 15,
   "metadata": {
    "id": "EELVHXqAu8SG",
    "tags": []
   },
   "outputs": [],
   "source": [
    "\"\"\"\n",
    "WANDB_PROJECT = \"consumer_complaints_classification\"\n",
    "ENTITY = None # set this to team name if working in a team\n",
    "RAW_DATA_AT = 'consumer_complaints_eda'\n",
    "PROCESSED_DATA_AT = 'consumer_complaints_split'\n",
    "SPLIT_FILENAME = 'consumer_complaints_split.csv'\n",
    "BASELINE_DATA_AT = 'consumer_complaints_baseline'\n",
    "\"\"\""
   ]
  },
  {
   "cell_type": "code",
   "execution_count": 47,
   "metadata": {
    "id": "BD9yGlLPuJ81",
    "tags": []
   },
   "outputs": [
    {
     "data": {
      "text/html": [
       "wandb version 0.15.12 is available!  To upgrade, please run:\n",
       " $ pip install wandb --upgrade"
      ],
      "text/plain": [
       "<IPython.core.display.HTML object>"
      ]
     },
     "metadata": {},
     "output_type": "display_data"
    },
    {
     "data": {
      "text/html": [
       "Tracking run with wandb version 0.15.8"
      ],
      "text/plain": [
       "<IPython.core.display.HTML object>"
      ]
     },
     "metadata": {},
     "output_type": "display_data"
    },
    {
     "data": {
      "text/html": [
       "Run data is saved locally in <code>/home/studio-lab-user/sagemaker-studiolab-notebooks/wandb/run-20231008_175813-jhnnrne5</code>"
      ],
      "text/plain": [
       "<IPython.core.display.HTML object>"
      ]
     },
     "metadata": {},
     "output_type": "display_data"
    },
    {
     "data": {
      "text/html": [
       "Syncing run <strong><a href='https://wandb.ai/edumunozsala/consumer_complaints_classification/runs/jhnnrne5' target=\"_blank\">true-music-77</a></strong> to <a href='https://wandb.ai/edumunozsala/consumer_complaints_classification' target=\"_blank\">Weights & Biases</a> (<a href='https://wandb.me/run' target=\"_blank\">docs</a>)<br/>"
      ],
      "text/plain": [
       "<IPython.core.display.HTML object>"
      ]
     },
     "metadata": {},
     "output_type": "display_data"
    },
    {
     "data": {
      "text/html": [
       " View project at <a href='https://wandb.ai/edumunozsala/consumer_complaints_classification' target=\"_blank\">https://wandb.ai/edumunozsala/consumer_complaints_classification</a>"
      ],
      "text/plain": [
       "<IPython.core.display.HTML object>"
      ]
     },
     "metadata": {},
     "output_type": "display_data"
    },
    {
     "data": {
      "text/html": [
       " View run at <a href='https://wandb.ai/edumunozsala/consumer_complaints_classification/runs/jhnnrne5' target=\"_blank\">https://wandb.ai/edumunozsala/consumer_complaints_classification/runs/jhnnrne5</a>"
      ],
      "text/plain": [
       "<IPython.core.display.HTML object>"
      ]
     },
     "metadata": {},
     "output_type": "display_data"
    },
    {
     "name": "stderr",
     "output_type": "stream",
     "text": [
      "\u001b[34m\u001b[1mwandb\u001b[0m: Downloading large artifact consumer_complaints_split:latest, 98.06MB. 2 files... \n",
      "\u001b[34m\u001b[1mwandb\u001b[0m:   2 of 2 files downloaded.  \n",
      "Done. 0:0:0.4\n"
     ]
    }
   ],
   "source": [
    "# Init the wandb session in our project\n",
    "run = wandb.init(project=params.WANDB_PROJECT, entity=params.ENTITY, job_type=\"evaluation\")\n",
    "# Define the artifact to use\n",
    "processed_data_at = run.use_artifact(f'{params.PROCESSED_DATA_AT}:latest', type='split_data')\n",
    "# Download the data in the artifact\n",
    "processed_dataset_dir = Path(processed_data_at.download())"
   ]
  },
  {
   "cell_type": "code",
   "execution_count": 9,
   "metadata": {
    "id": "CFMvQTUExcze",
    "tags": []
   },
   "outputs": [
    {
     "data": {
      "text/plain": [
       "PosixPath('artifacts/consumer_complaints_split:v0')"
      ]
     },
     "execution_count": 9,
     "metadata": {},
     "output_type": "execute_result"
    }
   ],
   "source": [
    "processed_dataset_dir"
   ]
  },
  {
   "cell_type": "markdown",
   "metadata": {},
   "source": [
    "## Download the best model"
   ]
  },
  {
   "cell_type": "code",
   "execution_count": 10,
   "metadata": {
    "tags": []
   },
   "outputs": [
    {
     "name": "stderr",
     "output_type": "stream",
     "text": [
      "\u001b[34m\u001b[1mwandb\u001b[0m: Downloading large artifact User Complaints Text Classifier:v1, 54.43MB. 5 files... \n",
      "\u001b[34m\u001b[1mwandb\u001b[0m:   5 of 5 files downloaded.  \n",
      "Done. 0:0:0.7\n"
     ]
    }
   ],
   "source": [
    "# Get the artifact containing the best model\n",
    "artifact = run.use_artifact('edumunozsala/model-registry/User Complaints Text Classifier:v1', type='model')\n",
    "artifact_dir = Path(artifact.download())"
   ]
  },
  {
   "cell_type": "code",
   "execution_count": 11,
   "metadata": {
    "tags": []
   },
   "outputs": [
    {
     "data": {
      "text/plain": [
       "PosixPath('artifacts/run_ykz9r8iq_model:v7')"
      ]
     },
     "execution_count": 11,
     "metadata": {},
     "output_type": "execute_result"
    }
   ],
   "source": [
    "artifact_dir"
   ]
  },
  {
   "cell_type": "markdown",
   "metadata": {},
   "source": [
    "### Get the configuration of the model to evaluate"
   ]
  },
  {
   "cell_type": "code",
   "execution_count": 12,
   "metadata": {
    "tags": []
   },
   "outputs": [],
   "source": [
    "producer_run = artifact.logged_by()\n",
    "wandb.config.update(producer_run.config)\n",
    "config = wandb.config"
   ]
  },
  {
   "cell_type": "code",
   "execution_count": 13,
   "metadata": {
    "tags": []
   },
   "outputs": [
    {
     "name": "stdout",
     "output_type": "stream",
     "text": [
      "{'lr': 0.00041224613475931336, 'seed': 42, 'epochs': 8, 'dropout': 0.3, 'framework': 'keras', 'log_preds': True, 'batch_size': 256, 'cnn_layers': 1, 'max_tokens': 128, 'pretrained': False, 'filter_size': 7, 'kernel_size': 64, 'num_classes': 5, 'weight_decay': 0.9430068991225528, 'embedding_size': 128}\n"
     ]
    }
   ],
   "source": [
    "print(config)"
   ]
  },
  {
   "cell_type": "markdown",
   "metadata": {},
   "source": [
    "### Define the dataset "
   ]
  },
  {
   "cell_type": "code",
   "execution_count": 14,
   "metadata": {
    "id": "mr4o_KufvTgK",
    "tags": []
   },
   "outputs": [
    {
     "name": "stderr",
     "output_type": "stream",
     "text": [
      "\u001b[34m\u001b[1mwandb\u001b[0m: Downloading large artifact consumer_complaints_split:latest, 98.06MB. 2 files... \n",
      "\u001b[34m\u001b[1mwandb\u001b[0m:   2 of 2 files downloaded.  \n",
      "Done. 0:0:0.3\n"
     ]
    }
   ],
   "source": [
    "# Download the data in the artifact\n",
    "processed_dataset_dir = download_data()\n",
    "# Split the datasets\n",
    "X_train, y_train, X_val, y_val, X_test, y_test, target_values, target_classes = get_datasets(processed_dataset_dir)\n",
    "# Create the tokenizer\n",
    "tokenizer = Tokenizer()\n",
    "# Tokenize the texts\n",
    "X_train_vect, X_val_vect, X_test_vect = tokenize_text(X_train,X_val,X_test, config.max_tokens, tokenizer)"
   ]
  },
  {
   "cell_type": "markdown",
   "metadata": {
    "id": "ib-zA2Ai4-s9"
   },
   "source": [
    "We create our train and validation dataset, defining the array of features and the array of label for every dataset"
   ]
  },
  {
   "cell_type": "code",
   "execution_count": 15,
   "metadata": {
    "id": "mnc17V46yv4Z",
    "tags": []
   },
   "outputs": [
    {
     "name": "stdout",
     "output_type": "stream",
     "text": [
      "Train dataset size:  (51416,)  Validation dataset size:  (11018,)  Test dataset size:  (11018,)\n",
      "Target classes:  ['credit_card' 'debt_collection' 'credit_reporting' 'retail_banking'\n",
      " 'mortgages_and_loans']\n"
     ]
    }
   ],
   "source": [
    "print('Train dataset size: ',X_train.shape, ' Validation dataset size: ',X_val.shape, ' Test dataset size: ',X_test.shape)\n",
    "print('Target classes: ', target_classes)"
   ]
  },
  {
   "cell_type": "markdown",
   "metadata": {
    "id": "XEy6gr023ied"
   },
   "source": [
    "## Create the model from our registered model "
   ]
  },
  {
   "cell_type": "code",
   "execution_count": 16,
   "metadata": {
    "id": "roPoqhx14DGY",
    "tags": []
   },
   "outputs": [
    {
     "name": "stdout",
     "output_type": "stream",
     "text": [
      "Model: \"model\"\n",
      "_________________________________________________________________\n",
      " Layer (type)                Output Shape              Param #   \n",
      "=================================================================\n",
      " input_1 (InputLayer)        [(None, 128)]             0         \n",
      "                                                                 \n",
      " embedding (Embedding)       (None, 128, 128)          4689664   \n",
      "                                                                 \n",
      " conv1d (Conv1D)             (None, 128, 64)           57408     \n",
      "                                                                 \n",
      " tf.math.reduce_max (TFOpLa  (None, 64)                0         \n",
      " mbda)                                                           \n",
      "                                                                 \n",
      " dense (Dense)               (None, 5)                 325       \n",
      "                                                                 \n",
      "=================================================================\n",
      "Total params: 4747397 (18.11 MB)\n",
      "Trainable params: 4747397 (18.11 MB)\n",
      "Non-trainable params: 0 (0.00 Byte)\n",
      "_________________________________________________________________\n"
     ]
    }
   ],
   "source": [
    "# Restore the best model\n",
    "model = tf.keras.models.load_model(artifact_dir)\n",
    "# Show the model architecture\n",
    "model.summary()"
   ]
  },
  {
   "cell_type": "markdown",
   "metadata": {
    "id": "In55EToAN3GM"
   },
   "source": [
    "### Evaluate the registered model "
   ]
  },
  {
   "cell_type": "markdown",
   "metadata": {
    "id": "7LW4LPWbOJvE"
   },
   "source": [
    "We evaluate the registered model on the same validation dataset and compare the metrics with the ones we obtained in the fine-tuning run"
   ]
  },
  {
   "cell_type": "code",
   "execution_count": 48,
   "metadata": {
    "id": "uRzsyxlhOXHb",
    "tags": []
   },
   "outputs": [
    {
     "name": "stdout",
     "output_type": "stream",
     "text": [
      "345/345 [==============================] - 4s 13ms/step\n"
     ]
    },
    {
     "data": {
      "image/png": "[encoded data removed]",
      "text/plain": [
       "<Figure size 500x500 with 2 Axes>"
      ]
     },
     "metadata": {},
     "output_type": "display_data"
    }
   ],
   "source": [
    "# Evaluate the model\n",
    "df_report, df_val, conf_matrix = evaluate_model(model, X_val, X_val_vect, y_val, target_classes, config.log_preds)"
   ]
  },
  {
   "cell_type": "code",
   "execution_count": 18,
   "metadata": {
    "tags": []
   },
   "outputs": [
    {
     "data": {
      "text/html": [
       "<div>\n",
       "<style scoped>\n",
       "    .dataframe tbody tr th:only-of-type {\n",
       "        vertical-align: middle;\n",
       "    }\n",
       "\n",
       "    .dataframe tbody tr th {\n",
       "        vertical-align: top;\n",
       "    }\n",
       "\n",
       "    .dataframe thead th {\n",
       "        text-align: right;\n",
       "    }\n",
       "</style>\n",
       "<table border=\"1\" class=\"dataframe\">\n",
       "  <thead>\n",
       "    <tr style=\"text-align: right;\">\n",
       "      <th></th>\n",
       "      <th>complaint</th>\n",
       "      <th>complaint_tokens</th>\n",
       "      <th>product</th>\n",
       "      <th>product_class</th>\n",
       "      <th>prob0</th>\n",
       "      <th>prob1</th>\n",
       "      <th>prob2</th>\n",
       "      <th>prob3</th>\n",
       "      <th>prob4</th>\n",
       "      <th>prediction</th>\n",
       "      <th>prediction_class</th>\n",
       "    </tr>\n",
       "  </thead>\n",
       "  <tbody>\n",
       "    <tr>\n",
       "      <th>0</th>\n",
       "      <td>already notified university improperly collect...</td>\n",
       "      <td>[180, 356, 2028, 2849, 43, 122, 2, 753, 263, 6...</td>\n",
       "      <td>2</td>\n",
       "      <td>credit_reporting</td>\n",
       "      <td>0.000881</td>\n",
       "      <td>0.437974</td>\n",
       "      <td>0.557944</td>\n",
       "      <td>0.000297</td>\n",
       "      <td>0.002905</td>\n",
       "      <td>2</td>\n",
       "      <td>credit_reporting</td>\n",
       "    </tr>\n",
       "    <tr>\n",
       "      <th>1</th>\n",
       "      <td>first progress card give provisional credit di...</td>\n",
       "      <td>[87, 1794, 5, 172, 1467, 2, 39, 152, 205, 767,...</td>\n",
       "      <td>0</td>\n",
       "      <td>credit_card</td>\n",
       "      <td>0.628951</td>\n",
       "      <td>0.015145</td>\n",
       "      <td>0.010382</td>\n",
       "      <td>0.344718</td>\n",
       "      <td>0.000803</td>\n",
       "      <td>0</td>\n",
       "      <td>credit_card</td>\n",
       "    </tr>\n",
       "    <tr>\n",
       "      <th>2</th>\n",
       "      <td>opened credit card account capital one capital...</td>\n",
       "      <td>[110, 2, 5, 1, 148, 22, 148, 22, 4888, 68, 185...</td>\n",
       "      <td>0</td>\n",
       "      <td>credit_card</td>\n",
       "      <td>0.981875</td>\n",
       "      <td>0.010917</td>\n",
       "      <td>0.001731</td>\n",
       "      <td>0.001397</td>\n",
       "      <td>0.004080</td>\n",
       "      <td>0</td>\n",
       "      <td>credit_card</td>\n",
       "    </tr>\n",
       "    <tr>\n",
       "      <th>3</th>\n",
       "      <td>writing today regard account kia motor finance...</td>\n",
       "      <td>[343, 151, 519, 1, 2314, 1858, 389, 49, 3, 250...</td>\n",
       "      <td>4</td>\n",
       "      <td>mortgages_and_loans</td>\n",
       "      <td>0.033089</td>\n",
       "      <td>0.003010</td>\n",
       "      <td>0.031989</td>\n",
       "      <td>0.000559</td>\n",
       "      <td>0.931353</td>\n",
       "      <td>4</td>\n",
       "      <td>mortgages_and_loans</td>\n",
       "    </tr>\n",
       "    <tr>\n",
       "      <th>4</th>\n",
       "      <td>duplicate complaint synchrony need step forwar...</td>\n",
       "      <td>[1447, 57, 525, 61, 644, 571, 381, 55, 1118, 3...</td>\n",
       "      <td>0</td>\n",
       "      <td>credit_card</td>\n",
       "      <td>0.990708</td>\n",
       "      <td>0.001780</td>\n",
       "      <td>0.004489</td>\n",
       "      <td>0.001131</td>\n",
       "      <td>0.001893</td>\n",
       "      <td>0</td>\n",
       "      <td>credit_card</td>\n",
       "    </tr>\n",
       "  </tbody>\n",
       "</table>\n",
       "</div>"
      ],
      "text/plain": [
       "                                           complaint  \\\n",
       "0  already notified university improperly collect...   \n",
       "1  first progress card give provisional credit di...   \n",
       "2  opened credit card account capital one capital...   \n",
       "3  writing today regard account kia motor finance...   \n",
       "4  duplicate complaint synchrony need step forwar...   \n",
       "\n",
       "                                    complaint_tokens  product  \\\n",
       "0  [180, 356, 2028, 2849, 43, 122, 2, 753, 263, 6...        2   \n",
       "1  [87, 1794, 5, 172, 1467, 2, 39, 152, 205, 767,...        0   \n",
       "2  [110, 2, 5, 1, 148, 22, 148, 22, 4888, 68, 185...        0   \n",
       "3  [343, 151, 519, 1, 2314, 1858, 389, 49, 3, 250...        4   \n",
       "4  [1447, 57, 525, 61, 644, 571, 381, 55, 1118, 3...        0   \n",
       "\n",
       "         product_class     prob0     prob1     prob2     prob3     prob4  \\\n",
       "0     credit_reporting  0.000881  0.437974  0.557944  0.000297  0.002905   \n",
       "1          credit_card  0.628951  0.015145  0.010382  0.344718  0.000803   \n",
       "2          credit_card  0.981875  0.010917  0.001731  0.001397  0.004080   \n",
       "3  mortgages_and_loans  0.033089  0.003010  0.031989  0.000559  0.931353   \n",
       "4          credit_card  0.990708  0.001780  0.004489  0.001131  0.001893   \n",
       "\n",
       "   prediction     prediction_class  \n",
       "0           2     credit_reporting  \n",
       "1           0          credit_card  \n",
       "2           0          credit_card  \n",
       "3           4  mortgages_and_loans  \n",
       "4           0          credit_card  "
      ]
     },
     "execution_count": 18,
     "metadata": {},
     "output_type": "execute_result"
    }
   ],
   "source": [
    "df_val.head()"
   ]
  },
  {
   "cell_type": "markdown",
   "metadata": {
    "id": "-Lrzrqj_Nu_f"
   },
   "source": [
    "Lets visualize the classification report for our registered model"
   ]
  },
  {
   "cell_type": "code",
   "execution_count": 19,
   "metadata": {
    "id": "s6ihuzVcNzcq",
    "tags": []
   },
   "outputs": [
    {
     "data": {
      "text/html": [
       "<div>\n",
       "<style scoped>\n",
       "    .dataframe tbody tr th:only-of-type {\n",
       "        vertical-align: middle;\n",
       "    }\n",
       "\n",
       "    .dataframe tbody tr th {\n",
       "        vertical-align: top;\n",
       "    }\n",
       "\n",
       "    .dataframe thead th {\n",
       "        text-align: right;\n",
       "    }\n",
       "</style>\n",
       "<table border=\"1\" class=\"dataframe\">\n",
       "  <thead>\n",
       "    <tr style=\"text-align: right;\">\n",
       "      <th></th>\n",
       "      <th>category</th>\n",
       "      <th>precision</th>\n",
       "      <th>recall</th>\n",
       "      <th>f1-score</th>\n",
       "      <th>support</th>\n",
       "    </tr>\n",
       "  </thead>\n",
       "  <tbody>\n",
       "    <tr>\n",
       "      <th>0</th>\n",
       "      <td>credit_card</td>\n",
       "      <td>0.835460</td>\n",
       "      <td>0.845127</td>\n",
       "      <td>0.840265</td>\n",
       "      <td>2247.000000</td>\n",
       "    </tr>\n",
       "    <tr>\n",
       "      <th>1</th>\n",
       "      <td>debt_collection</td>\n",
       "      <td>0.846017</td>\n",
       "      <td>0.844889</td>\n",
       "      <td>0.845453</td>\n",
       "      <td>2250.000000</td>\n",
       "    </tr>\n",
       "    <tr>\n",
       "      <th>2</th>\n",
       "      <td>credit_reporting</td>\n",
       "      <td>0.831863</td>\n",
       "      <td>0.796000</td>\n",
       "      <td>0.813536</td>\n",
       "      <td>2250.000000</td>\n",
       "    </tr>\n",
       "    <tr>\n",
       "      <th>3</th>\n",
       "      <td>retail_banking</td>\n",
       "      <td>0.873917</td>\n",
       "      <td>0.898565</td>\n",
       "      <td>0.886070</td>\n",
       "      <td>2021.000000</td>\n",
       "    </tr>\n",
       "    <tr>\n",
       "      <th>4</th>\n",
       "      <td>mortgages_and_loans</td>\n",
       "      <td>0.878253</td>\n",
       "      <td>0.884889</td>\n",
       "      <td>0.881559</td>\n",
       "      <td>2250.000000</td>\n",
       "    </tr>\n",
       "    <tr>\n",
       "      <th>5</th>\n",
       "      <td>accuracy</td>\n",
       "      <td>0.852968</td>\n",
       "      <td>0.852968</td>\n",
       "      <td>0.852968</td>\n",
       "      <td>0.852968</td>\n",
       "    </tr>\n",
       "    <tr>\n",
       "      <th>6</th>\n",
       "      <td>macro avg</td>\n",
       "      <td>0.853102</td>\n",
       "      <td>0.853894</td>\n",
       "      <td>0.853377</td>\n",
       "      <td>11018.000000</td>\n",
       "    </tr>\n",
       "    <tr>\n",
       "      <th>7</th>\n",
       "      <td>weighted avg</td>\n",
       "      <td>0.852674</td>\n",
       "      <td>0.852968</td>\n",
       "      <td>0.852701</td>\n",
       "      <td>11018.000000</td>\n",
       "    </tr>\n",
       "  </tbody>\n",
       "</table>\n",
       "</div>"
      ],
      "text/plain": [
       "              category  precision    recall  f1-score       support\n",
       "0          credit_card   0.835460  0.845127  0.840265   2247.000000\n",
       "1      debt_collection   0.846017  0.844889  0.845453   2250.000000\n",
       "2     credit_reporting   0.831863  0.796000  0.813536   2250.000000\n",
       "3       retail_banking   0.873917  0.898565  0.886070   2021.000000\n",
       "4  mortgages_and_loans   0.878253  0.884889  0.881559   2250.000000\n",
       "5             accuracy   0.852968  0.852968  0.852968      0.852968\n",
       "6            macro avg   0.853102  0.853894  0.853377  11018.000000\n",
       "7         weighted avg   0.852674  0.852968  0.852701  11018.000000"
      ]
     },
     "metadata": {},
     "output_type": "display_data"
    }
   ],
   "source": [
    "display(df_report)"
   ]
  },
  {
   "cell_type": "markdown",
   "metadata": {},
   "source": [
    "### Download the Classification Report from the artifacts in the fine-tuning run"
   ]
  },
  {
   "cell_type": "code",
   "execution_count": 20,
   "metadata": {
    "tags": []
   },
   "outputs": [
    {
     "data": {
      "text/plain": [
       "0.8529678583145142"
      ]
     },
     "execution_count": 20,
     "metadata": {},
     "output_type": "execute_result"
    }
   ],
   "source": [
    "producer_run.summary['epoch/val_accuracy']"
   ]
  },
  {
   "cell_type": "code",
   "execution_count": 21,
   "metadata": {
    "tags": []
   },
   "outputs": [
    {
     "name": "stdout",
     "output_type": "stream",
     "text": [
      "Captured logged artifact\n"
     ]
    },
    {
     "name": "stderr",
     "output_type": "stream",
     "text": [
      "\u001b[34m\u001b[1mwandb\u001b[0m:   3 of 3 files downloaded.  \n"
     ]
    }
   ],
   "source": [
    "import json\n",
    "#type(producer_run.logged_artifacts())\n",
    "assert producer_run.logged_artifacts()[8].name == 'consumer_complaints_hptuning:v45'\n",
    "print('Captured logged artifact')\n",
    "#['edumunozsala/consumer_complaints_classification/consumer_complaints_hptuning:v45', type='tuning')\n",
    "# Download the artifact\n",
    "table_dir = producer_run.logged_artifacts()[8].download()"
   ]
  },
  {
   "cell_type": "code",
   "execution_count": 22,
   "metadata": {
    "tags": []
   },
   "outputs": [
    {
     "name": "stdout",
     "output_type": "stream",
     "text": [
      "./artifacts/consumer_complaints_hptuning:v45/classification_report.table.json\n"
     ]
    },
    {
     "data": {
      "text/html": [
       "<div>\n",
       "<style scoped>\n",
       "    .dataframe tbody tr th:only-of-type {\n",
       "        vertical-align: middle;\n",
       "    }\n",
       "\n",
       "    .dataframe tbody tr th {\n",
       "        vertical-align: top;\n",
       "    }\n",
       "\n",
       "    .dataframe thead th {\n",
       "        text-align: right;\n",
       "    }\n",
       "</style>\n",
       "<table border=\"1\" class=\"dataframe\">\n",
       "  <thead>\n",
       "    <tr style=\"text-align: right;\">\n",
       "      <th></th>\n",
       "      <th>category</th>\n",
       "      <th>precision</th>\n",
       "      <th>recall</th>\n",
       "      <th>f1-score</th>\n",
       "      <th>support</th>\n",
       "    </tr>\n",
       "  </thead>\n",
       "  <tbody>\n",
       "    <tr>\n",
       "      <th>0</th>\n",
       "      <td>credit_card</td>\n",
       "      <td>0.835460</td>\n",
       "      <td>0.845127</td>\n",
       "      <td>0.840265</td>\n",
       "      <td>2247.000000</td>\n",
       "    </tr>\n",
       "    <tr>\n",
       "      <th>1</th>\n",
       "      <td>debt_collection</td>\n",
       "      <td>0.846017</td>\n",
       "      <td>0.844889</td>\n",
       "      <td>0.845453</td>\n",
       "      <td>2250.000000</td>\n",
       "    </tr>\n",
       "    <tr>\n",
       "      <th>2</th>\n",
       "      <td>credit_reporting</td>\n",
       "      <td>0.831863</td>\n",
       "      <td>0.796000</td>\n",
       "      <td>0.813536</td>\n",
       "      <td>2250.000000</td>\n",
       "    </tr>\n",
       "    <tr>\n",
       "      <th>3</th>\n",
       "      <td>retail_banking</td>\n",
       "      <td>0.873917</td>\n",
       "      <td>0.898565</td>\n",
       "      <td>0.886070</td>\n",
       "      <td>2021.000000</td>\n",
       "    </tr>\n",
       "    <tr>\n",
       "      <th>4</th>\n",
       "      <td>mortgages_and_loans</td>\n",
       "      <td>0.878253</td>\n",
       "      <td>0.884889</td>\n",
       "      <td>0.881559</td>\n",
       "      <td>2250.000000</td>\n",
       "    </tr>\n",
       "    <tr>\n",
       "      <th>5</th>\n",
       "      <td>accuracy</td>\n",
       "      <td>0.852968</td>\n",
       "      <td>0.852968</td>\n",
       "      <td>0.852968</td>\n",
       "      <td>0.852968</td>\n",
       "    </tr>\n",
       "    <tr>\n",
       "      <th>6</th>\n",
       "      <td>macro avg</td>\n",
       "      <td>0.853102</td>\n",
       "      <td>0.853894</td>\n",
       "      <td>0.853377</td>\n",
       "      <td>11018.000000</td>\n",
       "    </tr>\n",
       "    <tr>\n",
       "      <th>7</th>\n",
       "      <td>weighted avg</td>\n",
       "      <td>0.852674</td>\n",
       "      <td>0.852968</td>\n",
       "      <td>0.852701</td>\n",
       "      <td>11018.000000</td>\n",
       "    </tr>\n",
       "  </tbody>\n",
       "</table>\n",
       "</div>"
      ],
      "text/plain": [
       "              category  precision    recall  f1-score       support\n",
       "0          credit_card   0.835460  0.845127  0.840265   2247.000000\n",
       "1      debt_collection   0.846017  0.844889  0.845453   2250.000000\n",
       "2     credit_reporting   0.831863  0.796000  0.813536   2250.000000\n",
       "3       retail_banking   0.873917  0.898565  0.886070   2021.000000\n",
       "4  mortgages_and_loans   0.878253  0.884889  0.881559   2250.000000\n",
       "5             accuracy   0.852968  0.852968  0.852968      0.852968\n",
       "6            macro avg   0.853102  0.853894  0.853377  11018.000000\n",
       "7         weighted avg   0.852674  0.852968  0.852701  11018.000000"
      ]
     },
     "metadata": {},
     "output_type": "display_data"
    }
   ],
   "source": [
    "# Read the Table\n",
    "table_name = \"classification_report\"\n",
    "table_path = f\"{table_dir}/{table_name}.table.json\"\n",
    "print(table_path)\n",
    "with open(table_path) as file:\n",
    "    json_dict = json.load(file)\n",
    "\n",
    "#Create a Dataframe from the Table artifact\n",
    "df = pd.DataFrame(json_dict[\"data\"], columns=json_dict[\"columns\"])\n",
    "display(df)"
   ]
  },
  {
   "cell_type": "markdown",
   "metadata": {},
   "source": [
    "We can observe that both tables are exactly the same. **We can confirm that our registred model is the right one.**"
   ]
  },
  {
   "cell_type": "markdown",
   "metadata": {
    "id": "AbLA0ek07YRp"
   },
   "source": [
    "## Error Analysis"
   ]
  },
  {
   "cell_type": "markdown",
   "metadata": {
    "id": "aqDCBv-x-BiX"
   },
   "source": [
    "when evaluating the performance of our selected model, we should spend some time reviews the errors and try to identified \"pain\" points, or common features in those errors, etc. this excelelent exercise will give us some insights about our data and how to improve the model performance. "
   ]
  },
  {
   "cell_type": "code",
   "execution_count": 19,
   "metadata": {
    "id": "JQXtfvGU9pHp",
    "tags": []
   },
   "outputs": [],
   "source": [
    "df_error = df_val[df_val['product']!=df_val['prediction']]"
   ]
  },
  {
   "cell_type": "code",
   "execution_count": 49,
   "metadata": {
    "tags": []
   },
   "outputs": [
    {
     "data": {
      "text/plain": [
       "(product\n",
       " 2    459\n",
       " 1    349\n",
       " 0    348\n",
       " 4    259\n",
       " 3    205\n",
       " Name: count, dtype: int64,\n",
       " product\n",
       " 2    2250\n",
       " 4    2250\n",
       " 1    2250\n",
       " 0    2247\n",
       " 3    2021\n",
       " Name: count, dtype: int64)"
      ]
     },
     "execution_count": 49,
     "metadata": {},
     "output_type": "execute_result"
    }
   ],
   "source": [
    "df_error['product'].value_counts(),df_val['product'].value_counts()"
   ]
  },
  {
   "cell_type": "markdown",
   "metadata": {
    "id": "WeixKraD_R1d"
   },
   "source": [
    "We inspect if there is any class that is more likely to get wrong predictions. The product category 2 or credit_reporting "
   ]
  },
  {
   "cell_type": "code",
   "execution_count": 50,
   "metadata": {
    "tags": []
   },
   "outputs": [
    {
     "data": {
      "text/html": [
       "<div>\n",
       "<style scoped>\n",
       "    .dataframe tbody tr th:only-of-type {\n",
       "        vertical-align: middle;\n",
       "    }\n",
       "\n",
       "    .dataframe tbody tr th {\n",
       "        vertical-align: top;\n",
       "    }\n",
       "\n",
       "    .dataframe thead th {\n",
       "        text-align: right;\n",
       "    }\n",
       "</style>\n",
       "<table border=\"1\" class=\"dataframe\">\n",
       "  <thead>\n",
       "    <tr style=\"text-align: right;\">\n",
       "      <th></th>\n",
       "      <th>complaint</th>\n",
       "      <th>complaint_tokens</th>\n",
       "      <th>product</th>\n",
       "      <th>product_class</th>\n",
       "      <th>prob0</th>\n",
       "      <th>prob1</th>\n",
       "      <th>prob2</th>\n",
       "      <th>prob3</th>\n",
       "      <th>prob4</th>\n",
       "      <th>prediction</th>\n",
       "      <th>prediction_class</th>\n",
       "    </tr>\n",
       "  </thead>\n",
       "  <tbody>\n",
       "    <tr>\n",
       "      <th>9</th>\n",
       "      <td>account reported valid credit card referring p...</td>\n",
       "      <td>[1, 94, 524, 2, 5, 2264, 368, 34, 1, 966, 872,...</td>\n",
       "      <td>2</td>\n",
       "      <td>credit_reporting</td>\n",
       "      <td>0.248371</td>\n",
       "      <td>0.593296</td>\n",
       "      <td>0.121129</td>\n",
       "      <td>0.022266</td>\n",
       "      <td>0.014938</td>\n",
       "      <td>1</td>\n",
       "      <td>debt_collection</td>\n",
       "    </tr>\n",
       "    <tr>\n",
       "      <th>12</th>\n",
       "      <td>account fraudulent activity requested froward ...</td>\n",
       "      <td>[1, 100, 366, 97, 20623, 120, 222, 1951, 62, 4...</td>\n",
       "      <td>2</td>\n",
       "      <td>credit_reporting</td>\n",
       "      <td>0.001837</td>\n",
       "      <td>0.898459</td>\n",
       "      <td>0.095300</td>\n",
       "      <td>0.000299</td>\n",
       "      <td>0.004105</td>\n",
       "      <td>1</td>\n",
       "      <td>debt_collection</td>\n",
       "    </tr>\n",
       "    <tr>\n",
       "      <th>17</th>\n",
       "      <td>violation fcra law failed provide correct debt...</td>\n",
       "      <td>[205, 322, 141, 326, 84, 213, 16, 390, 10, 186...</td>\n",
       "      <td>2</td>\n",
       "      <td>credit_reporting</td>\n",
       "      <td>0.011393</td>\n",
       "      <td>0.904286</td>\n",
       "      <td>0.073713</td>\n",
       "      <td>0.000665</td>\n",
       "      <td>0.009943</td>\n",
       "      <td>1</td>\n",
       "      <td>debt_collection</td>\n",
       "    </tr>\n",
       "    <tr>\n",
       "      <th>24</th>\n",
       "      <td>applied sunoco fleet credit card used name ein...</td>\n",
       "      <td>[210, 13928, 8105, 2, 5, 139, 69, 3636, 27, 19...</td>\n",
       "      <td>2</td>\n",
       "      <td>credit_reporting</td>\n",
       "      <td>0.617834</td>\n",
       "      <td>0.018453</td>\n",
       "      <td>0.345652</td>\n",
       "      <td>0.015071</td>\n",
       "      <td>0.002989</td>\n",
       "      <td>0</td>\n",
       "      <td>credit_card</td>\n",
       "    </tr>\n",
       "    <tr>\n",
       "      <th>25</th>\n",
       "      <td>accident occur home destroyed homeowner insura...</td>\n",
       "      <td>[1621, 1634, 88, 2056, 886, 158, 1520, 71, 324...</td>\n",
       "      <td>3</td>\n",
       "      <td>retail_banking</td>\n",
       "      <td>0.117921</td>\n",
       "      <td>0.134058</td>\n",
       "      <td>0.291629</td>\n",
       "      <td>0.056049</td>\n",
       "      <td>0.400343</td>\n",
       "      <td>4</td>\n",
       "      <td>mortgages_and_loans</td>\n",
       "    </tr>\n",
       "    <tr>\n",
       "      <th>...</th>\n",
       "      <td>...</td>\n",
       "      <td>...</td>\n",
       "      <td>...</td>\n",
       "      <td>...</td>\n",
       "      <td>...</td>\n",
       "      <td>...</td>\n",
       "      <td>...</td>\n",
       "      <td>...</td>\n",
       "      <td>...</td>\n",
       "      <td>...</td>\n",
       "      <td>...</td>\n",
       "    </tr>\n",
       "    <tr>\n",
       "      <th>11001</th>\n",
       "      <td>one late payment month ago tried calling speak...</td>\n",
       "      <td>[22, 49, 3, 25, 307, 107, 289, 282, 138, 1601,...</td>\n",
       "      <td>4</td>\n",
       "      <td>mortgages_and_loans</td>\n",
       "      <td>0.449964</td>\n",
       "      <td>0.034579</td>\n",
       "      <td>0.195839</td>\n",
       "      <td>0.007766</td>\n",
       "      <td>0.311853</td>\n",
       "      <td>0</td>\n",
       "      <td>credit_card</td>\n",
       "    </tr>\n",
       "    <tr>\n",
       "      <th>11011</th>\n",
       "      <td>spoken shellpoint reporting credit report mort...</td>\n",
       "      <td>[873, 689, 42, 2, 8, 35, 9, 2818, 2, 8, 50, 16...</td>\n",
       "      <td>4</td>\n",
       "      <td>mortgages_and_loans</td>\n",
       "      <td>0.000971</td>\n",
       "      <td>0.297066</td>\n",
       "      <td>0.600485</td>\n",
       "      <td>0.000080</td>\n",
       "      <td>0.101398</td>\n",
       "      <td>2</td>\n",
       "      <td>credit_reporting</td>\n",
       "    </tr>\n",
       "    <tr>\n",
       "      <th>11012</th>\n",
       "      <td>filed dispute transaction amount debit card pu...</td>\n",
       "      <td>[152, 39, 66, 28, 291, 5, 132, 31, 102, 25, 30...</td>\n",
       "      <td>3</td>\n",
       "      <td>retail_banking</td>\n",
       "      <td>0.693166</td>\n",
       "      <td>0.007335</td>\n",
       "      <td>0.005283</td>\n",
       "      <td>0.292348</td>\n",
       "      <td>0.001868</td>\n",
       "      <td>0</td>\n",
       "      <td>credit_card</td>\n",
       "    </tr>\n",
       "    <tr>\n",
       "      <th>11015</th>\n",
       "      <td>account set auto payment paid minimum balance ...</td>\n",
       "      <td>[1, 352, 404, 3, 37, 567, 32, 1, 108, 1, 250, ...</td>\n",
       "      <td>0</td>\n",
       "      <td>credit_card</td>\n",
       "      <td>0.178336</td>\n",
       "      <td>0.057742</td>\n",
       "      <td>0.705101</td>\n",
       "      <td>0.008934</td>\n",
       "      <td>0.049887</td>\n",
       "      <td>2</td>\n",
       "      <td>credit_reporting</td>\n",
       "    </tr>\n",
       "    <tr>\n",
       "      <th>11017</th>\n",
       "      <td>loyal customer capital one four year habit alw...</td>\n",
       "      <td>[1996, 51, 148, 22, 701, 48, 4420, 432, 159, 8...</td>\n",
       "      <td>0</td>\n",
       "      <td>credit_card</td>\n",
       "      <td>0.431436</td>\n",
       "      <td>0.004840</td>\n",
       "      <td>0.001884</td>\n",
       "      <td>0.559085</td>\n",
       "      <td>0.002754</td>\n",
       "      <td>3</td>\n",
       "      <td>retail_banking</td>\n",
       "    </tr>\n",
       "  </tbody>\n",
       "</table>\n",
       "<p>1620 rows × 11 columns</p>\n",
       "</div>"
      ],
      "text/plain": [
       "                                               complaint  \\\n",
       "9      account reported valid credit card referring p...   \n",
       "12     account fraudulent activity requested froward ...   \n",
       "17     violation fcra law failed provide correct debt...   \n",
       "24     applied sunoco fleet credit card used name ein...   \n",
       "25     accident occur home destroyed homeowner insura...   \n",
       "...                                                  ...   \n",
       "11001  one late payment month ago tried calling speak...   \n",
       "11011  spoken shellpoint reporting credit report mort...   \n",
       "11012  filed dispute transaction amount debit card pu...   \n",
       "11015  account set auto payment paid minimum balance ...   \n",
       "11017  loyal customer capital one four year habit alw...   \n",
       "\n",
       "                                        complaint_tokens  product  \\\n",
       "9      [1, 94, 524, 2, 5, 2264, 368, 34, 1, 966, 872,...        2   \n",
       "12     [1, 100, 366, 97, 20623, 120, 222, 1951, 62, 4...        2   \n",
       "17     [205, 322, 141, 326, 84, 213, 16, 390, 10, 186...        2   \n",
       "24     [210, 13928, 8105, 2, 5, 139, 69, 3636, 27, 19...        2   \n",
       "25     [1621, 1634, 88, 2056, 886, 158, 1520, 71, 324...        3   \n",
       "...                                                  ...      ...   \n",
       "11001  [22, 49, 3, 25, 307, 107, 289, 282, 138, 1601,...        4   \n",
       "11011  [873, 689, 42, 2, 8, 35, 9, 2818, 2, 8, 50, 16...        4   \n",
       "11012  [152, 39, 66, 28, 291, 5, 132, 31, 102, 25, 30...        3   \n",
       "11015  [1, 352, 404, 3, 37, 567, 32, 1, 108, 1, 250, ...        0   \n",
       "11017  [1996, 51, 148, 22, 701, 48, 4420, 432, 159, 8...        0   \n",
       "\n",
       "             product_class     prob0     prob1     prob2     prob3     prob4  \\\n",
       "9         credit_reporting  0.248371  0.593296  0.121129  0.022266  0.014938   \n",
       "12        credit_reporting  0.001837  0.898459  0.095300  0.000299  0.004105   \n",
       "17        credit_reporting  0.011393  0.904286  0.073713  0.000665  0.009943   \n",
       "24        credit_reporting  0.617834  0.018453  0.345652  0.015071  0.002989   \n",
       "25          retail_banking  0.117921  0.134058  0.291629  0.056049  0.400343   \n",
       "...                    ...       ...       ...       ...       ...       ...   \n",
       "11001  mortgages_and_loans  0.449964  0.034579  0.195839  0.007766  0.311853   \n",
       "11011  mortgages_and_loans  0.000971  0.297066  0.600485  0.000080  0.101398   \n",
       "11012       retail_banking  0.693166  0.007335  0.005283  0.292348  0.001868   \n",
       "11015          credit_card  0.178336  0.057742  0.705101  0.008934  0.049887   \n",
       "11017          credit_card  0.431436  0.004840  0.001884  0.559085  0.002754   \n",
       "\n",
       "       prediction     prediction_class  \n",
       "9               1      debt_collection  \n",
       "12              1      debt_collection  \n",
       "17              1      debt_collection  \n",
       "24              0          credit_card  \n",
       "25              4  mortgages_and_loans  \n",
       "...           ...                  ...  \n",
       "11001           0          credit_card  \n",
       "11011           2     credit_reporting  \n",
       "11012           0          credit_card  \n",
       "11015           2     credit_reporting  \n",
       "11017           3       retail_banking  \n",
       "\n",
       "[1620 rows x 11 columns]"
      ]
     },
     "execution_count": 50,
     "metadata": {},
     "output_type": "execute_result"
    }
   ],
   "source": [
    "df_error"
   ]
  },
  {
   "cell_type": "code",
   "execution_count": 48,
   "metadata": {
    "tags": []
   },
   "outputs": [
    {
     "data": {
      "image/png": "[encoded data removed]",
      "text/plain": [
       "<Figure size 1500x500 with 2 Axes>"
      ]
     },
     "metadata": {},
     "output_type": "display_data"
    }
   ],
   "source": [
    "fig = df_error.hist(column=[\"product\",\"prediction\"],bins=5, grid=False, figsize=(15,5), layout=(1,2), sharey=True, \n",
    "              color='#86bf91', zorder=2, rwidth=0.9)\n",
    "\n",
    "plt.savefig('error_product_classes.png')\n",
    "#fig[0,1].savefig('error_prediction_classes.png')"
   ]
  },
  {
   "cell_type": "markdown",
   "metadata": {},
   "source": [
    "Create a new dataframe only containing the errors"
   ]
  },
  {
   "cell_type": "code",
   "execution_count": 22,
   "metadata": {
    "tags": []
   },
   "outputs": [],
   "source": [
    "df_error_2 = df_error[df_error['product']==2]"
   ]
  },
  {
   "cell_type": "code",
   "execution_count": 23,
   "metadata": {
    "tags": []
   },
   "outputs": [
    {
     "name": "stderr",
     "output_type": "stream",
     "text": [
      "/tmp/ipykernel_90/1983591165.py:1: UserWarning: Boolean Series key will be reindexed to match DataFrame index.\n",
      "  df_error_2[df_error['prob2']<0.5]\n"
     ]
    },
    {
     "data": {
      "text/html": [
       "<div>\n",
       "<style scoped>\n",
       "    .dataframe tbody tr th:only-of-type {\n",
       "        vertical-align: middle;\n",
       "    }\n",
       "\n",
       "    .dataframe tbody tr th {\n",
       "        vertical-align: top;\n",
       "    }\n",
       "\n",
       "    .dataframe thead th {\n",
       "        text-align: right;\n",
       "    }\n",
       "</style>\n",
       "<table border=\"1\" class=\"dataframe\">\n",
       "  <thead>\n",
       "    <tr style=\"text-align: right;\">\n",
       "      <th></th>\n",
       "      <th>complaint</th>\n",
       "      <th>complaint_tokens</th>\n",
       "      <th>product</th>\n",
       "      <th>product_class</th>\n",
       "      <th>prob0</th>\n",
       "      <th>prob1</th>\n",
       "      <th>prob2</th>\n",
       "      <th>prob3</th>\n",
       "      <th>prob4</th>\n",
       "      <th>prediction</th>\n",
       "      <th>prediction_class</th>\n",
       "    </tr>\n",
       "  </thead>\n",
       "  <tbody>\n",
       "    <tr>\n",
       "      <th>9</th>\n",
       "      <td>account reported valid credit card referring p...</td>\n",
       "      <td>[1, 94, 524, 2, 5, 2264, 368, 34, 1, 966, 872,...</td>\n",
       "      <td>2</td>\n",
       "      <td>credit_reporting</td>\n",
       "      <td>0.248371</td>\n",
       "      <td>0.593296</td>\n",
       "      <td>0.121129</td>\n",
       "      <td>0.022266</td>\n",
       "      <td>0.014938</td>\n",
       "      <td>1</td>\n",
       "      <td>debt_collection</td>\n",
       "    </tr>\n",
       "    <tr>\n",
       "      <th>12</th>\n",
       "      <td>account fraudulent activity requested froward ...</td>\n",
       "      <td>[1, 100, 366, 97, 20623, 120, 222, 1951, 62, 4...</td>\n",
       "      <td>2</td>\n",
       "      <td>credit_reporting</td>\n",
       "      <td>0.001837</td>\n",
       "      <td>0.898459</td>\n",
       "      <td>0.095300</td>\n",
       "      <td>0.000299</td>\n",
       "      <td>0.004105</td>\n",
       "      <td>1</td>\n",
       "      <td>debt_collection</td>\n",
       "    </tr>\n",
       "    <tr>\n",
       "      <th>17</th>\n",
       "      <td>violation fcra law failed provide correct debt...</td>\n",
       "      <td>[205, 322, 141, 326, 84, 213, 16, 390, 10, 186...</td>\n",
       "      <td>2</td>\n",
       "      <td>credit_reporting</td>\n",
       "      <td>0.011393</td>\n",
       "      <td>0.904286</td>\n",
       "      <td>0.073713</td>\n",
       "      <td>0.000665</td>\n",
       "      <td>0.009943</td>\n",
       "      <td>1</td>\n",
       "      <td>debt_collection</td>\n",
       "    </tr>\n",
       "    <tr>\n",
       "      <th>24</th>\n",
       "      <td>applied sunoco fleet credit card used name ein...</td>\n",
       "      <td>[210, 13928, 8105, 2, 5, 139, 69, 3636, 27, 19...</td>\n",
       "      <td>2</td>\n",
       "      <td>credit_reporting</td>\n",
       "      <td>0.617834</td>\n",
       "      <td>0.018453</td>\n",
       "      <td>0.345652</td>\n",
       "      <td>0.015071</td>\n",
       "      <td>0.002989</td>\n",
       "      <td>0</td>\n",
       "      <td>credit_card</td>\n",
       "    </tr>\n",
       "    <tr>\n",
       "      <th>85</th>\n",
       "      <td>believe may influenced submission office congr...</td>\n",
       "      <td>[236, 186, 7364, 2256, 202, 5741, 3184, 182, 6...</td>\n",
       "      <td>2</td>\n",
       "      <td>credit_reporting</td>\n",
       "      <td>0.964413</td>\n",
       "      <td>0.007649</td>\n",
       "      <td>0.017001</td>\n",
       "      <td>0.010485</td>\n",
       "      <td>0.000452</td>\n",
       "      <td>0</td>\n",
       "      <td>credit_card</td>\n",
       "    </tr>\n",
       "    <tr>\n",
       "      <th>...</th>\n",
       "      <td>...</td>\n",
       "      <td>...</td>\n",
       "      <td>...</td>\n",
       "      <td>...</td>\n",
       "      <td>...</td>\n",
       "      <td>...</td>\n",
       "      <td>...</td>\n",
       "      <td>...</td>\n",
       "      <td>...</td>\n",
       "      <td>...</td>\n",
       "      <td>...</td>\n",
       "    </tr>\n",
       "    <tr>\n",
       "      <th>10839</th>\n",
       "      <td>identity theft told happened everything done o...</td>\n",
       "      <td>[137, 176, 13, 360, 374, 183, 108, 379, 245, 5...</td>\n",
       "      <td>2</td>\n",
       "      <td>credit_reporting</td>\n",
       "      <td>0.552305</td>\n",
       "      <td>0.125482</td>\n",
       "      <td>0.236932</td>\n",
       "      <td>0.004272</td>\n",
       "      <td>0.081009</td>\n",
       "      <td>0</td>\n",
       "      <td>credit_card</td>\n",
       "    </tr>\n",
       "    <tr>\n",
       "      <th>10884</th>\n",
       "      <td>disputed account collection agency along origi...</td>\n",
       "      <td>[181, 1, 43, 76, 533, 130, 1, 675, 2, 8, 94, 1...</td>\n",
       "      <td>2</td>\n",
       "      <td>credit_reporting</td>\n",
       "      <td>0.002175</td>\n",
       "      <td>0.678562</td>\n",
       "      <td>0.314919</td>\n",
       "      <td>0.001010</td>\n",
       "      <td>0.003334</td>\n",
       "      <td>1</td>\n",
       "      <td>debt_collection</td>\n",
       "    </tr>\n",
       "    <tr>\n",
       "      <th>10929</th>\n",
       "      <td>account great american finance paid full howev...</td>\n",
       "      <td>[1, 921, 387, 389, 37, 116, 118, 921, 387, 389...</td>\n",
       "      <td>2</td>\n",
       "      <td>credit_reporting</td>\n",
       "      <td>0.040063</td>\n",
       "      <td>0.470026</td>\n",
       "      <td>0.197846</td>\n",
       "      <td>0.002059</td>\n",
       "      <td>0.290006</td>\n",
       "      <td>1</td>\n",
       "      <td>debt_collection</td>\n",
       "    </tr>\n",
       "    <tr>\n",
       "      <th>10944</th>\n",
       "      <td>account kia finance lease car bought time acco...</td>\n",
       "      <td>[1, 2314, 389, 537, 178, 836, 7, 1, 27, 466, 1...</td>\n",
       "      <td>2</td>\n",
       "      <td>credit_reporting</td>\n",
       "      <td>0.007052</td>\n",
       "      <td>0.010115</td>\n",
       "      <td>0.057949</td>\n",
       "      <td>0.000439</td>\n",
       "      <td>0.924444</td>\n",
       "      <td>4</td>\n",
       "      <td>mortgages_and_loans</td>\n",
       "    </tr>\n",
       "    <tr>\n",
       "      <th>10972</th>\n",
       "      <td>trying get verification debt since success sen...</td>\n",
       "      <td>[131, 24, 325, 16, 50, 1684, 21, 12, 18, 181, ...</td>\n",
       "      <td>2</td>\n",
       "      <td>credit_reporting</td>\n",
       "      <td>0.003484</td>\n",
       "      <td>0.637414</td>\n",
       "      <td>0.354654</td>\n",
       "      <td>0.000981</td>\n",
       "      <td>0.003467</td>\n",
       "      <td>1</td>\n",
       "      <td>debt_collection</td>\n",
       "    </tr>\n",
       "  </tbody>\n",
       "</table>\n",
       "<p>459 rows × 11 columns</p>\n",
       "</div>"
      ],
      "text/plain": [
       "                                               complaint  \\\n",
       "9      account reported valid credit card referring p...   \n",
       "12     account fraudulent activity requested froward ...   \n",
       "17     violation fcra law failed provide correct debt...   \n",
       "24     applied sunoco fleet credit card used name ein...   \n",
       "85     believe may influenced submission office congr...   \n",
       "...                                                  ...   \n",
       "10839  identity theft told happened everything done o...   \n",
       "10884  disputed account collection agency along origi...   \n",
       "10929  account great american finance paid full howev...   \n",
       "10944  account kia finance lease car bought time acco...   \n",
       "10972  trying get verification debt since success sen...   \n",
       "\n",
       "                                        complaint_tokens  product  \\\n",
       "9      [1, 94, 524, 2, 5, 2264, 368, 34, 1, 966, 872,...        2   \n",
       "12     [1, 100, 366, 97, 20623, 120, 222, 1951, 62, 4...        2   \n",
       "17     [205, 322, 141, 326, 84, 213, 16, 390, 10, 186...        2   \n",
       "24     [210, 13928, 8105, 2, 5, 139, 69, 3636, 27, 19...        2   \n",
       "85     [236, 186, 7364, 2256, 202, 5741, 3184, 182, 6...        2   \n",
       "...                                                  ...      ...   \n",
       "10839  [137, 176, 13, 360, 374, 183, 108, 379, 245, 5...        2   \n",
       "10884  [181, 1, 43, 76, 533, 130, 1, 675, 2, 8, 94, 1...        2   \n",
       "10929  [1, 921, 387, 389, 37, 116, 118, 921, 387, 389...        2   \n",
       "10944  [1, 2314, 389, 537, 178, 836, 7, 1, 27, 466, 1...        2   \n",
       "10972  [131, 24, 325, 16, 50, 1684, 21, 12, 18, 181, ...        2   \n",
       "\n",
       "          product_class     prob0     prob1     prob2     prob3     prob4  \\\n",
       "9      credit_reporting  0.248371  0.593296  0.121129  0.022266  0.014938   \n",
       "12     credit_reporting  0.001837  0.898459  0.095300  0.000299  0.004105   \n",
       "17     credit_reporting  0.011393  0.904286  0.073713  0.000665  0.009943   \n",
       "24     credit_reporting  0.617834  0.018453  0.345652  0.015071  0.002989   \n",
       "85     credit_reporting  0.964413  0.007649  0.017001  0.010485  0.000452   \n",
       "...                 ...       ...       ...       ...       ...       ...   \n",
       "10839  credit_reporting  0.552305  0.125482  0.236932  0.004272  0.081009   \n",
       "10884  credit_reporting  0.002175  0.678562  0.314919  0.001010  0.003334   \n",
       "10929  credit_reporting  0.040063  0.470026  0.197846  0.002059  0.290006   \n",
       "10944  credit_reporting  0.007052  0.010115  0.057949  0.000439  0.924444   \n",
       "10972  credit_reporting  0.003484  0.637414  0.354654  0.000981  0.003467   \n",
       "\n",
       "       prediction     prediction_class  \n",
       "9               1      debt_collection  \n",
       "12              1      debt_collection  \n",
       "17              1      debt_collection  \n",
       "24              0          credit_card  \n",
       "85              0          credit_card  \n",
       "...           ...                  ...  \n",
       "10839           0          credit_card  \n",
       "10884           1      debt_collection  \n",
       "10929           1      debt_collection  \n",
       "10944           4  mortgages_and_loans  \n",
       "10972           1      debt_collection  \n",
       "\n",
       "[459 rows x 11 columns]"
      ]
     },
     "execution_count": 23,
     "metadata": {},
     "output_type": "execute_result"
    }
   ],
   "source": [
    "df_error_2[df_error['prob2']<0.5]"
   ]
  },
  {
   "cell_type": "code",
   "execution_count": 24,
   "metadata": {
    "tags": []
   },
   "outputs": [
    {
     "data": {
      "image/png": "[encoded data removed]",
      "text/plain": [
       "<Figure size 1500x500 with 5 Axes>"
      ]
     },
     "metadata": {},
     "output_type": "display_data"
    }
   ],
   "source": [
    "#df_error['prob4'].hist(bins=2)\n",
    "\n",
    "#df_error.hist(column=[\"prob0\",\"prob1\",\"prob2\",\"prob3\",\"prob4\"], bins=5)\n",
    "df_error_2.hist(column=[\"prob0\",\"prob1\",\"prob2\",\"prob3\",\"prob4\"],bins=[0,0.25,.5,0.75, 1], grid=False, figsize=(15,5), layout=(1,5), sharey=True, \n",
    "              color='blue', zorder=2, rwidth=0.9)\n",
    "plt.savefig('error_product_class_2_probs.png')"
   ]
  },
  {
   "cell_type": "markdown",
   "metadata": {},
   "source": [
    "The above figure shows us that many product classes 2 are predicted as product class 1, probably there many common words or very similar between these two classes."
   ]
  },
  {
   "cell_type": "code",
   "execution_count": 25,
   "metadata": {
    "tags": []
   },
   "outputs": [],
   "source": [
    "df_error_1 = df_error_2[df_error_2['prob1']>0.5]"
   ]
  },
  {
   "cell_type": "code",
   "execution_count": 26,
   "metadata": {
    "tags": []
   },
   "outputs": [],
   "source": [
    "# Load the library with the CountVectorizer method\n",
    "from sklearn.feature_extraction.text import CountVectorizer"
   ]
  },
  {
   "cell_type": "code",
   "execution_count": 51,
   "metadata": {
    "tags": []
   },
   "outputs": [],
   "source": [
    "# Helper function\n",
    "def plot_most_common_words(count_data, count_vectorizer, num_words, title):\n",
    "    ''' Draw a barplot showing the tenth most common words in the data\n",
    "        Input:\n",
    "        - count_data: tuple, containing pairs of document-term and its ocurrencies in the text\n",
    "        - count_vectorizer: CountVectorizer object\n",
    "    '''\n",
    "    words = count_vectorizer.get_feature_names_out()\n",
    "    total_counts = np.zeros(len(words))\n",
    "    for t in count_data:\n",
    "        total_counts+=t.toarray()[0]\n",
    "    \n",
    "    count_dict = (zip(words, total_counts))\n",
    "    count_dict = sorted(count_dict, key=lambda x:x[1], reverse=True)[0:num_words]\n",
    "    words = [w[0] for w in count_dict]\n",
    "    counts = [w[1] for w in count_dict]\n",
    "    x_pos = np.arange(len(words)) \n",
    "    \n",
    "    plt.figure(2, figsize=(10, 5))\n",
    "    plt.subplot(title='Most common words')\n",
    "    sns.set_context(\"notebook\", font_scale=1.25, rc={\"lines.linewidth\": 2.5})\n",
    "    bplot = sns.barplot(x=x_pos, y=counts, palette='husl')\n",
    "    plt.xticks(x_pos, words, rotation=90) \n",
    "    plt.xlabel('words')\n",
    "    plt.ylabel('counts')\n",
    "    fig = bplot.get_figure()\n",
    "    fig.savefig(title, format='png', bbox_inches='tight')\n",
    "    plt.show()\n",
    "    #plt.savefig(title)\n",
    "\n"
   ]
  },
  {
   "cell_type": "code",
   "execution_count": 52,
   "metadata": {
    "tags": []
   },
   "outputs": [
    {
     "name": "stdout",
     "output_type": "stream",
     "text": [
      "     able  account  accurate  act  action  added  address  advised  agency  \\\n",
      "0       0        3         0    0       0      0        0        0       0   \n",
      "1       0        4         0    1       0      0        3        0       0   \n",
      "2       2        6         0    0       0      0        0        0       3   \n",
      "3       0        0         0    0       0      0        1        0       0   \n",
      "4       0       17         0    0       0      0        3        0       0   \n",
      "..    ...      ...       ...  ...     ...    ...      ...      ...     ...   \n",
      "454     0        0         0    0       1      0        0        0       2   \n",
      "455     0        4         0    0       0      0        0        0       1   \n",
      "456     0        3         0    0       0      0        0        0       0   \n",
      "457     0        6         0    0       0      0        0        0       0   \n",
      "458     0        1         0    0       0      0        0        0       0   \n",
      "\n",
      "     ago  ...  well  went  within  without  work  would  writing  written  \\\n",
      "0      0  ...     0     1       0        0     0      0        0        0   \n",
      "1      0  ...     1     0       0        0     0      0        0        0   \n",
      "2      0  ...     0     2       0        0     0      0        0        0   \n",
      "3      0  ...     0     0       0        0     0      0        0        0   \n",
      "4      0  ...     0     0       0        1     1      4        0        0   \n",
      "..   ...  ...   ...   ...     ...      ...   ...    ...      ...      ...   \n",
      "454    1  ...     1     0       0        0     0      3        0        0   \n",
      "455    0  ...     0     0       0        0     0      0        0        0   \n",
      "456    0  ...     0     0       0        0     0      0        0        0   \n",
      "457    0  ...     0     0       0        1     0      8        0        0   \n",
      "458    0  ...     0     0       0        0     0      0        0        0   \n",
      "\n",
      "     year  yet  \n",
      "0       0    0  \n",
      "1       0    0  \n",
      "2       0    0  \n",
      "3       0    0  \n",
      "4       0    2  \n",
      "..    ...  ...  \n",
      "454     4    0  \n",
      "455     0    0  \n",
      "456     0    1  \n",
      "457     0    0  \n",
      "458     0    0  \n",
      "\n",
      "[459 rows x 257 columns]\n"
     ]
    }
   ],
   "source": [
    "# Initialise the count vectorizer\n",
    "tf_vectorizer = CountVectorizer(max_df=0.9, min_df=25, max_features=5000)\n",
    "# Apply the count vectorized method to our cleaned data\n",
    "tf = tf_vectorizer.fit_transform(df_error_2['complaint'])\n",
    "# Build the Document Term Matrix\n",
    "tf_feature_names = tf_vectorizer.get_feature_names_out()\n",
    "doc_term_matrix = pd.DataFrame(tf.toarray(), columns=list(tf_feature_names))\n",
    "print(doc_term_matrix)"
   ]
  },
  {
   "cell_type": "code",
   "execution_count": 53,
   "metadata": {
    "tags": []
   },
   "outputs": [
    {
     "name": "stderr",
     "output_type": "stream",
     "text": [
      "/tmp/ipykernel_90/3047788105.py:22: FutureWarning: \n",
      "\n",
      "Passing `palette` without assigning `hue` is deprecated and will be removed in v0.14.0. Assign the `x` variable to `hue` and set `legend=False` for the same effect.\n",
      "\n",
      "  bplot = sns.barplot(x=x_pos, y=counts, palette='husl')\n"
     ]
    },
    {
     "data": {
      "image/png": "[encoded data removed]",
      "text/plain": [
       "<Figure size 1000x500 with 1 Axes>"
      ]
     },
     "metadata": {},
     "output_type": "display_data"
    }
   ],
   "source": [
    "# Visualise the most common words\n",
    "plot_most_common_words(tf, tf_vectorizer, 20, 'most_common_words_error_2.png')"
   ]
  },
  {
   "cell_type": "markdown",
   "metadata": {},
   "source": [
    "Now lets visualize the common words for the class 2 error that has been predicted as class 1"
   ]
  },
  {
   "cell_type": "code",
   "execution_count": 54,
   "metadata": {
    "tags": []
   },
   "outputs": [
    {
     "name": "stdout",
     "output_type": "stream",
     "text": [
      "     account  act  address  agency  also  amount  balance  bill  bureau  \\\n",
      "0          3    0        0       0     0       0        0     0       0   \n",
      "1          4    1        3       0     1       0        0     1       0   \n",
      "2          6    0        0       3     0       2        0     0       0   \n",
      "3          6    0        0       0     2       5        1     0       6   \n",
      "4          0    0        0       0     0       0        0     1       0   \n",
      "..       ...  ...      ...     ...   ...     ...      ...   ...     ...   \n",
      "183        2    4        2       0     0       1        0     0       0   \n",
      "184        1    0        0       0     0       0        0     0       0   \n",
      "185        3    0        0       0     1       1        2     0       0   \n",
      "186        4    0        0       1     0       0        0     0       0   \n",
      "187        1    0        0       0     0       0        0     0       1   \n",
      "\n",
      "     collect  ...  show  signature  state  still  time  validation  verified  \\\n",
      "0          1  ...     0          0      0      0     0           0         0   \n",
      "1          1  ...     0          0      1      1     1           1         0   \n",
      "2          1  ...     0          0      0      0     2           2         0   \n",
      "3          0  ...     1          1      0      0     0           2         1   \n",
      "4          0  ...     0          0      0      0     0           0         0   \n",
      "..       ...  ...   ...        ...    ...    ...   ...         ...       ...   \n",
      "183        0  ...     0          0      1      0     0           1         0   \n",
      "184        0  ...     0          0      0      0     0           0         0   \n",
      "185        0  ...     1          0      1      0     1           0         0   \n",
      "186        0  ...     0          0      0      1     0           0         1   \n",
      "187        0  ...     0          0      0      0     1           0         1   \n",
      "\n",
      "     violation  would  year  \n",
      "0            0      0     0  \n",
      "1            0      0     0  \n",
      "2            1      0     0  \n",
      "3            2      0     1  \n",
      "4            0      0     0  \n",
      "..         ...    ...   ...  \n",
      "183          2      0     0  \n",
      "184          0      0     0  \n",
      "185          0      2     0  \n",
      "186          0      0     0  \n",
      "187          0      0     0  \n",
      "\n",
      "[188 rows x 71 columns]\n"
     ]
    }
   ],
   "source": [
    "# Initialise the count vectorizer\n",
    "tf_vectorizer = CountVectorizer(max_df=0.9, min_df=25, max_features=5000)\n",
    "# Apply the count vectorized method to our cleaned data\n",
    "tf = tf_vectorizer.fit_transform(df_error_1['complaint'])\n",
    "# Build the Document Term Matrix\n",
    "tf_feature_names = tf_vectorizer.get_feature_names_out()\n",
    "doc_term_matrix = pd.DataFrame(tf.toarray(), columns=list(tf_feature_names))\n",
    "print(doc_term_matrix)"
   ]
  },
  {
   "cell_type": "code",
   "execution_count": 55,
   "metadata": {
    "tags": []
   },
   "outputs": [
    {
     "name": "stderr",
     "output_type": "stream",
     "text": [
      "/tmp/ipykernel_90/3047788105.py:22: FutureWarning: \n",
      "\n",
      "Passing `palette` without assigning `hue` is deprecated and will be removed in v0.14.0. Assign the `x` variable to `hue` and set `legend=False` for the same effect.\n",
      "\n",
      "  bplot = sns.barplot(x=x_pos, y=counts, palette='husl')\n"
     ]
    },
    {
     "data": {
      "image/png": "[encoded data removed]",
      "text/plain": [
       "<Figure size 1000x500 with 1 Axes>"
      ]
     },
     "metadata": {},
     "output_type": "display_data"
    }
   ],
   "source": [
    "# Visualise the most common words\n",
    "plot_most_common_words(tf, tf_vectorizer, 20, 'most_common_words_error_2_prob1.png')"
   ]
  },
  {
   "cell_type": "markdown",
   "metadata": {},
   "source": [
    "### Save the evaluation results as an artifact in W&B"
   ]
  },
  {
   "cell_type": "code",
   "execution_count": 56,
   "metadata": {
    "id": "Bs7KI2xxvxXg",
    "tags": []
   },
   "outputs": [
    {
     "data": {
      "text/plain": [
       "'consumer_complaints_evaluation'"
      ]
     },
     "execution_count": 56,
     "metadata": {},
     "output_type": "execute_result"
    }
   ],
   "source": [
    "params.EVALUATION_DATA_AT"
   ]
  },
  {
   "cell_type": "code",
   "execution_count": 57,
   "metadata": {
    "id": "AYF9QBWs70bR",
    "tags": []
   },
   "outputs": [
    {
     "data": {
      "text/plain": [
       "<wandb.sdk.artifacts.artifact_manifest_entry.ArtifactManifestEntry at 0x7f3e5076ddf0>"
      ]
     },
     "execution_count": 57,
     "metadata": {},
     "output_type": "execute_result"
    }
   ],
   "source": [
    "#Create the artifact\n",
    "evaluation_data_at = wandb.Artifact(params.EVALUATION_DATA_AT, type=\"evaluation\")\n",
    "# Add the classifation report\n",
    "evaluation_data_at.add_file(conf_matrix)\n",
    "# Save the classification report\n",
    "report_table = wandb.Table(dataframe=df_report)\n",
    "evaluation_data_at.add(report_table, \"classification_report\")\n",
    "# Save evaluation data\n",
    "evaluation_table = wandb.Table(dataframe=df_val)\n",
    "evaluation_data_at.add(evaluation_table, \"evaluation_table\")\n",
    "# Save prediction errors\n",
    "error_table = wandb.Table(dataframe=df_error)\n",
    "evaluation_data_at.add(error_table, \"error_table\")\n",
    "# Save figure fro our error analysis\n",
    "evaluation_data_at.add_file('error_product_classes.png')\n",
    "evaluation_data_at.add_file('error_product_class_2_probs.png')\n",
    "evaluation_data_at.add_file('most_common_words_error_2.png')\n",
    "evaluation_data_at.add_file('most_common_words_error_2_prob1.png')"
   ]
  },
  {
   "cell_type": "code",
   "execution_count": 58,
   "metadata": {
    "id": "gl2H2whP81f0",
    "tags": []
   },
   "outputs": [
    {
     "data": {
      "text/html": [
       "Waiting for W&B process to finish... <strong style=\"color:green\">(success).</strong>"
      ],
      "text/plain": [
       "<IPython.core.display.HTML object>"
      ]
     },
     "metadata": {},
     "output_type": "display_data"
    },
    {
     "data": {
      "application/vnd.jupyter.widget-view+json": {
       "model_id": "b5883a385c5c40ada1d00d10639dd8d7",
       "version_major": 2,
       "version_minor": 0
      },
      "text/plain": [
       "VBox(children=(Label(value='16.196 MB of 16.196 MB uploaded (16.062 MB deduped)\\r'), FloatProgress(value=1.0, …"
      ]
     },
     "metadata": {},
     "output_type": "display_data"
    },
    {
     "data": {
      "text/html": [
       " View run <strong style=\"color:#cdcd00\">true-music-77</strong> at: <a href='https://wandb.ai/edumunozsala/consumer_complaints_classification/runs/jhnnrne5' target=\"_blank\">https://wandb.ai/edumunozsala/consumer_complaints_classification/runs/jhnnrne5</a><br/>Synced 6 W&B file(s), 0 media file(s), 8 artifact file(s) and 0 other file(s)"
      ],
      "text/plain": [
       "<IPython.core.display.HTML object>"
      ]
     },
     "metadata": {},
     "output_type": "display_data"
    },
    {
     "data": {
      "text/html": [
       "Find logs at: <code>./wandb/run-20231008_175813-jhnnrne5/logs</code>"
      ],
      "text/plain": [
       "<IPython.core.display.HTML object>"
      ]
     },
     "metadata": {},
     "output_type": "display_data"
    }
   ],
   "source": [
    "# Log artifacts\n",
    "run.log_artifact(evaluation_data_at)\n",
    "# Close connection\n",
    "wandb.finish()"
   ]
  },
  {
   "cell_type": "markdown",
   "metadata": {
    "id": "In55EToAN3GM"
   },
   "source": [
    "## Evaluate the model on the test dataset"
   ]
  },
  {
   "cell_type": "markdown",
   "metadata": {
    "id": "7LW4LPWbOJvE"
   },
   "source": [
    "Now, we evaluate the registered model on the test dataset to get the final performance of our model"
   ]
  },
  {
   "cell_type": "code",
   "execution_count": 41,
   "metadata": {
    "id": "uRzsyxlhOXHb",
    "tags": []
   },
   "outputs": [
    {
     "name": "stdout",
     "output_type": "stream",
     "text": [
      "345/345 [==============================] - 4s 11ms/step\n"
     ]
    },
    {
     "data": {
      "image/png": "[encoded data removed]",
      "text/plain": [
       "<Figure size 500x500 with 2 Axes>"
      ]
     },
     "metadata": {},
     "output_type": "display_data"
    }
   ],
   "source": [
    "# Evaluate the model\n",
    "df_report, df_val, conf_matrix = evaluate_model(model, X_test, X_test_vect, y_test, target_classes, config.log_preds)"
   ]
  },
  {
   "cell_type": "code",
   "execution_count": 79,
   "metadata": {
    "tags": []
   },
   "outputs": [
    {
     "data": {
      "text/html": [
       "<div>\n",
       "<style scoped>\n",
       "    .dataframe tbody tr th:only-of-type {\n",
       "        vertical-align: middle;\n",
       "    }\n",
       "\n",
       "    .dataframe tbody tr th {\n",
       "        vertical-align: top;\n",
       "    }\n",
       "\n",
       "    .dataframe thead th {\n",
       "        text-align: right;\n",
       "    }\n",
       "</style>\n",
       "<table border=\"1\" class=\"dataframe\">\n",
       "  <thead>\n",
       "    <tr style=\"text-align: right;\">\n",
       "      <th></th>\n",
       "      <th>category</th>\n",
       "      <th>precision</th>\n",
       "      <th>recall</th>\n",
       "      <th>f1-score</th>\n",
       "      <th>support</th>\n",
       "    </tr>\n",
       "  </thead>\n",
       "  <tbody>\n",
       "    <tr>\n",
       "      <th>0</th>\n",
       "      <td>credit_card</td>\n",
       "      <td>0.836509</td>\n",
       "      <td>0.839858</td>\n",
       "      <td>0.838180</td>\n",
       "      <td>2248.000000</td>\n",
       "    </tr>\n",
       "    <tr>\n",
       "      <th>1</th>\n",
       "      <td>debt_collection</td>\n",
       "      <td>0.838296</td>\n",
       "      <td>0.813333</td>\n",
       "      <td>0.825626</td>\n",
       "      <td>2250.000000</td>\n",
       "    </tr>\n",
       "    <tr>\n",
       "      <th>2</th>\n",
       "      <td>credit_reporting</td>\n",
       "      <td>0.826107</td>\n",
       "      <td>0.787556</td>\n",
       "      <td>0.806371</td>\n",
       "      <td>2250.000000</td>\n",
       "    </tr>\n",
       "    <tr>\n",
       "      <th>3</th>\n",
       "      <td>retail_banking</td>\n",
       "      <td>0.858377</td>\n",
       "      <td>0.885149</td>\n",
       "      <td>0.871557</td>\n",
       "      <td>2020.000000</td>\n",
       "    </tr>\n",
       "    <tr>\n",
       "      <th>4</th>\n",
       "      <td>mortgages_and_loans</td>\n",
       "      <td>0.849787</td>\n",
       "      <td>0.887556</td>\n",
       "      <td>0.868261</td>\n",
       "      <td>2250.000000</td>\n",
       "    </tr>\n",
       "    <tr>\n",
       "      <th>5</th>\n",
       "      <td>accuracy</td>\n",
       "      <td>0.841804</td>\n",
       "      <td>0.841804</td>\n",
       "      <td>0.841804</td>\n",
       "      <td>0.841804</td>\n",
       "    </tr>\n",
       "    <tr>\n",
       "      <th>6</th>\n",
       "      <td>macro avg</td>\n",
       "      <td>0.841815</td>\n",
       "      <td>0.842690</td>\n",
       "      <td>0.841999</td>\n",
       "      <td>11018.000000</td>\n",
       "    </tr>\n",
       "    <tr>\n",
       "      <th>7</th>\n",
       "      <td>weighted avg</td>\n",
       "      <td>0.841471</td>\n",
       "      <td>0.841804</td>\n",
       "      <td>0.841383</td>\n",
       "      <td>11018.000000</td>\n",
       "    </tr>\n",
       "  </tbody>\n",
       "</table>\n",
       "</div>"
      ],
      "text/plain": [
       "              category  precision    recall  f1-score       support\n",
       "0          credit_card   0.836509  0.839858  0.838180   2248.000000\n",
       "1      debt_collection   0.838296  0.813333  0.825626   2250.000000\n",
       "2     credit_reporting   0.826107  0.787556  0.806371   2250.000000\n",
       "3       retail_banking   0.858377  0.885149  0.871557   2020.000000\n",
       "4  mortgages_and_loans   0.849787  0.887556  0.868261   2250.000000\n",
       "5             accuracy   0.841804  0.841804  0.841804      0.841804\n",
       "6            macro avg   0.841815  0.842690  0.841999  11018.000000\n",
       "7         weighted avg   0.841471  0.841804  0.841383  11018.000000"
      ]
     },
     "metadata": {},
     "output_type": "display_data"
    },
    {
     "data": {
      "text/plain": [
       "0            credit_card\n",
       "1        debt_collection\n",
       "2       credit_reporting\n",
       "3         retail_banking\n",
       "4    mortgages_and_loans\n",
       "5               accuracy\n",
       "6              macro avg\n",
       "7           weighted avg\n",
       "Name: category, dtype: object"
      ]
     },
     "execution_count": 79,
     "metadata": {},
     "output_type": "execute_result"
    }
   ],
   "source": [
    "display(df_report)\n",
    "df_report['category']"
   ]
  },
  {
   "cell_type": "markdown",
   "metadata": {},
   "source": [
    "**The accuracy reachs the value 0.8418 for the test dataset**.\n"
   ]
  },
  {
   "cell_type": "code",
   "execution_count": 77,
   "metadata": {
    "tags": []
   },
   "outputs": [
    {
     "data": {
      "text/plain": [
       "'consumer_complaints_test_evaluation'"
      ]
     },
     "execution_count": 77,
     "metadata": {},
     "output_type": "execute_result"
    }
   ],
   "source": [
    "params.TESTEVALUATION_DATA_AT"
   ]
  },
  {
   "cell_type": "markdown",
   "metadata": {},
   "source": [
    "### Save the evaluation results on the Test dataaset as an artifact in W&B"
   ]
  },
  {
   "cell_type": "code",
   "execution_count": 78,
   "metadata": {
    "tags": []
   },
   "outputs": [
    {
     "data": {
      "text/html": [
       "wandb version 0.15.12 is available!  To upgrade, please run:\n",
       " $ pip install wandb --upgrade"
      ],
      "text/plain": [
       "<IPython.core.display.HTML object>"
      ]
     },
     "metadata": {},
     "output_type": "display_data"
    },
    {
     "data": {
      "text/html": [
       "Tracking run with wandb version 0.15.8"
      ],
      "text/plain": [
       "<IPython.core.display.HTML object>"
      ]
     },
     "metadata": {},
     "output_type": "display_data"
    },
    {
     "data": {
      "text/html": [
       "Run data is saved locally in <code>/home/studio-lab-user/sagemaker-studiolab-notebooks/wandb/run-20231008_105140-pluzoyij</code>"
      ],
      "text/plain": [
       "<IPython.core.display.HTML object>"
      ]
     },
     "metadata": {},
     "output_type": "display_data"
    },
    {
     "data": {
      "text/html": [
       "Syncing run <strong><a href='https://wandb.ai/edumunozsala/consumer_complaints_classification/runs/pluzoyij' target=\"_blank\">worldly-butterfly-75</a></strong> to <a href='https://wandb.ai/edumunozsala/consumer_complaints_classification' target=\"_blank\">Weights & Biases</a> (<a href='https://wandb.me/run' target=\"_blank\">docs</a>)<br/>"
      ],
      "text/plain": [
       "<IPython.core.display.HTML object>"
      ]
     },
     "metadata": {},
     "output_type": "display_data"
    },
    {
     "data": {
      "text/html": [
       " View project at <a href='https://wandb.ai/edumunozsala/consumer_complaints_classification' target=\"_blank\">https://wandb.ai/edumunozsala/consumer_complaints_classification</a>"
      ],
      "text/plain": [
       "<IPython.core.display.HTML object>"
      ]
     },
     "metadata": {},
     "output_type": "display_data"
    },
    {
     "data": {
      "text/html": [
       " View run at <a href='https://wandb.ai/edumunozsala/consumer_complaints_classification/runs/pluzoyij' target=\"_blank\">https://wandb.ai/edumunozsala/consumer_complaints_classification/runs/pluzoyij</a>"
      ],
      "text/plain": [
       "<IPython.core.display.HTML object>"
      ]
     },
     "metadata": {},
     "output_type": "display_data"
    }
   ],
   "source": [
    "# Init the wandb session in our project\n",
    "run = wandb.init(project=params.WANDB_PROJECT, entity=params.ENTITY, job_type=\"test_evaluation\")\n"
   ]
  },
  {
   "cell_type": "code",
   "execution_count": 80,
   "metadata": {
    "tags": []
   },
   "outputs": [],
   "source": [
    "run.summary[\"test_accuracy\"] = 0.841804"
   ]
  },
  {
   "cell_type": "code",
   "execution_count": 81,
   "metadata": {
    "tags": []
   },
   "outputs": [
    {
     "data": {
      "text/plain": [
       "<wandb.sdk.artifacts.artifact_manifest_entry.ArtifactManifestEntry at 0x7fbdfd714eb0>"
      ]
     },
     "execution_count": 81,
     "metadata": {},
     "output_type": "execute_result"
    }
   ],
   "source": [
    "#Create the artifact\n",
    "testevaluation_data_at = wandb.Artifact(params.TESTEVALUATION_DATA_AT, type=\"test_evaluation\")\n",
    "# Add the classifation report\n",
    "testevaluation_data_at.add_file(conf_matrix)\n",
    "# Save the classification report\n",
    "report_table = wandb.Table(dataframe=df_report)\n",
    "testevaluation_data_at.add(report_table, \"classification_report\")\n",
    "# Save evaluation data\n",
    "evaluation_table = wandb.Table(dataframe=df_val)\n",
    "testevaluation_data_at.add(evaluation_table, \"evaluation_table\")"
   ]
  },
  {
   "cell_type": "code",
   "execution_count": 82,
   "metadata": {
    "tags": []
   },
   "outputs": [
    {
     "data": {
      "text/html": [
       "Waiting for W&B process to finish... <strong style=\"color:green\">(success).</strong>"
      ],
      "text/plain": [
       "<IPython.core.display.HTML object>"
      ]
     },
     "metadata": {},
     "output_type": "display_data"
    },
    {
     "data": {
      "application/vnd.jupyter.widget-view+json": {
       "model_id": "8adc5ea2e64d4b87aa8ccf887ef76963",
       "version_major": 2,
       "version_minor": 0
      },
      "text/plain": [
       "VBox(children=(Label(value='13.915 MB of 13.915 MB uploaded (0.000 MB deduped)\\r'), FloatProgress(value=1.0, m…"
      ]
     },
     "metadata": {},
     "output_type": "display_data"
    },
    {
     "data": {
      "text/html": [
       "<style>\n",
       "    table.wandb td:nth-child(1) { padding: 0 10px; text-align: left ; width: auto;} td:nth-child(2) {text-align: left ; width: 100%}\n",
       "    .wandb-row { display: flex; flex-direction: row; flex-wrap: wrap; justify-content: flex-start; width: 100% }\n",
       "    .wandb-col { display: flex; flex-direction: column; flex-basis: 100%; flex: 1; padding: 10px; }\n",
       "    </style>\n",
       "<div class=\"wandb-row\"><div class=\"wandb-col\"><h3>Run summary:</h3><br/><table class=\"wandb\"><tr><td>test_accuracy</td><td>0.8418</td></tr></table><br/></div></div>"
      ],
      "text/plain": [
       "<IPython.core.display.HTML object>"
      ]
     },
     "metadata": {},
     "output_type": "display_data"
    },
    {
     "data": {
      "text/html": [
       " View run <strong style=\"color:#cdcd00\">worldly-butterfly-75</strong> at: <a href='https://wandb.ai/edumunozsala/consumer_complaints_classification/runs/pluzoyij' target=\"_blank\">https://wandb.ai/edumunozsala/consumer_complaints_classification/runs/pluzoyij</a><br/>Synced 5 W&B file(s), 0 media file(s), 3 artifact file(s) and 0 other file(s)"
      ],
      "text/plain": [
       "<IPython.core.display.HTML object>"
      ]
     },
     "metadata": {},
     "output_type": "display_data"
    },
    {
     "data": {
      "text/html": [
       "Find logs at: <code>./wandb/run-20231008_105140-pluzoyij/logs</code>"
      ],
      "text/plain": [
       "<IPython.core.display.HTML object>"
      ]
     },
     "metadata": {},
     "output_type": "display_data"
    }
   ],
   "source": [
    "# Log artifacts\n",
    "run.log_artifact(testevaluation_data_at)\n",
    "# Close connection\n",
    "wandb.finish()"
   ]
  }
 ],
 "metadata": {
  "colab": {
   "authorship_tag": "ABX9TyM2mMrZDvw0rNm3mbuDN0HJ",
   "private_outputs": true,
   "provenance": []
  },
  "kernelspec": {
   "display_name": "default:Python",
   "language": "python",
   "name": "conda-env-default-py"
  },
  "language_info": {
   "codemirror_mode": {
    "name": "ipython",
    "version": 3
   },
   "file_extension": ".py",
   "mimetype": "text/x-python",
   "name": "python",
   "nbconvert_exporter": "python",
   "pygments_lexer": "ipython3",
   "version": "3.9.16"
  }
 },
 "nbformat": 4,
 "nbformat_minor": 4
}
